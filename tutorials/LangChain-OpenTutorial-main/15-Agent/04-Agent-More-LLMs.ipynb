{
  "cells": [
    {
      "cell_type": "markdown",
      "id": "059756b7",
      "metadata": {},
      "source": [
        "# Tool Calling Agent with More LLM Models\n",
        "\n",
        "- Author: [JoonHo Kim](https://github.com/jhboyo)\n",
        "- Design: []()\n",
        "- Peer Review :\n",
        "- This is a part of [LangChain Open Tutorial](https://github.com/LangChain-OpenTutorial/LangChain-OpenTutorial)\n",
        "\n",
        "[![Open in Colab](https://colab.research.google.com/assets/colab-badge.svg)](https://colab.research.google.com/github/LangChain-OpenTutorial/LangChain-OpenTutorial/blob/main/06-DocumentLoader/04-CSV-Loader.ipynb) [![Open in GitHub](https://img.shields.io/badge/Open%20in%20GitHub-181717?style=flat-square&logo=github&logoColor=white)](https://github.com/LangChain-OpenTutorial/LangChain-OpenTutorial/blob/main/06-DocumentLoader/04-CSV-Loader.ipynb)\n",
        "\n",
        "\n",
        "## Overview\n",
        "LangChain is not limited to `OpenAI` models. It also supports implementations from diverse LLM providers such as `Anthropic`, `Google Gemini`, `Together.ai`, `Ollama`, and `Mistral`. This flexibility allows developers to leverage the unique characteristics and strengths of each model to create agents optimized specific requirements for their applications.\n",
        "\n",
        "**Key Topics**\n",
        "\n",
        "In this chapter, we will delve into the process of creating and executing tool-calling agents using various `LLMs`. Here are the key topics covered, we'll explore:\n",
        "\n",
        "- Tool Selection: How agents choose the most suitable tools for specific tasks.\n",
        "- `LLM` Integration: Integrating `LLMs` from `OpenAI` and other providers into LangChain to enable agent functionality.\n",
        "- Agent Creation: Creating agents using LangChain's agent classes.\n",
        "- Agent Execution: Executing agents to perform tasks.\n",
        "\n",
        "Objectives\n",
        "By the end of this chapter, you will be able to:\n",
        "\n",
        "- How to create and execute tool-calling agents using various `LLMs`.\n",
        "- Create automated workflows that call various tools using LangChain's agent classes.\n",
        "- Combine multiple `LLMs` to implement agents with optimized performance.\n",
        "\n",
        "Now, let’s explore how to maximize productivity using LangChain’s flexible agent framework. 🚀\n",
        "\n",
        "### Table of Contents\n",
        "\n",
        "- [Overview](#overview)\n",
        "- [Environment Setup](#environment-setup)\n",
        "- [List of LLMs Supporting Tool Calling](#list-of-llms-supporting-tool-calling)\n",
        "- [Working with Multiple LLM Integrations in LangChain](#working-with-multiple-llm-integrations-in-langchain)\n",
        "- [Creating tools](#creating-tools)\n",
        "- [Generating Prompts for Agents](#generating-prompts-for-agents)\n",
        "- [Generating an AgentExecutor, run it and review the results](#generating-an-agentexecutor-run-it-and-review-the-results)\n",
        "\n",
        "### References\n",
        "\n",
        "- [Tool Calling Agent](https://blog.langchain.dev/tool-calling-with-langchain/)\n",
        "- [LangChain ChatOpenAI](https://python.langchain.com/docs/integrations/chat/openai/)\n",
        "- [LangChain ChatAnthropic](https://python.langchain.com/docs/integrations/chat/anthropic/)\n",
        "- [LangChain ChatGoogleGenerativeAI](https://python.langchain.com/docs/integrations/providers/google/)\n",
        "- [LangChain ChatOllama](https://python.langchain.com/docs/integrations/providers/ollama/)\n",
        "- [LangChain ChatTogether](https://python.langchain.com/docs/integrations/providers/together/)\n",
        "----"
      ]
    },
    {
      "cell_type": "markdown",
      "id": "923a83b4",
      "metadata": {},
      "source": [
        "## Environment Setup\n",
        "\n",
        "Set up the environment. You may refer to [Environment Setup](https://wikidocs.net/257836) for more details.\n",
        "\n",
        "**[Note]**\n",
        "- `langchain-opentutorial` is a package that provides a set of easy-to-use environment setup, useful functions and utilities for tutorials. \n",
        "- You can checkout the [`langchain-opentutorial`](https://github.com/LangChain-OpenTutorial/langchain-opentutorial-pypi) for more details.\n",
        "- `langchain-ollama` is a package that provides a set of easy-to-use environment setup, useful functions and utilities for tutorials. "
      ]
    },
    {
      "cell_type": "code",
      "execution_count": 97,
      "id": "8e8ad1ef",
      "metadata": {},
      "outputs": [
        {
          "name": "stderr",
          "output_type": "stream",
          "text": [
            "WARNING: All log messages before absl::InitializeLog() is called are written to STDERR\n",
            "I0000 00:00:1737867095.902142  824462 fork_posix.cc:77] Other threads are currently calling into gRPC, skipping fork() handlers\n",
            "I0000 00:00:1737867098.495320  824462 fork_posix.cc:77] Other threads are currently calling into gRPC, skipping fork() handlers\n",
            "I0000 00:00:1737867101.236374  824462 fork_posix.cc:77] Other threads are currently calling into gRPC, skipping fork() handlers\n"
          ]
        }
      ],
      "source": [
        "%%capture --no-stderr\n",
        "%pip install -qU langchain-opentutorial\n",
        "%pip install -qU langchain-ollama==0.1.3\n",
        "%pip install -qU feedparser"
      ]
    },
    {
      "cell_type": "code",
      "execution_count": 98,
      "id": "446f6eba",
      "metadata": {},
      "outputs": [
        {
          "name": "stdout",
          "output_type": "stream",
          "text": [
            "Environment variables have been set successfully.\n"
          ]
        }
      ],
      "source": [
        "from dotenv import load_dotenv\n",
        "from langchain_opentutorial import set_env\n",
        "\n",
        "# Attempt to load environment variables from a .env file; if unsuccessful, set them manually.\n",
        "#if not load_dotenv():\n",
        "set_env(\n",
        "    {\n",
        "        \"OPENAI_API_KEY\": \"\",\n",
        "        \"ANTHROPIC_API_KEY\": \"\",\n",
        "        \"GOOGLE_API_KEY\": \"\",\n",
        "        \"OLLAMA_API_KEY\": \"\",\n",
        "        \"TOGETHER_API_KEY\": \"\",\n",
        "        \"LANGCHAIN_API_KEY\": \"\",\n",
        "        \"LANGCHAIN_TRACING_V2\": \"true\",\n",
        "        \"LANGCHAIN_ENDPOINT\": \"https://api.smith.langchain.com\",\n",
        "        \"LANGCHAIN_PROJECT\": \"Tool Calling Agent with More LLM Models\",\n",
        "    }\n",
        ")"
      ]
    },
    {
      "cell_type": "code",
      "execution_count": 99,
      "id": "70361e4a",
      "metadata": {},
      "outputs": [
        {
          "name": "stderr",
          "output_type": "stream",
          "text": [
            "I0000 00:00:1737867103.792724  824462 fork_posix.cc:77] Other threads are currently calling into gRPC, skipping fork() handlers\n"
          ]
        }
      ],
      "source": [
        "# Install required packages\n",
        "from langchain_opentutorial import package\n",
        "\n",
        "package.install(\n",
        "    [\n",
        "        \"langchain\",\n",
        "        \"langchain_openai\",\n",
        "        \"langchain_anthropic\",\n",
        "        \"langchain_google_genai\",\n",
        "        \"langchain_ollama\",\n",
        "        \"langchain_community\",\n",
        "        \"langchain_core\"\n",
        "    ],\n",
        "    verbose=False,\n",
        "    upgrade=False,\n",
        ")"
      ]
    },
    {
      "cell_type": "markdown",
      "id": "f5877653",
      "metadata": {},
      "source": [
        "\n",
        "## List of LLMs Supporting Tool Calling\n",
        "\n",
        "Before we proceed with the hands-on tutorial, you'll need to complete the following setup steps for each LLM you want to use:\n",
        "\n",
        "1. Obtain an API Kye: Follow the provided link to requiest an API key for each `LLM` call.\n",
        "2. Add the issued key to the `.env` file.\n",
        "\n",
        "\n",
        "**Anthropic**\n",
        "\n",
        "- [Anthropic API Key Issuance](https://console.anthropic.com/settings/keys)\n",
        "- Add the issued key `ANTHROPIC_API_KEY` to `.env` file.\n",
        "\n",
        "\n",
        "**Gemini**\n",
        "\n",
        "- [Gemini API Key Issuance](https://aistudio.google.com/app/apikey?hl=ko)\n",
        "- Add the issued key `GOOGLE_API_KEY` to `.env` file.\n",
        "\n",
        "\n",
        "**Ollama**\n",
        "- [List of Ollama Tool Calling Supported Models](https://ollama.com/search?c=tools)\n",
        "- Ollama uses a different approach. Instead of API keys, you'll need to install Ollama itself. Follow the instructions here to install Ollama: [Ollama installation](https://ollama.com)\n",
        "- This tutorial will use the [lama3.1 model](https://ollama.com/library/llama3.1)\n",
        "- After installing Ollama, you can download it using the following commands: `ollama pull llama3.1`\n",
        "- You can also download the `qwen2.5` model using the following command: `ollama pull qwen2.5`\n",
        "\n",
        "\n",
        "**Together AI**\n",
        "- [Together API Key Issuance](https://api.together.ai/)\n",
        "- Add the issued key `TOGETHER_API_KEY` to `.env` file.\n"
      ]
    },
    {
      "cell_type": "markdown",
      "id": "4f3e9011",
      "metadata": {},
      "source": [
        "## Working with Multiple LLM Integrations in LangChain\n",
        "This section guides you through integrating and configuring various `LLMs` in LangChain, allowing you to do experiments with different models from providers like `OpenAI`, `Anthropic`, `Google`, and others."
      ]
    },
    {
      "cell_type": "code",
      "execution_count": 100,
      "id": "265b2b64",
      "metadata": {},
      "outputs": [],
      "source": [
        "from langchain_anthropic import ChatAnthropic\n",
        "from langchain_google_genai import ChatGoogleGenerativeAI\n",
        "from langchain_openai import ChatOpenAI\n",
        "from langchain_ollama import ChatOllama\n",
        "import os\n",
        "\n",
        "# GPT-4o-mini\n",
        "gpt = ChatOpenAI(model=\"gpt-4o-mini\")\n",
        "\n",
        "# Claude-3-5-sonnet\n",
        "claude = ChatAnthropic(model=\"claude-3-5-sonnet-20240620\", temperature=0)\n",
        "\n",
        "# Gemini-1.5-pro-latest\n",
        "gemini = ChatGoogleGenerativeAI(model=\"gemini-1.5-pro\", temperature=0)\n",
        "\n",
        "# Llama-3.1-70B-Instruct-Turbo\n",
        "llama = ChatOpenAI(\n",
        "    base_url=\"https://api.together.xyz/v1\",\n",
        "    api_key=os.environ[\"TOGETHER_API_KEY\"],\n",
        "    model=\"meta-llama/Meta-Llama-3.1-70B-Instruct-Turbo\",\n",
        ")\n",
        "\n",
        "# Llama-3.1\n",
        "ollama = ChatOllama(model=\"llama3.1\", temperature=0)\n",
        "\n",
        "# Qwen2.5 7B \n",
        "qwen = ChatOllama(\n",
        "    model=\"qwen2.5:latest\",\n",
        ")"
      ]
    },
    {
      "cell_type": "markdown",
      "id": "486960e0",
      "metadata": {},
      "source": [
        "## Creating tools\n",
        "\n",
        "Before creating tools, we will build some functions to fetch news from websites based on user's input keywords.\n",
        "\n",
        "`_fetch_news(url: str, k: int = 3) -> List[Dict[str, str]]`: This funtion takes a URL as input and retrieves news articles from that source. The function returns a list of dictionaries.\n",
        " * Args: `url: str` is for fetching news articles. The `k: int = 3` (default: 3) is a number of news to fetch.\n",
        " * Return: `List[Dict[str, str]]` is a list of dictionaries that contains news title and link.\n",
        "\n",
        "`_collect_news(news_list: List[Dict[str, str]] -> List[Dict[str, str]]`: This function return a sorted list of the same news items.\n",
        " * Args: `news_list: List[Dict[str, str]]` is a list of dictionaries that contains news information.\n",
        " * Return: `List[Dict[str, str]]` is a list of dictionaries containing the URL and the full contents.\n",
        "\n",
        "`search_by_keyword(keyword: str, k: int = 3) -> List[Dict[str, str]]`: This funtion is the main entry point for searching news. It accepts a keyword and returns a list of dictionaries.\n",
        " * Args: `keyword: str` is a keyword to search. `k: int = 3`(default: 3) is a number of news to fetch.\n",
        " * Return: `List[Dict[str, str]]` is a list of dictionaries that contains the URL and contents.\n"
      ]
    },
    {
      "cell_type": "code",
      "execution_count": 101,
      "id": "9ea774db",
      "metadata": {},
      "outputs": [],
      "source": [
        "from typing import List, Dict, Optional\n",
        "from urllib.parse import quote\n",
        "import feedparser\n",
        "\n",
        "class GoogleNews:\n",
        "\n",
        "    def _fetch_news(self, url: str, k: int = 3) -> List[Dict[str, str]]:\n",
        "        news_data = feedparser.parse(url)\n",
        "        return [\n",
        "            {\"title\": entry.title, \"link\": entry.link}\n",
        "            for entry in news_data.entries[:k]\n",
        "        ]\n",
        "    \n",
        "    def _collect_news(self, news_list: List[Dict[str, str]]) -> List[Dict[str, str]]:\n",
        "        if not news_list:\n",
        "            print(\"There is no news for the keyword.\")\n",
        "            return []\n",
        "\n",
        "        result = []\n",
        "        for news in news_list:\n",
        "            result.append({\"url\": news[\"link\"], \"content\": news[\"title\"]})\n",
        "\n",
        "        return result\n",
        "\n",
        "    def search_by_keyword(\n",
        "            self, keyword: Optional[str] = None, k: int = 3\n",
        "        ) -> List[Dict[str, str]]:\n",
        "            \n",
        "            if keyword:\n",
        "                encoded_keyword = quote(keyword)\n",
        "                url = f\"https://news.google.com/rss/search?q={encoded_keyword}&hl=en&gl=US&ceid=US:en\"\n",
        "            else:\n",
        "                url = f\"https://news.google.com/rss?hl=en&gl=US&ceid=US:en\"\n",
        "\n",
        "            news_list = self._fetch_news(url, k)\n",
        "            return self._collect_news(news_list)"
      ]
    },
    {
      "cell_type": "markdown",
      "id": "3b482270",
      "metadata": {},
      "source": [
        "This set of functions enables a tool that can fetch relevant news from Google News Website based on user-provided input keywords."
      ]
    },
    {
      "cell_type": "markdown",
      "id": "92752342",
      "metadata": {},
      "source": [
        "Let's create tools."
      ]
    },
    {
      "cell_type": "code",
      "execution_count": 102,
      "id": "6b694c35",
      "metadata": {},
      "outputs": [
        {
          "name": "stdout",
          "output_type": "stream",
          "text": [
            "Tool Name: search_news\n",
            "Tool Description: Search Google News by input keyword\n"
          ]
        }
      ],
      "source": [
        "from langchain.tools import tool\n",
        "from typing import List, Dict\n",
        "\n",
        "@tool\n",
        "def search_news(query: str) -> List[Dict[str, str]]:\n",
        "    \"\"\"Search Google News by input keyword\"\"\"\n",
        "    news_tool = GoogleNews()\n",
        "    return news_tool.search_by_keyword(query, k=5)\n",
        "\n",
        "print(f\"Tool Name: {search_news.name}\")\n",
        "print(f\"Tool Description: {search_news.description}\")"
      ]
    },
    {
      "cell_type": "markdown",
      "id": "d079b5b9",
      "metadata": {},
      "source": [
        "\n"
      ]
    },
    {
      "cell_type": "code",
      "execution_count": 103,
      "id": "da936bf8",
      "metadata": {},
      "outputs": [],
      "source": [
        "tools = [search_news]"
      ]
    },
    {
      "cell_type": "markdown",
      "id": "8c5dc7d5",
      "metadata": {},
      "source": [
        "## Generating Prompts for Agents\n",
        "A prompt is text that describes the task the model will perform whose input is the tool name and its role.\n",
        "\n",
        "\n",
        "- `chat_history`: A variable that stores previous conversation history (can be omitted if multi-turn support is not required).\n",
        "- `agent_scratchpad`: A variable for temporary storage used by the agent.\n",
        "- `input`: The user's input."
      ]
    },
    {
      "cell_type": "code",
      "execution_count": 104,
      "id": "ea1677a8",
      "metadata": {},
      "outputs": [],
      "source": [
        "from langchain_core.prompts import ChatPromptTemplate\n",
        "from langchain.agents import create_tool_calling_agent\n",
        "\n",
        "prompt = ChatPromptTemplate.from_messages(\n",
        "    [\n",
        "        (\n",
        "            \"system\",\n",
        "            \"You are a helpful assistant.\"\n",
        "            \"Make sure to use the `search_news` tool for searching keyword related news.\",        ),\n",
        "        (\"placeholder\", \"{chat_history}\"),\n",
        "        (\"human\", \"{input}\"),\n",
        "        (\"placeholder\", \"{agent_scratchpad}\"),\n",
        "    ]\n",
        ")"
      ]
    },
    {
      "cell_type": "markdown",
      "id": "41401ee8",
      "metadata": {},
      "source": [
        "Let's generate agents per each `LLM` basis."
      ]
    },
    {
      "cell_type": "code",
      "execution_count": 105,
      "id": "1920a041",
      "metadata": {},
      "outputs": [],
      "source": [
        "gpt_agent = create_tool_calling_agent(gpt, tools, prompt)\n",
        "claude_agent = create_tool_calling_agent(claude, tools, prompt)\n",
        "gemini_agent = create_tool_calling_agent(gemini, tools, prompt)\n",
        "llama_agent = create_tool_calling_agent(llama, tools, prompt)\n",
        "ollama_agent = create_tool_calling_agent(ollama, tools, prompt)\n",
        "qwen_agent = create_tool_calling_agent(qwen, tools, prompt)"
      ]
    },
    {
      "cell_type": "markdown",
      "id": "3e14778c",
      "metadata": {},
      "source": [
        "## Generating an AgentExecutor"
      ]
    },
    {
      "cell_type": "markdown",
      "id": "5301cdaf",
      "metadata": {},
      "source": [
        "Now, let's import `AgentExecutor`, run agents, and review the outputs."
      ]
    },
    {
      "cell_type": "code",
      "execution_count": 106,
      "id": "1d8e843e",
      "metadata": {},
      "outputs": [
        {
          "name": "stdout",
          "output_type": "stream",
          "text": [
            "\n",
            "\n",
            "\u001b[1m> Entering new AgentExecutor chain...\u001b[0m\n",
            "\u001b[32;1m\u001b[1;3m\n",
            "Invoking: `search_news` with `{'query': 'AI Investment'}`\n",
            "\n",
            "\n",
            "\u001b[0m\u001b[36;1m\u001b[1;3m[{'url': 'https://news.google.com/rss/articles/CBMiqwFBVV95cUxOcU9jRHlEdXlNQnc1RmxFc3B5S2tqZmNSbjY0LVc3d3RSODlLUnpfcGc1T2RhcVJncC1oVUNFQ0xFbF8tNlZXQkRWSS1iVGJsc281OTlGRjEyLTAyaDg3dE5hV1o0TkJjVWxOWnZwb0JzLXZqcXpKUklJclVYMTE4dk9iQ0xyd0ZHOEtuSWVTWFNvN0VFZFpVWGRaaDN2MmxuZnRCLWJaSnJtNGs?oc=5', 'content': 'A $500bn investment plan says a lot about Trump’s AI priorities - The Economist'}, {'url': 'https://news.google.com/rss/articles/CBMihwFBVV95cUxQSDduczRjNDJkMFQwQk05aXMzQ21EY2hqZkxEdlpEZ1plX3NxalpGaEpwckdQM0tQa2ZqbkJGMkxReFFzeDFnRzY4U3dKMmdTUm1xeXpod1VoN1YzTzA4VDlHQVhzeXgxLTc3UjczVlMzdGhQWHZsMG5RdGZjY2pJRDBaUF9pWmc?oc=5', 'content': 'Tech titans bicker over $500bn AI investment announced by Trump - The Guardian'}, {'url': 'https://news.google.com/rss/articles/CBMilAFBVV95cUxOeGExNlIteFo5R09vclNhcHVKbjlnY010TGxmVWhsOW1LcWJidzFpSDNWUzNPbUlpM0l1bGd2a1FjRnFlMHBnbC1iR1FWVEU2dFRRczdpU3NYR0J1Y1lXNzNHeHgzMWxnSklPUTB6dTAzYzBDdDVfT3JyVnZkdVUydmg2c3RHWFI5MFFjNEl4cDVsZW5T?oc=5', 'content': 'Meta to invest up to $65 billion this year to power AI goals, Zuckerberg says - USA TODAY'}, {'url': 'https://news.google.com/rss/articles/CBMiugFBVV95cUxQSDc5RFFWN204N3J3X3lEdUF0RXVWOW1FNk9KVVZBNFQ4RndZTzVybFhURFVWVFRGLWJ1VGVsUGtTXzhLZVdRQ21CQ1VHUFoyWkhSZUJ6cFU4bUQ1dUlWX1p1c05TVkdnWk83UmJ6amQwbzlQTlNVSHl0alJfZmRKSTVJNUVfdmliSmo3anQ3cXlGUjdZUEwyY25pOGxmU3luRG5heVlsWHo0SDJBTWxGT3hjM0JhQ05xS0E?oc=5', 'content': 'Trump’s AI Push: Understanding The $500 Billion Stargate Initiative - Forbes'}, {'url': 'https://news.google.com/rss/articles/CBMingFBVV95cUxPRkhzc0UwM2l4N0pXSDFibkFvTnhOeVppSC15aTRRNW02VzhoWEhpVHp3d3gtb1p5NXNZLUd4TDJudjRSNFlnOE9BZUJtUm14UUlsMF9FNTBaZE1pNnZiaUxwdUI4RHBWS3FXMVFlVGxGQjJSbHRlcVNjV3pMWjRsQkhFV0FiWXNsRDVzOTBuTmZwUmJFcGE5QXIza3JVZw?oc=5', 'content': \"'What Is Great For The Country Isn't Always What's Optimal For Your Companies': Sam Altman Lashes Out At Elon Musk Amid Stargate Squabble - Investor's Business Daily\"}]\u001b[0m\u001b[32;1m\u001b[1;3mHere are some of the latest news about AI investment:\n",
            "\n",
            "* A $500bn investment plan says a lot about Trump’s AI priorities - The Economist\n",
            "* Tech titans bicker over $500bn AI investment announced by Trump - The Guardian\n",
            "* Meta to invest up to $65 billion this year to power AI goals, Zuckerberg says - USA TODAY\n",
            "* Trump’s AI Push: Understanding The $500 Billion Stargate Initiative - Forbes\n",
            "* 'What Is Great For The Country Isn't Always What's Optimal For Your Companies': Sam Altman Lashes Out At Elon Musk Amid Stargate Squabble - Investor's Business Daily\n",
            "\u001b[0m\n",
            "\n",
            "\u001b[1m> Finished chain.\u001b[0m\n",
            "Results of Agent Execution:\n",
            "Here are some of the latest news about AI investment:\n",
            "\n",
            "* A $500bn investment plan says a lot about Trump’s AI priorities - The Economist\n",
            "* Tech titans bicker over $500bn AI investment announced by Trump - The Guardian\n",
            "* Meta to invest up to $65 billion this year to power AI goals, Zuckerberg says - USA TODAY\n",
            "* Trump’s AI Push: Understanding The $500 Billion Stargate Initiative - Forbes\n",
            "* 'What Is Great For The Country Isn't Always What's Optimal For Your Companies': Sam Altman Lashes Out At Elon Musk Amid Stargate Squabble - Investor's Business Daily\n",
            "\n"
          ]
        }
      ],
      "source": [
        "from langchain.agents import AgentExecutor\n",
        "\n",
        "# execute gpt_agent\n",
        "agent_executor = AgentExecutor(\n",
        "    agent=gemini_agent,\n",
        "    tools=tools,\n",
        "    verbose=True,\n",
        "    handle_parsing_errors=True,\n",
        ")\n",
        "\n",
        "result = agent_executor.invoke({\"input\": \"Search the latest AI Investment news\"})\n",
        "\n",
        "print(\"Results of Agent Execution:\")\n",
        "print(result[\"output\"])"
      ]
    },
    {
      "cell_type": "markdown",
      "id": "433c7da6",
      "metadata": {},
      "source": [
        "The following function generates and runs an `agent` using the provided `LLM` and outputs the results."
      ]
    },
    {
      "cell_type": "code",
      "execution_count": 107,
      "id": "71ce609d",
      "metadata": {},
      "outputs": [],
      "source": [
        "def execute_agent(llm, tools, input_text, label):\n",
        "    \n",
        "    agent = create_tool_calling_agent(llm, tools, prompt)\n",
        "    executor = AgentExecutor(agent=agent, tools=tools, verbose=False)\n",
        "    result = executor.invoke({\"input\": input_text})\n",
        "    print(f\"Results from [{label}] \")\n",
        "\n",
        "    if isinstance(result[\"output\"], list) and len(result[\"output\"]) > 0:\n",
        "        for item in result[\"output\"]:\n",
        "            if \"text\" in item:\n",
        "                print(item[\"text\"])\n",
        "    elif isinstance(result[\"output\"], str):\n",
        "        print(result[\"output\"])\n",
        "    else:\n",
        "        print(result[\"output\"])"
      ]
    },
    {
      "cell_type": "markdown",
      "id": "e2213e2f",
      "metadata": {},
      "source": [
        "Generate and run agents for each LLM and outputs the results."
      ]
    },
    {
      "cell_type": "code",
      "execution_count": 108,
      "id": "96c5c75d",
      "metadata": {},
      "outputs": [],
      "source": [
        "query = (\n",
        "    \"Search for news related to AI investment and write the results in the format of an Instagram post.\"\n",
        ")"
      ]
    },
    {
      "cell_type": "code",
      "execution_count": 109,
      "id": "456f8c93",
      "metadata": {},
      "outputs": [
        {
          "name": "stdout",
          "output_type": "stream",
          "text": [
            "Results from [gpt] \n",
            "🌟 **AI Investment News Update!** 🌟\n",
            "\n",
            "🚀 Big moves in the AI world! Here’s what you need to know:\n",
            "\n",
            "1️⃣ **Trump’s $500bn AI Investment Plan** - A massive financial commitment that's shaping the future of AI! 💰🔍 [Read more](https://news.google.com/rss/articles/CBMiqwFBVV95cUxOcU9jRHlEdXlNQnc1RmxFc3B5S2tqZmNSbjY0LVc3d3RSODlLUnpfcGc1T2RhcVJncC1oVUNFQ0xFbF8tNlZXQkRWSS1iVGJsc281OTlGRjEyLTAyaDg3dE5hV1o0TkJjVWxOWnZwb0JzLXZqcXpKUklJclVYMTE4dk9iQ0xyd0ZHOEtuSWVTWFNvN0VFZFpVWGRaaDN2MmxuZnRCLWJaSnJtNGs?oc=5)\n",
            "\n",
            "2️⃣ **Tech Titans Clash** - The tech giants are bickering over the $500 billion investment announced by Trump! Who will come out on top? 🤔💥 [Check it out](https://news.google.com/rss/articles/CBMihwFBVV95cUxQSDduczRjNDJkMFQwQk05aXMzQ21EY2hqZkxEdlpEZ1plX3NxalpGaEpwckdQM0tQa2ZqbkJGMkxReFFzeDFnRzY4U3dKMmdTUm1xeXpod1VoN1YzTzA4VDlHQVhzeXgxLTc3UjczVlMzdGhQWHZsMG5RdGZjY2pJRDBaUF9pWmc?oc=5)\n",
            "\n",
            "3️⃣ **Meta's Bold Move** - Zuckerberg announces a staggering $65 billion investment this year to supercharge AI initiatives! 🔥🌐 [Learn more](https://news.google.com/rss/articles/CBMilAFBVV95cUxOeGExNlIteFo5R09vclNhcHVKbjlnY010TGxmVWhsOW1LcWJidzFpSDNWUzNPbUlpM0l1bGd2a1FjRnFlMHBnbC1iR1FWVEU2dFRRczdpU3NYR0J1Y1lXNzNHeHgzMWxnSklPUTB6dTAzYzBDdDVfT3JyVnZkdVUydmg2c3RHWFI5MFFjNEl4cDVsZW5T?oc=5)\n",
            "\n",
            "4️⃣ **Understanding the Stargate Initiative** - Dive into Trump’s ambitious $500 billion Stargate Initiative and its implications for AI! ✨🚀 [Discover here](https://news.google.com/rss/articles/CBMiugFBVV95cUxQSDc5RFFWN204N3J3X3lEdUF0RXVWOW1FNk9KVVZBNFQ4RndZTzVybFhURFVWVFRGLWJ1VGVsUGtTXzhLZVdRQ21CQ1VHUFoyWkhSZUJ6cFU4bUQ1dUlWX1p1c05TVkdnWk83UmJ6amQwbzlQTlNVSHl0alJfZmRKSTVJNUVfdmliSmo3anQ3cXlGUjdZUEwyY25pOGxmU3luRG5heVlsWHo0SDJBTWxGT3hjM0JhQ05xS0E?oc=5)\n",
            "\n",
            "5️⃣ **Altman vs. Musk** - A dramatic exchange between Sam Altman and Elon Musk over the implications of the Stargate Initiative! 🔥💬 [Read the details](https://news.google.com/rss/articles/CBMingFBVV95cUxPRkhzc0UwM2l4N0pXSDFibkFvTnhOeVppSC15aTRRNW02VzhoWEhpVHp3d3gtb1p5NXNZLUd4TDJudjRSNFlnOE9BZUJtUm14UUlsMF9FNTBaZE1pNnZiaUxwdUI4RHBWS3FXMVFlVGxGQjJSbHRlcVNjV3pMWjRsQkhFV0FiWXNsRDVzOTBuTmZwUmJFcGE5QXIza3JVZw?oc=5)\n",
            "\n",
            "Stay tuned for more updates on the world of AI! 🔍✨ #AIInvestment #TechNews #Innovation\n"
          ]
        }
      ],
      "source": [
        "# gpt\n",
        "execute_agent(gpt, tools, query, \"gpt\")"
      ]
    },
    {
      "cell_type": "code",
      "execution_count": 110,
      "id": "47c36e6b",
      "metadata": {},
      "outputs": [
        {
          "name": "stdout",
          "output_type": "stream",
          "text": [
            "Results from [claude] \n",
            "\n",
            "\n",
            "Now that I have the search results, I'll create an Instagram post format for you based on the AI investment news:\n",
            "\n",
            "📢 Breaking News: AI Investment Boom! 💰🤖\n",
            "\n",
            "🔥 Hot off the press: The AI world is buzzing with massive investment plans and tech titans are making big moves! Here's what you need to know:\n",
            "\n",
            "1️⃣ Trump's $500 Billion \"Stargate Initiative\" 🚀\n",
            "Former President Trump has announced a jaw-dropping $500 billion AI investment plan, sparking debates and setting priorities for the future of AI in the US.\n",
            "\n",
            "2️⃣ Tech Giants Clash 🥊\n",
            "The announcement has ignited a fierce debate among tech leaders. Elon Musk and Sam Altman are at odds over the initiative's impact on their companies vs. the country's interests.\n",
            "\n",
            "3️⃣ Meta's AI Power Play 💪\n",
            "Mark Zuckerberg isn't holding back! Meta plans to invest up to $65 billion this year alone to fuel their AI ambitions. Talk about going all-in! 🎰\n",
            "\n",
            "4️⃣ Global Impact 🌍\n",
            "The Economist weighs in on how Trump's massive AI investment plan could reshape priorities in the AI landscape worldwide.\n",
            "\n",
            "5️⃣ What's Next? 🔮\n",
            "As investments pour in and tech leaders take sides, the AI race is heating up like never before. Will this usher in a new era of innovation or widen the gap between tech giants?\n",
            "\n",
            "💡 What do you think about these massive AI investments? Are they a step in the right direction or cause for concern? Share your thoughts below! 👇\n",
            "\n",
            "#AIInvestment #TechNews #FutureOfAI #StargatePlan #MetaAI #TechGiants #InnovationRace\n",
            "\n",
            "📸: [Insert an relevant image here, perhaps a futuristic AI concept or a collage of tech leaders mentioned]\n",
            "\n",
            "Remember to stay informed and think critically about the impact of AI on our future! 🤔💡\n"
          ]
        }
      ],
      "source": [
        "# claude\n",
        "execute_agent(claude, tools, query, \"claude\")"
      ]
    },
    {
      "cell_type": "code",
      "execution_count": 111,
      "id": "eddc1886",
      "metadata": {},
      "outputs": [
        {
          "name": "stdout",
          "output_type": "stream",
          "text": [
            "Results from [gemini] \n",
            "⚡️ **AI Investment is Booming!** ⚡️\n",
            "\n",
            "The world of tech is buzzing with news about massive investments in Artificial Intelligence.  From Trump's proposed \\$500 billion Stargate Initiative to Meta's \\$65 billion commitment, the race to dominate the AI landscape is heating up.\n",
            "\n",
            "Want to stay ahead of the curve?  Check out these headlines:\n",
            "\n",
            "* **A $500bn investment plan says a lot about Trump’s AI priorities:** [Link to Economist article]\n",
            "* **Tech titans bicker over $500bn AI investment announced by Trump:** [Link to Guardian article]\n",
            "* **Meta to invest up to $65 billion this year to power AI goals, Zuckerberg says:** [Link to USA Today article]\n",
            "* **Trump’s AI Push: Understanding The $500 Billion Stargate Initiative:** [Link to Forbes article]\n",
            "* **'What Is Great For The Country Isn\\'t Always What\\'s Optimal For Your Companies\\': Sam Altman Lashes Out At Elon Musk Amid Stargate Squabble:** [Link to Investor's Business Daily article]\n",
            "\n",
            "\n",
            "#AI #Investment #TechNews #FutureTech #Innovation #StargateInitiative\n",
            "\n"
          ]
        }
      ],
      "source": [
        "# gemini\n",
        "execute_agent(gemini, tools, query, \"gemini\")"
      ]
    },
    {
      "cell_type": "code",
      "execution_count": 112,
      "id": "7a58b85e",
      "metadata": {},
      "outputs": [
        {
          "name": "stdout",
          "output_type": "stream",
          "text": [
            "Results from [llama3.1 70B] \n",
            "Here's a possible Instagram post based on the search results:\n",
            "\n",
            "\"Hey everyone! \n",
            "\n",
            "Want to stay up-to-date on the latest AI news? Here are some of the top stories from around the web:\n",
            "\n",
            "* How Chinese AI Startup DeepSeek Made a Model that Rivals OpenAI (via WIRED)\n",
            "* AI can now replicate itself — a milestone that has experts terrified (via Livescience.com)\n",
            "* Meta to Increase Spending to $65 Billion This Year in A.I. Push (via The New York Times)\n",
            "* 2 Artificial Intelligence (AI) Stocks That Could Make You a Millionaire (via The Motley Fool)\n",
            "* Trump Signs Executive Actions Related to Cryptocurrency, AI (via Bloomberg)\n",
            "\n",
            "Stay informed and ahead of the curve with these latest developments in the world of AI! #AI #ArtificialIntelligence #Technology #Innovation\"\n",
            "\n",
            " Sources:\n",
            "https://news.google.com/rss/articles/CBMiYkFVX3lxTE9KdENSTTNfNzF1OU0xaXY5U1hhcTJqcmlPYUViZGlNV3E3TVJ6bXVqQW8yWG14TVZWaTVIM0FSV3BxdTAtWjA5U2JpNzRFQ0p5a3FPd1F4a0ZxUWpPQzN1aW5R?oc=5\n",
            "https://news.google.com/rss/articles/CBMiyAFBVV95cUxQcUxGdk5MRFFOT0hoN3RRX1drTmpja2NRYmhwRGZVNUpQRFllcGw0dHlMeDEtSS1SSHgxQ1dSNFV2NWZ5S2gxRmxXVFptWTE0bU9SMHpwenRla1F4NWFlVWY3NVZkZ2xjQmEwc2NBbzMtdU5zdHBmdDBKQ2NaTEhpN3pjNHpqVkJxc18wQzd2TUJCSVR4VjNEcTh2Ti15enpRUGRwSVVsSllRM1JjeGVzLWxERmstVzBnQS1JS1hwbGFOel9aOHJyOQ?oc=5\n",
            "https://news.google.com/rss/articles/CBMidkFVX3lxTE1DOHIyamJTVm95dDVNRGladzF5cVNLYnlBcVJXTTgzXzJULXFWODlNVG5jS0hDazJHdjRVMFd5YWJGSTZ0VU9QOUplSmpoWGxsQm5UUjg1c3hfTnVtUjF4NmZvb09FVDh1RFRzTTZ0QnpDU2MtYUE?oc=5\n",
            "https://news.google.com/rss/articles/CBMimAFBVV95cUxQLTNUNXFiNVdRS2x0MHRvZnJfQ1NCdjdwSExsVzFYYy1meWpCUVMzbXlBYm84d0paRklGUkJIaVdSc1Q0ZGZ3UnBiZk9TTFVQSDUyRmMzZXl4cF9uUTQ1Y281MEF1S2RqaTFUREt1X3ZIYnFmOXprcjFBLV9NdE10dWZUZEROU0ZhaXE0RzUyQndwZnhQWWVDVw?oc=5\n",
            "https://news.google.com/rss/articles/CBMisAFBVV95cUxPWWJCSWhMb0ctdDNxcWY0N3N1RDhDM2VyZ2xIOVRhUGR2MWFnSmNmaVZZNHBVTkowRVNlVXJVNzRmRGhSZUpRY1pKS2VIbk04ZEsxRUM5THJrSDJfdFRKYXpKYi1oTkVKalZ3WVkzU1cyeHQ1ZjJ6NTlBMXhXd2RfeG9OZUc0b3ZBYTJYMEdKZ0U1VWtuWTRyZm9TZnphWEMyR2ZGVTZlTkFkUFNtTEtKZw?oc=5\n"
          ]
        }
      ],
      "source": [
        "# llama3.1 70B (Together.ai)\n",
        "execute_agent(\n",
        "    llama,\n",
        "    tools,\n",
        "    \"Search AI related news and write it in Instagram post format\",\n",
        "    \"llama3.1 70B\",\n",
        ")"
      ]
    },
    {
      "cell_type": "code",
      "execution_count": 113,
      "id": "5acd45a8",
      "metadata": {},
      "outputs": [
        {
          "name": "stdout",
          "output_type": "stream",
          "text": [
            "Results from [llama3.1(Ollama)] \n",
            "\"Breaking News!\n",
            "\n",
            "The future of AI is looking bright! \n",
            "\n",
            "Did you know that a $500 billion investment plan has been announced by Trump, prioritizing AI development? This massive investment aims to propel the US ahead in the global AI race.\n",
            "\n",
            "But what does this mean for tech titans like Meta and Google? They're already investing big in AI, with plans to spend up to $65 billion this year!\n",
            "\n",
            "And it's not just about the money - it's also about the vision. Trump's Stargate initiative aims to make the US a leader in AI innovation.\n",
            "\n",
            "But not everyone is on board. Elon Musk and Sam Altman are at odds over the plan, with some questioning its feasibility.\n",
            "\n",
            "Stay tuned for more updates on this exciting development!\n",
            "\n",
            "#AI #Investment #FutureOfTech\"\n"
          ]
        }
      ],
      "source": [
        "# llama3.1 8B (ollama)\n",
        "execute_agent(ollama, tools, query, \"llama3.1(Ollama)\")"
      ]
    },
    {
      "cell_type": "code",
      "execution_count": 114,
      "id": "6841a173",
      "metadata": {},
      "outputs": [
        {
          "name": "stdout",
          "output_type": "stream",
          "text": [
            "Results from [qwen2.5(Ollama)] \n",
            "🌟 [AI Investment News] 🌟\n",
            "\n",
            "A $500 billion investment plan says a lot about Trump’s AI priorities. #AI #Investment #TechNews \n",
            "\n",
            "✨ Tech titans bicker over the $500 billion AI investment announced by Trump, as per The Guardian. #AIInvestment #TechTitans\n",
            "\n",
            "🚀 Meta is planning to invest up to $65 billion this year to power its AI goals, according to USA TODAY. #Meta #AI #BusinessNews\n",
            "\n",
            "💡 Understanding the $500 billion Stargate initiative: Trump’s push for AI, as explained by Forbes. #StargateInitiative #AIInvestment\n",
            "\n",
            "📣 Sam Altman of Y Combinator lashes out at Elon Musk amid the Stargate squabble. Investor's Business Daily shares his thoughts on this tech controversy. #SamAltman #ElonMusk #TechControversy\n",
            "\n",
            "💡 These are some interesting insights and updates in AI investment news! Stay tuned for more developments. #AIUpdate #TechnologyTrends\n"
          ]
        }
      ],
      "source": [
        "# qwen2.5 7B (ollama)\n",
        "execute_agent(qwen, tools, query, \"qwen2.5(Ollama)\")"
      ]
    }
  ],
  "metadata": {
    "kernelspec": {
      "display_name": "langchain-opentutorial-nHTobcyW-py3.11",
      "language": "python",
      "name": "python3"
    },
    "language_info": {
      "codemirror_mode": {
        "name": "ipython",
        "version": 3
      },
      "file_extension": ".py",
      "mimetype": "text/x-python",
      "name": "python",
      "nbconvert_exporter": "python",
      "pygments_lexer": "ipython3",
      "version": "3.11.10"
    }
  },
  "nbformat": 4,
  "nbformat_minor": 5
}
