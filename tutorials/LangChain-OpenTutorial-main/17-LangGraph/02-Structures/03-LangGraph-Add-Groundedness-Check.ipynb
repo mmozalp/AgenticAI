{
 "cells": [
  {
   "cell_type": "markdown",
   "metadata": {},
   "source": [
    "# Add Groundedness Check\n",
    "\n",
    "- Author: [JeongGi Park](https://github.com/jeongkpa)\n",
    "- Design: []()\n",
    "- Peer Review: \n",
    "- This is a part of [LangChain Open Tutorial](https://github.com/LangChain-OpenTutorial/LangChain-OpenTutorial)\n",
    "\n",
    "[![Open in Colab](https://colab.research.google.com/assets/colab-badge.svg)](https://colab.research.google.com/github/LangChain-OpenTutorial/LangChain-OpenTutorial/blob/main/01-Basic/07-LCEL-Interface.ipynb) [![Open in GitHub](https://img.shields.io/badge/Open%20in%20GitHub-181717?style=flat-square&logo=github&logoColor=white)](https://github.com/LangChain-OpenTutorial/LangChain-OpenTutorial/blob/main/01-Basic/07-LCEL-Interface.ipynb)\n",
    "\n",
    "## Overview\n",
    "\n",
    "\n",
    "In this tutorial, we perform a Naive Retrieval-Augmented Generation (RAG) step and then add a relevance check (Groundedness Check) to evaluate how relevant the retrieved documents are for answering the question.\n",
    "\n",
    "\n",
    "\n",
    "### Table of Contents\n",
    "\n",
    "- [Overview](#overview)\n",
    "- [Environment Setup](#environment-setup)\n",
    "- [Basic PDF-based Retrieval Chain](#basic-pdf-based-retrieval-chain)\n",
    "- [Defining State](#defining-state)\n",
    "- [Degining Nodes](#degining-nodes)\n",
    "- [Defining Edges](#defining-edges)\n",
    "- [Running a graph](#running-a-graph)\n",
    "\n",
    "### References\n",
    "- [langgraph](https://langchain-ai.github.io/langgraph/)\n",
    "\n",
    "---"
   ]
  },
  {
   "cell_type": "markdown",
   "metadata": {},
   "source": [
    "## Environment Setup\n",
    "\n",
    "Set up the environment. You may refer to [Environment Setup](https://wikidocs.net/257836) for more details.\n",
    "\n",
    "**[Note]**\n",
    "- `langchain-opentutorial` is a package that provides a set of easy-to-use environment setup, useful functions and utilities for tutorials. \n",
    "- You can checkout the [`langchain-opentutorial`](https://github.com/LangChain-OpenTutorial/langchain-opentutorial-pypi) for more details."
   ]
  },
  {
   "cell_type": "code",
   "execution_count": 1,
   "metadata": {},
   "outputs": [],
   "source": [
    "%%capture --no-stderr\n",
    "%pip install langchain-opentutorial -U"
   ]
  },
  {
   "cell_type": "code",
   "execution_count": 2,
   "metadata": {},
   "outputs": [],
   "source": [
    "# Install required packages\n",
    "from langchain_opentutorial import package\n",
    "\n",
    "package.install(\n",
    "    [\n",
    "        \"langsmith\",\n",
    "        \"langchain-openai\",\n",
    "        \"langchain\",\n",
    "        \"python-dotenv\",\n",
    "        \"langchain-core\",     \n",
    "        \"langchain-opentutorial\"\n",
    "\n",
    "    ],\n",
    "    verbose=False,\n",
    "    upgrade=False,\n",
    ")"
   ]
  },
  {
   "cell_type": "code",
   "execution_count": 3,
   "metadata": {},
   "outputs": [
    {
     "name": "stdout",
     "output_type": "stream",
     "text": [
      "Environment variables have been set successfully.\n"
     ]
    }
   ],
   "source": [
    "# Set environment variables\n",
    "from langchain_opentutorial import set_env\n",
    "\n",
    "set_env(\n",
    "    {\n",
    "        \"OPENAI_API_KEY\": \"\",\n",
    "        \"LANGCHAIN_API_KEY\": \"\",\n",
    "        \"LANGCHAIN_TRACING_V2\": \"true\",\n",
    "        \"LANGCHAIN_ENDPOINT\": \"https://api.smith.langchain.com\",\n",
    "        \"LANGCHAIN_PROJECT\": \"Add Groundedness Check\",\n",
    "    },\n",
    ")"
   ]
  },
  {
   "cell_type": "markdown",
   "metadata": {},
   "source": [
    "[Note] If you are using a `.env` file, proceed as follows."
   ]
  },
  {
   "cell_type": "code",
   "execution_count": 4,
   "metadata": {},
   "outputs": [
    {
     "data": {
      "text/plain": [
       "True"
      ]
     },
     "execution_count": 4,
     "metadata": {},
     "output_type": "execute_result"
    }
   ],
   "source": [
    "from dotenv import load_dotenv\n",
    "\n",
    "load_dotenv(override=True)"
   ]
  },
  {
   "cell_type": "markdown",
   "metadata": {},
   "source": [
    "## Basic PDF-based Retrieval Chain\n",
    "\n",
    "In this section, we create a simple retrieval chain based on PDF documents. \n",
    "\n",
    "We separate the Retriever and Chain so that we can customize each node within LangGraph.\n",
    "\n",
    "![](./assets/03-langgraph-add-relevance-check.png)"
   ]
  },
  {
   "cell_type": "code",
   "execution_count": 5,
   "metadata": {},
   "outputs": [
    {
     "name": "stdout",
     "output_type": "stream",
     "text": [
      "PDF-based retrieval chain created.\n"
     ]
    }
   ],
   "source": [
    "from rag.base import RetrievalChain\n",
    "from langchain_community.document_loaders import PDFPlumberLoader\n",
    "from langchain_text_splitters import RecursiveCharacterTextSplitter\n",
    "from typing import List, Annotated\n",
    "\n",
    "\n",
    "class PDFRetrievalChain(RetrievalChain):\n",
    "    def __init__(self, source_uri: Annotated[str, \"Source URI\"]):\n",
    "        self.source_uri = source_uri\n",
    "        self.k = 10\n",
    "\n",
    "    def load_documents(self, source_uris: List[str]):\n",
    "        docs = []\n",
    "        for source_uri in source_uris:\n",
    "            loader = PDFPlumberLoader(source_uri)\n",
    "            docs.extend(loader.load())\n",
    "\n",
    "        return docs\n",
    "\n",
    "    def create_text_splitter(self):\n",
    "        return RecursiveCharacterTextSplitter(chunk_size=300, chunk_overlap=50)\n",
    "\n",
    "# Create a PDF-based retrieval chain\n",
    "pdf_chain_builder = PDFRetrievalChain([\n",
    "    \"./data/A European Approach to Artificial intelligence - A Policy Perspective.pdf\"  # Example PDF document\n",
    "])\n",
    "\n",
    "# The chain has two main components: retriever and chain\n",
    "pdf = pdf_chain_builder.create_chain()\n",
    "\n",
    "pdf_retriever = pdf.retriever\n",
    "pdf_chain = pdf.chain\n",
    "\n",
    "print(\"PDF-based retrieval chain created.\")\n"
   ]
  },
  {
   "cell_type": "markdown",
   "metadata": {},
   "source": [
    "## Defining State\n",
    "\n",
    "We define a `GraphState` that represents the shared state among nodes. \n",
    "\n",
    "It's typically a Python `TypedDict`. In this tutorial, the state includes a new key relevance to store the relevance check result."
   ]
  },
  {
   "cell_type": "code",
   "execution_count": 6,
   "metadata": {},
   "outputs": [
    {
     "name": "stdout",
     "output_type": "stream",
     "text": [
      "GraphState defined.\n"
     ]
    }
   ],
   "source": [
    "from typing import Annotated, TypedDict\n",
    "from langgraph.graph.message import add_messages\n",
    "\n",
    "class GraphState(TypedDict):\n",
    "    question: Annotated[str, \"Question\"]  # The user's question\n",
    "    context: Annotated[str, \"Context\"]    # The retrieved document context\n",
    "    answer: Annotated[str, \"Answer\"]      # The final answer\n",
    "    messages: Annotated[list, add_messages] # The conversation messages\n",
    "    relevance: Annotated[str, \"Relevance\"] # The relevance check (e.g., \"yes\" or \"no\")\n",
    "\n",
    "print(\"GraphState defined.\")\n"
   ]
  },
  {
   "cell_type": "markdown",
   "metadata": {},
   "source": [
    "## Degining Nodes\n",
    "\n",
    "Nodes perform each step in the graph. Each node is implemented as a Python function that:\n",
    "\n",
    "1. Takes the current `GraphState` as input.\n",
    "2. Performs certain logic.\n",
    "3. Returns an updated `GraphState`."
   ]
  },
  {
   "cell_type": "code",
   "execution_count": 7,
   "metadata": {},
   "outputs": [
    {
     "name": "stdout",
     "output_type": "stream",
     "text": [
      "Nodes defined.\n"
     ]
    }
   ],
   "source": [
    "from langchain_openai import ChatOpenAI\n",
    "from langchain_opentutorial.evaluator import GroundednessChecker\n",
    "from langchain_opentutorial.messages import messages_to_history\n",
    "\n",
    "def format_docs(docs):\n",
    "    return \"\\n\".join(\n",
    "        [\n",
    "            f\"<document><content>{doc.page_content}</content><source>{doc.metadata['source']}</source><page>{int(doc.metadata['page'])+1}</page></document>\"\n",
    "            for doc in docs\n",
    "        ]\n",
    "    )\n",
    "\n",
    "# Document retrieval node\n",
    "def retrieve_document(state: GraphState) -> GraphState:\n",
    "    # Get the latest question from state\n",
    "    latest_question = state[\"question\"]\n",
    "    \n",
    "    # Retrieve relevant documents from the PDF retriever\n",
    "    retrieved_docs = pdf_retriever.invoke(latest_question)\n",
    "    \n",
    "    # Format the retrieved documents for prompt usage\n",
    "    retrieved_docs_formatted = format_docs(retrieved_docs)\n",
    "    \n",
    "    # Store the formatted documents into the state context\n",
    "    return {\n",
    "        **state,\n",
    "        \"context\": retrieved_docs_formatted\n",
    "    }\n",
    "\n",
    "# Answer generation node\n",
    "def llm_answer(state: GraphState) -> GraphState:\n",
    "    # Get the latest question from state\n",
    "    latest_question = state[\"question\"]\n",
    "    # Get the retrieved documents from state\n",
    "    context = state[\"context\"]\n",
    "\n",
    "    # Generate answer using the chain\n",
    "    response = pdf_chain.invoke(\n",
    "        {\n",
    "            \"question\": latest_question,\n",
    "            \"context\": context,\n",
    "            \"chat_history\": messages_to_history(state[\"messages\"]),\n",
    "        }\n",
    "    )\n",
    "\n",
    "    # Update the state's answer and messages\n",
    "    return {\n",
    "        **state,\n",
    "        \"answer\": response,\n",
    "        \"messages\": state[\"messages\"] + [(\"user\", latest_question), (\"assistant\", response)],\n",
    "    }\n",
    "\n",
    "# Relevance check node\n",
    "def relevance_check(state: GraphState) -> GraphState:\n",
    "    # Create a relevance evaluator\n",
    "    question_retrieval_relevant = GroundednessChecker(\n",
    "        llm=ChatOpenAI(model=\"gpt-4o-mini\", temperature=0), \n",
    "        target=\"question-retrieval\"\n",
    "    ).create()\n",
    "\n",
    "    # Perform relevance check (expected to return \"yes\" or \"no\")\n",
    "    response = question_retrieval_relevant.invoke({\n",
    "        \"question\": state[\"question\"],\n",
    "        \"context\": state[\"context\"]\n",
    "    })\n",
    "\n",
    "    print(\"==== [RELEVANCE CHECK] ====\\n\", response.score)\n",
    "\n",
    "    return {\n",
    "        **state,\n",
    "        \"relevance\": response.score\n",
    "    }\n",
    "\n",
    "def is_relevant(state: GraphState) -> str:\n",
    "    if state[\"relevance\"] == \"yes\":\n",
    "        return \"relevant\"\n",
    "    else:\n",
    "        return \"not relevant\"\n",
    "\n",
    "print(\"Nodes defined.\")\n"
   ]
  },
  {
   "cell_type": "markdown",
   "metadata": {},
   "source": [
    "## Defining Edges\n",
    "\n",
    "Edges define which node is executed next, based on the current `GraphState`. \n",
    "\n",
    "We can create conditional edges to handle different logic flows."
   ]
  },
  {
   "cell_type": "code",
   "execution_count": 8,
   "metadata": {},
   "outputs": [
    {
     "name": "stdout",
     "output_type": "stream",
     "text": [
      "Graph compiled.\n"
     ]
    }
   ],
   "source": [
    "from langgraph.graph import END, StateGraph\n",
    "from langgraph.checkpoint.memory import MemorySaver\n",
    "\n",
    "# Create a graph with GraphState\n",
    "workflow = StateGraph(GraphState)\n",
    "\n",
    "# Add nodes\n",
    "workflow.add_node(\"retrieve\", retrieve_document)\n",
    "workflow.add_node(\"relevance_check\", relevance_check)\n",
    "workflow.add_node(\"llm_answer\", llm_answer)\n",
    "\n",
    "# Add edges\n",
    "workflow.add_edge(\"retrieve\", \"relevance_check\")\n",
    "\n",
    "# Add conditional edges from relevance_check to either llm_answer or retrieve again\n",
    "workflow.add_conditional_edges(\n",
    "    \"relevance_check\",\n",
    "    is_relevant,\n",
    "    {\n",
    "        \"relevant\": \"llm_answer\",\n",
    "        \"not relevant\": \"retrieve\"\n",
    "    },\n",
    ")\n",
    "\n",
    "# End after generating answer\n",
    "workflow.add_edge(\"llm_answer\", END)\n",
    "\n",
    "# Set the entry point\n",
    "workflow.set_entry_point(\"retrieve\")\n",
    "\n",
    "# Initialize a memory checkpoint\n",
    "memory = MemorySaver()\n",
    "\n",
    "# Compile the graph\n",
    "app = workflow.compile(checkpointer=memory)\n",
    "\n",
    "print(\"Graph compiled.\")\n"
   ]
  },
  {
   "cell_type": "markdown",
   "metadata": {},
   "source": [
    "### Visualizing the Graph"
   ]
  },
  {
   "cell_type": "code",
   "execution_count": 10,
   "metadata": {},
   "outputs": [
    {
     "data": {
      "image/png": "[encoded data removed]",
      "text/plain": [
       "<IPython.core.display.Image object>"
      ]
     },
     "metadata": {},
     "output_type": "display_data"
    },
    {
     "name": "stdout",
     "output_type": "stream",
     "text": [
      "Graph visualization displayed.\n"
     ]
    }
   ],
   "source": [
    "### Visualizing the Graph\n",
    "\n",
    "from langchain_opentutorial.graphs import visualize_graph\n",
    "\n",
    "visualize_graph(app)\n",
    "print(\"Graph visualization displayed.\")\n"
   ]
  },
  {
   "cell_type": "markdown",
   "metadata": {},
   "source": [
    "## Running a graph\n",
    "\n",
    "\n",
    "The `config` parameter passes configuration information required when running the graph.\n",
    "`recursion_limit`: Sets the maximum number of recursions when running the graph.\n",
    "`inputs`: Passes input information required when running the graph."
   ]
  },
  {
   "cell_type": "code",
   "execution_count": 11,
   "metadata": {},
   "outputs": [
    {
     "name": "stdout",
     "output_type": "stream",
     "text": [
      "==== [RELEVANCE CHECK] ====\n",
      " yes\n",
      "\n",
      "==================================================\n",
      "🔄 Node: \u001b[1;36mrelevance_check\u001b[0m 🔄\n",
      "- - - - - - - - - - - - - - - - - - - - - - - - - \n",
      "\u001b[1;32mquestion\u001b[0m:\n",
      "What are the three main principles of the European Union's approach to ensuring \"trustworthy AI,\" and why are they significant?\n",
      "\u001b[1;32mcontext\u001b[0m:\n",
      "<document><content>A EUROPEAN APPROACH TO ARTIFICIAL INTELLIGENCE - A POLICY PERSPECTIVE\n",
      "laws and regulation. Some negative examples have been given order to achieve ‘trustworthy AI’, three components are necessary:</content><source>./data/A European Approach to Artificial intelligence - A Policy Perspective.pdf</source><page>5</page></document>\n",
      "<document><content>(Teich & Tirias Research, 2018). Such examples are fuelling a va- trustworthy5. These policies culminated in the White Paper on AI\n",
      "riety of concerns about accountability, fairness, bias, autonomy, – A European Approach to Excellence and Trust (European Com-</content><source>./data/A European Approach to Artificial intelligence - A Policy Perspective.pdf</source><page>5</page></document>\n",
      "<document><content>A EUROPEAN APPROACH TO ARTIFICIAL INTELLIGENCE - A POLICY PERSPECTIVE\n",
      "data for innovators, particularly in the business-to-business (B2B) 4 https://ec.europa.eu/digital-single-market/en/news/ethics-guidelines-trustworthy-ai\n",
      "or government-to-citizens (G2C) domains: e.g. by open access to</content><source>./data/A European Approach to Artificial intelligence - A Policy Perspective.pdf</source><page>6</page></document>\n",
      "<document><content>A EUROPEAN APPROACH TO ARTIFICIAL INTELLIGENCE - A POLICY PERSPECTIVE\n",
      "CONSISTENCY, RELIABILITY, AND TRANS-\n",
      "PARENCY: ALL CONTEXT-DEPENDENT\n",
      "Many AI innovations are still emerging and in experimental phase,\n",
      "and as such they still have to prove their consistency and relia-</content><source>./data/A European Approach to Artificial intelligence - A Policy Perspective.pdf</source><page>7</page></document>\n",
      "<document><content>A EUROPEAN APPROACH TO ARTIFICIAL INTELLIGENCE - A POLICY PERSPECTIVE\n",
      "INTRODUCTION\n",
      "While a clear cut definition of Artificial Intelligence (AI) would be lives of EU citizens and bring major benefits to society and eco-</content><source>./data/A European Approach to Artificial intelligence - A Policy Perspective.pdf</source><page>4</page></document>\n",
      "<document><content>and mitigating risks and ensuring human rights and European va- with in the Health sector a system close to the current stepwise\n",
      "lues. approval processes for medicines and equipment.\n",
      "In addition, the following principles contribute to increase the po-\n",
      "sitive impact of AI applications:</content><source>./data/A European Approach to Artificial intelligence - A Policy Perspective.pdf</source><page>21</page></document>\n",
      "<document><content>A EUROPEAN APPROACH TO ARTIFICIAL INTELLIGENCE - A POLICY PERSPECTIVE\n",
      "in order to avoid biased decision and ensure fairness, we need to Current policy challenges and debates, besides geopolitical dis-</content><source>./data/A European Approach to Artificial intelligence - A Policy Perspective.pdf</source><page>8</page></document>\n",
      "<document><content>A EUROPEAN APPROACH TO ARTIFICIAL INTELLIGENCE - A POLICY PERSPECTIVE\n",
      "CONTENT\n",
      "EXECUTIVE SUMMARY 3\n",
      "INTRODUCTION\n",
      "CONSISTENCY, RELIABILITY, AND TRANSPARENCY: ALL CONTEXT-DEPENDENT 7\n",
      "AI GOVERNANCE REGIMES: SCENARIOS AND THEIR ASSESSMENT 8\n",
      "GENERIC AND CONTEXT DEPENDING OPPORTUNITIES AND POLICY LEVERS 9</content><source>./data/A European Approach to Artificial intelligence - A Policy Perspective.pdf</source><page>2</page></document>\n",
      "<document><content>cultural norms and face resistance (Hu et al, 2019). In Europe there tem of trust’ within an EU regulatory framework. The strategy set\n",
      "is an ongoing discussion on the legal and ethical challenges posed out in the White Paper is to build and retain trust in AI. This needs</content><source>./data/A European Approach to Artificial intelligence - A Policy Perspective.pdf</source><page>5</page></document>\n",
      "<document><content>A EUROPEAN APPROACH TO ARTIFICIAL INTELLIGENCE - A POLICY PERSPECTIVE\n",
      "Table 1: Generic: concerns, opportunities and policy levers.\n",
      "Concerns/\n",
      "Description Policy/Regulatory lever\n",
      "opportunities\n",
      "Data governance (data preparation, data flows, data Regulate and/or stimulate European interoperability,</content><source>./data/A European Approach to Artificial intelligence - A Policy Perspective.pdf</source><page>12</page></document>\n",
      "\u001b[1;32mrelevance\u001b[0m:\n",
      "yes\n",
      "==================================================\n",
      "\n",
      "==================================================\n",
      "🔄 Node: \u001b[1;36mllm_answer\u001b[0m 🔄\n",
      "- - - - - - - - - - - - - - - - - - - - - - - - - \n",
      "\u001b[1;32mquestion\u001b[0m:\n",
      "What are the three main principles of the European Union's approach to ensuring \"trustworthy AI,\" and why are they significant?\n",
      "\u001b[1;32mcontext\u001b[0m:\n",
      "<document><content>A EUROPEAN APPROACH TO ARTIFICIAL INTELLIGENCE - A POLICY PERSPECTIVE\n",
      "laws and regulation. Some negative examples have been given order to achieve ‘trustworthy AI’, three components are necessary:</content><source>./data/A European Approach to Artificial intelligence - A Policy Perspective.pdf</source><page>5</page></document>\n",
      "<document><content>(Teich & Tirias Research, 2018). Such examples are fuelling a va- trustworthy5. These policies culminated in the White Paper on AI\n",
      "riety of concerns about accountability, fairness, bias, autonomy, – A European Approach to Excellence and Trust (European Com-</content><source>./data/A European Approach to Artificial intelligence - A Policy Perspective.pdf</source><page>5</page></document>\n",
      "<document><content>A EUROPEAN APPROACH TO ARTIFICIAL INTELLIGENCE - A POLICY PERSPECTIVE\n",
      "data for innovators, particularly in the business-to-business (B2B) 4 https://ec.europa.eu/digital-single-market/en/news/ethics-guidelines-trustworthy-ai\n",
      "or government-to-citizens (G2C) domains: e.g. by open access to</content><source>./data/A European Approach to Artificial intelligence - A Policy Perspective.pdf</source><page>6</page></document>\n",
      "<document><content>A EUROPEAN APPROACH TO ARTIFICIAL INTELLIGENCE - A POLICY PERSPECTIVE\n",
      "CONSISTENCY, RELIABILITY, AND TRANS-\n",
      "PARENCY: ALL CONTEXT-DEPENDENT\n",
      "Many AI innovations are still emerging and in experimental phase,\n",
      "and as such they still have to prove their consistency and relia-</content><source>./data/A European Approach to Artificial intelligence - A Policy Perspective.pdf</source><page>7</page></document>\n",
      "<document><content>A EUROPEAN APPROACH TO ARTIFICIAL INTELLIGENCE - A POLICY PERSPECTIVE\n",
      "INTRODUCTION\n",
      "While a clear cut definition of Artificial Intelligence (AI) would be lives of EU citizens and bring major benefits to society and eco-</content><source>./data/A European Approach to Artificial intelligence - A Policy Perspective.pdf</source><page>4</page></document>\n",
      "<document><content>and mitigating risks and ensuring human rights and European va- with in the Health sector a system close to the current stepwise\n",
      "lues. approval processes for medicines and equipment.\n",
      "In addition, the following principles contribute to increase the po-\n",
      "sitive impact of AI applications:</content><source>./data/A European Approach to Artificial intelligence - A Policy Perspective.pdf</source><page>21</page></document>\n",
      "<document><content>A EUROPEAN APPROACH TO ARTIFICIAL INTELLIGENCE - A POLICY PERSPECTIVE\n",
      "in order to avoid biased decision and ensure fairness, we need to Current policy challenges and debates, besides geopolitical dis-</content><source>./data/A European Approach to Artificial intelligence - A Policy Perspective.pdf</source><page>8</page></document>\n",
      "<document><content>A EUROPEAN APPROACH TO ARTIFICIAL INTELLIGENCE - A POLICY PERSPECTIVE\n",
      "CONTENT\n",
      "EXECUTIVE SUMMARY 3\n",
      "INTRODUCTION\n",
      "CONSISTENCY, RELIABILITY, AND TRANSPARENCY: ALL CONTEXT-DEPENDENT 7\n",
      "AI GOVERNANCE REGIMES: SCENARIOS AND THEIR ASSESSMENT 8\n",
      "GENERIC AND CONTEXT DEPENDING OPPORTUNITIES AND POLICY LEVERS 9</content><source>./data/A European Approach to Artificial intelligence - A Policy Perspective.pdf</source><page>2</page></document>\n",
      "<document><content>cultural norms and face resistance (Hu et al, 2019). In Europe there tem of trust’ within an EU regulatory framework. The strategy set\n",
      "is an ongoing discussion on the legal and ethical challenges posed out in the White Paper is to build and retain trust in AI. This needs</content><source>./data/A European Approach to Artificial intelligence - A Policy Perspective.pdf</source><page>5</page></document>\n",
      "<document><content>A EUROPEAN APPROACH TO ARTIFICIAL INTELLIGENCE - A POLICY PERSPECTIVE\n",
      "Table 1: Generic: concerns, opportunities and policy levers.\n",
      "Concerns/\n",
      "Description Policy/Regulatory lever\n",
      "opportunities\n",
      "Data governance (data preparation, data flows, data Regulate and/or stimulate European interoperability,</content><source>./data/A European Approach to Artificial intelligence - A Policy Perspective.pdf</source><page>12</page></document>\n",
      "('user', 'What are the three main principles of the European Union\\'s approach to ensuring \"trustworthy AI,\" and why are they significant?')\n",
      "('assistant', 'The three main principles of the European Union\\'s approach to ensuring \"trustworthy AI\" are:\\n\\n1. **Consistency**: AI systems must operate reliably across different contexts.\\n2. **Reliability**: AI applications should demonstrate dependable performance.\\n3. **Transparency**: The processes and decisions made by AI systems should be clear and understandable.\\n\\nThese principles are significant as they aim to build and retain trust in AI technologies, ensuring they align with human rights and European values while mitigating risks associated with AI deployment.\\n\\n**Source**\\n- ./data/A European Approach to Artificial intelligence - A Policy Perspective.pdf (page 5)')\n",
      "\u001b[1;32mrelevance\u001b[0m:\n",
      "yes\n",
      "\u001b[1;32manswer\u001b[0m:\n",
      "The three main principles of the European Union's approach to ensuring \"trustworthy AI\" are:\n",
      "\n",
      "1. **Consistency**: AI systems must operate reliably across different contexts.\n",
      "2. **Reliability**: AI applications should demonstrate dependable performance.\n",
      "3. **Transparency**: The processes and decisions made by AI systems should be clear and understandable.\n",
      "\n",
      "These principles are significant as they aim to build and retain trust in AI technologies, ensuring they align with human rights and European values while mitigating risks associated with AI deployment.\n",
      "\n",
      "**Source**\n",
      "- ./data/A European Approach to Artificial intelligence - A Policy Perspective.pdf (page 5)\n",
      "==================================================\n",
      "\n",
      "--- OUTPUTS ---\n",
      "\n",
      "Question: What are the three main principles of the European Union's approach to ensuring \"trustworthy AI,\" and why are they significant?\n",
      "Answer:\n",
      " The three main principles of the European Union's approach to ensuring \"trustworthy AI\" are:\n",
      "\n",
      "1. **Consistency**: AI systems must operate reliably across different contexts.\n",
      "2. **Reliability**: AI applications should demonstrate dependable performance.\n",
      "3. **Transparency**: The processes and decisions made by AI systems should be clear and understandable.\n",
      "\n",
      "These principles are significant as they aim to build and retain trust in AI technologies, ensuring they align with human rights and European values while mitigating risks associated with AI deployment.\n",
      "\n",
      "**Source**\n",
      "- ./data/A European Approach to Artificial intelligence - A Policy Perspective.pdf (page 5)\n",
      "Relevance: yes\n"
     ]
    }
   ],
   "source": [
    "### Execute the Graph\n",
    "\n",
    "# Set a `recursion_limit` to prevent indefinite loops during relevance checks\n",
    "\n",
    "from langchain_core.runnables import RunnableConfig\n",
    "from langchain_opentutorial.messages import stream_graph, invoke_graph, random_uuid\n",
    "from langgraph.errors import GraphRecursionError\n",
    "\n",
    "# Create a configuration with recursion limit\n",
    "config = RunnableConfig(recursion_limit=20, configurable={\"thread_id\": random_uuid()})\n",
    "\n",
    "# Define the user question\n",
    "inputs = GraphState(question=\"What are the three main principles of the European Union's approach to ensuring \\\"trustworthy AI,\\\" and why are they significant?\")\n",
    "\n",
    "# Execute the graph\n",
    "try:\n",
    "    invoke_graph(app, inputs, config, [\"relevance_check\", \"llm_answer\"])\n",
    "    outputs = app.get_state(config)\n",
    "\n",
    "    # Access the values dictionary within StateSnapshot\n",
    "    output_values = outputs.values\n",
    "\n",
    "    # Display the results\n",
    "    print(\"\\n--- OUTPUTS ---\\n\")\n",
    "    print(\"Question:\", output_values[\"question\"])\n",
    "    print(\"Answer:\\n\", output_values[\"answer\"])\n",
    "    print(\"Relevance:\", output_values[\"relevance\"])\n",
    "except GraphRecursionError as recursion_error:\n",
    "    print(f\"GraphRecursionError: {recursion_error}\")\n",
    "except Exception as e:\n",
    "    print(f\"Unexpected Error: {e}\")\n"
   ]
  },
  {
   "cell_type": "markdown",
   "metadata": {},
   "source": [
    "However, if the `relevance_check` of the search result fails, the same query is repeatedly entered into the retrieve node.\n",
    "\n",
    "If the same query is repeatedly entered into the retrieve node, it will lead to the same search result, which will eventually lead to a recursion.\n",
    "\n",
    "To prevent possible recursion states, we set the maximum number of recursions (`recursion_limit`) and handle `GraphRecursionError` for error handling."
   ]
  }
 ],
 "metadata": {
  "kernelspec": {
   "display_name": "langchain-opentutorial-rx8cAt47-py3.11",
   "language": "python",
   "name": "python3"
  },
  "language_info": {
   "codemirror_mode": {
    "name": "ipython",
    "version": 3
   },
   "file_extension": ".py",
   "mimetype": "text/x-python",
   "name": "python",
   "nbconvert_exporter": "python",
   "pygments_lexer": "ipython3",
   "version": "3.11.9"
  }
 },
 "nbformat": 4,
 "nbformat_minor": 2
}
