{
  "cells": [
    {
      "cell_type": "markdown",
      "metadata": {},
      "source": [
        "# LCEL Interface\n",
        "\n",
        "- Author: [JeongGi Park](https://github.com/jeongkpa)\n",
        "- Design: []()\n",
        "- Peer Review: \n",
        "- This is a part of [LangChain Open Tutorial](https://github.com/LangChain-OpenTutorial/LangChain-OpenTutorial)\n",
        "\n",
        "[![Open in Colab](https://colab.research.google.com/assets/colab-badge.svg)](https://colab.research.google.com/github/LangChain-OpenTutorial/LangChain-OpenTutorial/blob/main/01-Basic/07-LCEL-Interface.ipynb) [![Open in GitHub](https://img.shields.io/badge/Open%20in%20GitHub-181717?style=flat-square&logo=github&logoColor=white)](https://github.com/LangChain-OpenTutorial/LangChain-OpenTutorial/blob/main/01-Basic/07-LCEL-Interface.ipynb)\n",
        "\n",
        "## Overview\n",
        "\n",
        "The LangChain Expression Language (LCEL) is a powerful interface designed to simplify the creation and management of custom chains in LangChain. \n",
        "It implements the Runnable protocol, providing a standardized way to build and execute language model chains.\n",
        "\n",
        "\n",
        "### Table of Contents\n",
        "\n",
        "- [Overview](#overview)\n",
        "- [Environment Setup](#environment-setup)\n",
        "- [LCEL Interface](#LCEL-Interface)\n",
        "- [stream: real-time output](#stream-real-time-output)\n",
        "- [Invoke](#invoke)\n",
        "- [batch: unit execution](#batch-unit-execution)\n",
        "- [async stream](#async-stream)\n",
        "- [async invoke](#async-invoke)\n",
        "- [async batch](#async-batch)\n",
        "- [Parallel](#parallel)\n",
        "- [Parallelism in batches](#parallelism-in-batches)\n",
        "\n",
        "### References\n",
        "\n",
        "- [Lnagsmith DOC](https://docs.smith.langchain.com/)\n",
        "---"
      ]
    },
    {
      "cell_type": "markdown",
      "metadata": {},
      "source": [
        "## Environment Setup\n",
        "\n",
        "Set up the environment. You may refer to [Environment Setup](https://wikidocs.net/257836) for more details.\n",
        "\n",
        "**[Note]**\n",
        "- `langchain-opentutorial` is a package that provides a set of easy-to-use environment setup, useful functions and utilities for tutorials. \n",
        "- You can checkout the [`langchain-opentutorial`](https://github.com/LangChain-OpenTutorial/langchain-opentutorial-pypi) for more details."
      ]
    },
    {
      "cell_type": "markdown",
      "metadata": {},
      "source": [
        "set environment variables is in .env.\n",
        "\n",
        "Copy the contents of .env_sample and load it into your .env with the key you set."
      ]
    },
    {
      "cell_type": "code",
      "execution_count": 7,
      "metadata": {},
      "outputs": [
        {
          "data": {
            "text/plain": [
              "True"
            ]
          },
          "execution_count": 7,
          "metadata": {},
          "output_type": "execute_result"
        }
      ],
      "source": [
        "from dotenv import load_dotenv\n",
        "\n",
        "load_dotenv(override=True)"
      ]
    },
    {
      "cell_type": "code",
      "execution_count": 1,
      "metadata": {},
      "outputs": [],
      "source": [
        "%%capture --no-stderr\n",
        "!pip install langchain-opentutorial"
      ]
    },
    {
      "cell_type": "code",
      "execution_count": 2,
      "metadata": {},
      "outputs": [],
      "source": [
        "# Install required packages\n",
        "from langchain_opentutorial import package\n",
        "\n",
        "package.install(\n",
        "    [\n",
        "        \"langsmith\",\n",
        "        \"langchain-openai\",\n",
        "        \"langchain\",\n",
        "        \"python-dotenv\",\n",
        "        \"langchain-core\",\n",
        "    ],\n",
        "    verbose=False,\n",
        "    upgrade=False,\n",
        ")"
      ]
    },
    {
      "cell_type": "code",
      "execution_count": 3,
      "metadata": {},
      "outputs": [
        {
          "name": "stdout",
          "output_type": "stream",
          "text": [
            "Environment variables have been set successfully.\n"
          ]
        }
      ],
      "source": [
        "# Set environment variables\n",
        "from langchain_opentutorial import set_env\n",
        "\n",
        "set_env(\n",
        "    {\n",
        "        \"OPENAI_API_KEY\": \"<Your OpenAI API KEY>\",\n",
        "        \"LANGCHAIN_API_KEY\": \"<Your LangChain API KEY>\",\n",
        "        \"LANGCHAIN_TRACING_V2\": \"true\",\n",
        "        \"LANGCHAIN_ENDPOINT\": \"https://api.smith.langchain.com\",\n",
        "        \"LANGCHAIN_PROJECT\": \"LangSmith-Tracking-Setup\",  # title 과 동일하게 설정해 주세요\n",
        "    }\n",
        ")"
      ]
    },
    {
      "cell_type": "markdown",
      "metadata": {},
      "source": [
        "## LCEL Interface\n",
        "\n",
        "---\n",
        "\n",
        "To make it as easy as possible to create custom chains, we've implemented the `Runnable` protocol.\n",
        "\n",
        "The `Runnable` protocol is implemented in most components.\n",
        "\n",
        "It is a standard interface that makes it easy to define custom chains and call them in a standard way. The standard interface includes\n",
        "\n",
        "- `stream`: Streams a chunk of the response.\n",
        "- `invoke`: Invoke a chain on an input.\n",
        "- `batch`: Invoke a chain against a list of inputs.\n",
        "\n",
        "There are also asynchronous methods\n",
        "\n",
        "- `astream`: Stream chunks of the response asynchronously.\n",
        "- `ainvoke`: Invoke a chain asynchronously on an input.\n",
        "- `abatch`: Asynchronously invoke a chain against a list of inputs.\n",
        "- `astream_log`: Streams the final response as well as intermediate steps as they occur.\n",
        "\n"
      ]
    },
    {
      "cell_type": "markdown",
      "metadata": {},
      "source": [
        "### Log your trace\n",
        "\n",
        "We provide multiple ways to log traces to LangSmith. Below, we'll highlight how to use traceable().\n",
        "\n",
        "Use the code below to record a trace in LangSmith\n",
        "\n",
        "```python\n",
        "import openai\n",
        "from langsmith import wrappers, traceable\n",
        "\n",
        "# Auto-trace LLM calls in-context\n",
        "client = wrappers.wrap_openai(openai.Client())\n",
        "\n",
        "@traceable # Auto-trace this function\n",
        "def pipeline(user_input: str):\n",
        "    result = client.chat.completions.create(\n",
        "        messages=[{\"role\": \"user\", \"content\": user_input}],\n",
        "        model=\"gpt-4o-mini\"\n",
        "    )\n",
        "    return result.choices[0].message.content\n",
        "\n",
        "pipeline(\"Hello, world!\")\n",
        "# Out:  Hello there! How can I assist you today?\n",
        "```\n"
      ]
    },
    {
      "cell_type": "markdown",
      "metadata": {},
      "source": [
        "Create a chain using LCEL syntax."
      ]
    },
    {
      "cell_type": "code",
      "execution_count": 5,
      "metadata": {},
      "outputs": [],
      "source": [
        "from langchain_openai import ChatOpenAI\n",
        "from langchain_core.prompts import PromptTemplate\n",
        "from langchain_core.output_parsers import StrOutputParser\n",
        "\n",
        "# Instantiate the ChatOpenAI model.\n",
        "model = ChatOpenAI()\n",
        "# Create a prompt template that asks for jokes on a given topic.\n",
        "prompt = PromptTemplate.from_template(\"Describe the {topic} in 3 sentences.\")\n",
        "# Connect the prompt and model to create a conversation chain.\n",
        "chain = prompt | model | StrOutputParser()"
      ]
    },
    {
      "cell_type": "markdown",
      "metadata": {},
      "source": [
        "## stream: real-time output\n",
        "\n",
        "This function uses the `chain.stream` method to create a stream of data for a given topic, iterating over it and immediately outputting the `content` of each piece of data. \n",
        "The `end=\"\"` argument disables newlines after output, and the `flush=True` argument causes the output buffer to be emptied immediately."
      ]
    },
    {
      "cell_type": "code",
      "execution_count": 6,
      "metadata": {},
      "outputs": [
        {
          "name": "stdout",
          "output_type": "stream",
          "text": [
            "The multimodal approach involves using multiple modes of communication, such as visual, auditory, and kinesthetic, to enhance learning and understanding. By incorporating different sensory inputs, learners are able to engage with material in a more holistic and immersive way. This approach is especially effective in catering to diverse learning styles and preferences."
          ]
        }
      ],
      "source": [
        "# Use the chain.stream method to create a stream of data for a given topic, iterating over it and immediately outputting the content of each piece of data. \n",
        "for token in chain.stream({\"topic\": \"multimodal\"}):\n",
        "    # Output the content of each piece of data without newlines.\n",
        "    print(token, end=\"\", flush=True)\n",
        "\n",
        "# example output \n",
        "# The multimodal approach involves using multiple modes of communication, such as visual, auditory, and kinesthetic, to enhance learning and understanding. By incorporating different sensory inputs, learners are able to engage with material in a more holistic and immersive way. This approach is especially effective in catering to diverse learning styles and preferences."
      ]
    },
    {
      "cell_type": "markdown",
      "metadata": {},
      "source": [
        "> The multimodal approach involves using multiple modes of communication, such as visual, auditory, and kinesthetic, to enhance learning and understanding. By incorporating different sensory inputs, learners are able to engage with material in a more holistic and immersive way. This approach is especially effective in catering to diverse learning styles and preferences."
      ]
    },
    {
      "cell_type": "markdown",
      "metadata": {},
      "source": [
        "## Invoke\n",
        "\n",
        "The `invoke` method of a `chain` object takes a topic as an argument and performs processing on that topic.\n",
        "\n",
        "\n",
        "\n",
        "\n"
      ]
    },
    {
      "cell_type": "code",
      "execution_count": 8,
      "metadata": {},
      "outputs": [
        {
          "data": {
            "text/plain": [
              "'ChatGPT is an AI-powered chatbot that uses natural language processing to engage in conversations with users. It is trained on a vast amount of text data to generate human-like responses and provide helpful information. ChatGPT can be used for customer support, virtual assistance, and general chit-chat.'"
            ]
          },
          "execution_count": 8,
          "metadata": {},
          "output_type": "execute_result"
        }
      ],
      "source": [
        "# Call the invoke method of the chain object, passing a dictionary with the topic 'ChatGPT'.\n",
        "chain.invoke({\"topic\": \"ChatGPT\"})"
      ]
    },
    {
      "cell_type": "markdown",
      "metadata": {},
      "source": [
        "> 'ChatGPT is an AI-powered chatbot that uses natural language processing to engage in conversations with users. It is trained on a vast amount of text data to generate human-like responses and provide helpful information. ChatGPT can be used for customer support, virtual assistance, and general chit-chat.'"
      ]
    },
    {
      "cell_type": "markdown",
      "metadata": {},
      "source": [
        "## batch: unit execution\n",
        "\n",
        "The function `chain.batch` takes a list containing multiple dictionaries as arguments and performs batch processing using the values of the `topic` key in each dictionary."
      ]
    },
    {
      "cell_type": "code",
      "execution_count": 9,
      "metadata": {},
      "outputs": [
        {
          "data": {
            "text/plain": [
              "['ChatGPT is a state-of-the-art conversational AI developed by OpenAI, capable of generating human-like responses in natural language conversations. It can understand and respond to a wide range of topics, providing engaging and coherent interactions with users. ChatGPT has been trained on massive amounts of text data to improve its language understanding and generate more contextually relevant responses.',\n",
              " 'Instagram is a social media platform where users can share photos and videos with their followers. It allows users to edit and filter their photos before posting them, as well as engage with other users through likes, comments, and direct messages. With over a billion active users, Instagram has become a popular way for people to connect, discover new content, and express themselves creatively.']"
            ]
          },
          "execution_count": 9,
          "metadata": {},
          "output_type": "execute_result"
        }
      ],
      "source": [
        "# Call a function to batch process a given list of topics\n",
        "chain.batch([{\"topic\": \"ChatGPT\"}, {\"topic\": \"Instagram\"}])"
      ]
    },
    {
      "cell_type": "markdown",
      "metadata": {},
      "source": [
        "> ['ChatGPT is a state-of-the-art conversational AI developed by OpenAI, capable of generating human-like responses in natural language conversations. It can understand and respond to a wide range of topics, providing engaging and coherent interactions with users. ChatGPT has been trained on massive amounts of text data to improve its language understanding and generate more contextually relevant responses.',\n",
        " 'Instagram is a social media platform where users can share photos and videos with their followers. It allows users to edit and filter their photos before posting them, as well as engage with other users through likes, comments, and direct messages. With over a billion active users, Instagram has become a popular way for people to connect, discover new content, and express themselves creatively.']"
      ]
    },
    {
      "cell_type": "markdown",
      "metadata": {},
      "source": [
        "You can use the `max_concurrency` parameter to set the number of concurrent requests\n",
        "|\n",
        "The `config` dictionary uses the `max_concurrency` key to set the maximum number of operations that can be processed concurrently. Here, it is set to process up to three jobs concurrently."
      ]
    },
    {
      "cell_type": "code",
      "execution_count": 10,
      "metadata": {},
      "outputs": [
        {
          "data": {
            "text/plain": [
              "['ChatGPT is an AI-powered chatbot developed by OpenAI that is capable of engaging in natural and human-like conversations. It uses a deep learning model trained on a vast amount of text data to generate responses and hold meaningful interactions with users. ChatGPT can assist with answering questions, providing recommendations, and engaging in casual conversation on a wide range of topics.',\n",
              " 'Instagram is a popular social media platform that allows users to share photos and videos with their followers. Users can also interact with each other by liking, commenting, and sharing posts. The platform also offers various filters and editing tools to enhance the visual appeal of the content.',\n",
              " 'Multimodal refers to the use of multiple modes of communication or expression, such as text, images, sound, and video, to convey information. It emphasizes the importance of utilizing different sensory channels to enhance understanding and engagement. By incorporating various modes of communication, multimodal approaches can cater to diverse learning styles and preferences.',\n",
              " 'Programming is the process of writing instructions for a computer to follow in order to perform a specific task. It involves using a programming language to create algorithms and code that can be executed by a computer. Programmers use their problem-solving skills and logical thinking to create efficient and effective solutions to various problems.',\n",
              " 'Machine learning is a type of artificial intelligence that involves training algorithms to learn from data and make predictions or decisions without being explicitly programmed. It uses statistical techniques to enable computers to improve their performance on a specific task through experience. Machine learning is used in a wide range of applications, from image and speech recognition to recommendation systems and autonomous vehicles.']"
            ]
          },
          "execution_count": 10,
          "metadata": {},
          "output_type": "execute_result"
        }
      ],
      "source": [
        "chain.batch(\n",
        "    [\n",
        "        {\"topic\": \"ChatGPT\"},\n",
        "        {\"topic\": \"Instagram\"},\n",
        "        {\"topic\": \"multimodal\"},\n",
        "        {\"topic\": \"programming\"},\n",
        "        {\"topic\": \"machineLearning\"},\n",
        "    ],\n",
        "    config={\"max_concurrency\": 3},\n",
        ")"
      ]
    },
    {
      "cell_type": "markdown",
      "metadata": {},
      "source": [
        "> ['ChatGPT is an AI-powered chatbot developed by OpenAI that is capable of engaging in natural and human-like conversations. It uses a deep learning model trained on a vast amount of text data to generate responses and hold meaningful interactions with users. ChatGPT can assist with answering questions, providing recommendations, and engaging in casual conversation on a wide range of topics.',\n",
        " 'Instagram is a popular social media platform that allows users to share photos and videos with their followers. Users can also interact with each other by liking, commenting, and sharing posts. The platform also offers various filters and editing tools to enhance the visual appeal of the content.',\n",
        " 'Multimodal refers to the use of multiple modes of communication or expression, such as text, images, sound, and video, to convey information. It emphasizes the importance of utilizing different sensory channels to enhance understanding and engagement. By incorporating various modes of communication, multimodal approaches can cater to diverse learning styles and preferences.',\n",
        " 'Programming is the process of writing instructions for a computer to follow in order to perform a specific task. It involves using a programming language to create algorithms and code that can be executed by a computer. Programmers use their problem-solving skills and logical thinking to create efficient and effective solutions to various problems.',\n",
        " 'Machine learning is a type of artificial intelligence that involves training algorithms to learn from data and make predictions or decisions without being explicitly programmed. It uses statistical techniques to enable computers to improve their performance on a specific task through experience. Machine learning is used in a wide range of applications, from image and speech recognition to recommendation systems and autonomous vehicles.']"
      ]
    },
    {
      "cell_type": "markdown",
      "metadata": {},
      "source": [
        "## async stream\n",
        "\n",
        "The function `chain.astream` creates an asynchronous stream and processes messages for a given topic asynchronously.\n",
        "\n",
        "It uses an asynchronous for loop (`async for`) to sequentially receive messages from the stream, and the print function to immediately print the contents of the messages (`s.content`). `end=\"\"` disables line wrapping after printing, and `flush=True` forces the output buffer to be emptied to ensure immediate printing.\n"
      ]
    },
    {
      "cell_type": "code",
      "execution_count": 11,
      "metadata": {},
      "outputs": [
        {
          "name": "stdout",
          "output_type": "stream",
          "text": [
            "YouTube is a popular video-sharing platform where users can upload, view, and share videos on a wide range of topics. It has become a go-to source for entertainment, education, and news, with millions of videos being watched daily by users all around the world. Content creators can monetize their videos through advertising, sponsorships, and merchandise sales."
          ]
        }
      ],
      "source": [
        "# Use an asynchronous stream to process messages in the 'YouTube' topic.\n",
        "async for token in chain.astream({\"topic\": \"YouTube\"}):\n",
        "    # Print the message content. Outputs directly without newlines and empties the buffer.\n",
        "    print(token, end=\"\", flush=True)"
      ]
    },
    {
      "cell_type": "markdown",
      "metadata": {},
      "source": [
        "> YouTube is a popular video-sharing platform where users can upload, view, and share videos on a wide range of topics. It has become a go-to source for entertainment, education, and news, with millions of videos being watched daily by users all around the world. Content creators can monetize their videos through advertising, sponsorships, and merchandise sales."
      ]
    },
    {
      "cell_type": "markdown",
      "metadata": {},
      "source": [
        "## async invoke\n",
        "\n",
        "The `ainvoke` method of a `chain` object performs an operation asynchronously with the given arguments. Here, we are passing a dictionary with a key named `topic` and a value named `NVDA` (NVIDIA's ticker) as arguments. This method can be used to asynchronously request processing for a specific topic."
      ]
    },
    {
      "cell_type": "code",
      "execution_count": 12,
      "metadata": {},
      "outputs": [],
      "source": [
        "# Handle the 'NVDA' topic by calling the 'ainvoke' method of the asynchronous chain object.\n",
        "my_process = chain.ainvoke({\"topic\": \"NVDA\"})"
      ]
    },
    {
      "cell_type": "code",
      "execution_count": 13,
      "metadata": {},
      "outputs": [
        {
          "data": {
            "text/plain": [
              "'The National Vision Doctor of Optometry Association (NVDA) is a professional organization representing optometrists across the United States. They provide resources, support, and advocacy for optometrists to ensure high-quality eye care for patients. The NVDA also works to promote the importance of regular eye exams and vision health awareness.'"
            ]
          },
          "execution_count": 13,
          "metadata": {},
          "output_type": "execute_result"
        }
      ],
      "source": [
        "# Wait for the asynchronous process to complete.\n",
        "await my_process"
      ]
    },
    {
      "cell_type": "markdown",
      "metadata": {},
      "source": [
        "> 'The National Vision Doctor of Optometry Association (NVDA) is a professional organization representing optometrists across the United States. They provide resources, support, and advocacy for optometrists to ensure high-quality eye care for patients. The NVDA also works to promote the importance of regular eye exams and vision health awareness.'"
      ]
    },
    {
      "cell_type": "markdown",
      "metadata": {},
      "source": [
        "## async batch\n",
        "\n",
        "The function `abatch` batches a series of actions asynchronously.\n",
        "\n",
        "In this example, we are using the `abatch` method of the `chain` object to asynchronously process actions on `topic` .\n",
        "\n",
        "The `await` keyword is used to wait for those asynchronous tasks to complete."
      ]
    },
    {
      "cell_type": "code",
      "execution_count": 14,
      "metadata": {},
      "outputs": [],
      "source": [
        "# Performs asynchronous batch processing on a given topic.\n",
        "my_abatch_process = chain.abatch(\n",
        "    [{\"topic\": \"YouTube\"}, {\"topic\": \"Instagram\"}, {\"topic\": \"Facebook\"}]\n",
        ")"
      ]
    },
    {
      "cell_type": "code",
      "execution_count": 15,
      "metadata": {},
      "outputs": [
        {
          "data": {
            "text/plain": [
              "['YouTube is a popular video-sharing platform where users can upload, share, and view a wide variety of content. It has millions of users worldwide and offers a vast array of videos, including music, tutorials, vlogs, and more. Users can also subscribe to channels, create playlists, and engage with other viewers through comments and likes.',\n",
              " 'Instagram is a popular social media platform where users can share photos and videos with their followers. It allows users to apply filters and editing tools to enhance their content before posting. Users can also interact with others by liking, commenting, and messaging on their posts.',\n",
              " 'Facebook is a social media platform that allows users to connect with friends and family, share photos and updates, and discover news and events. Users can create personal profiles, join groups, and interact with others through likes, comments, and messages. Mark Zuckerberg founded Facebook in 2004, and it has since become one of the most popular and influential social networking sites in the world.']"
            ]
          },
          "execution_count": 15,
          "metadata": {},
          "output_type": "execute_result"
        }
      ],
      "source": [
        "# Wait for the asynchronous batch process to complete.\n",
        "await my_abatch_process"
      ]
    },
    {
      "cell_type": "markdown",
      "metadata": {},
      "source": [
        "> ['YouTube is a popular video-sharing platform where users can upload, share, and view a wide variety of content. It has millions of users worldwide and offers a vast array of videos, including music, tutorials, vlogs, and more. Users can also subscribe to channels, create playlists, and engage with other viewers through comments and likes.',\n",
        " 'Instagram is a popular social media platform where users can share photos and videos with their followers. It allows users to apply filters and editing tools to enhance their content before posting. Users can also interact with others by liking, commenting, and messaging on their posts.',\n",
        " 'Facebook is a social media platform that allows users to connect with friends and family, share photos and updates, and discover news and events. Users can create personal profiles, join groups, and interact with others through likes, comments, and messages. Mark Zuckerberg founded Facebook in 2004, and it has since become one of the most popular and influential social networking sites in the world.']"
      ]
    },
    {
      "cell_type": "markdown",
      "metadata": {},
      "source": [
        "## Parallel\n",
        "\n",
        "Let's take a look at how the LangChain Expression Language supports parallel requests. For example, when you use `RunnableParallel` (often written in dictionary form), you execute each element in parallel.\n",
        "\n",
        "Here's an example of running two tasks in parallel using the `RunnableParallel` class in the `langchain_core.runnables` module.\n",
        "\n",
        "Create two chains (`chain1`, `chain2`) that use the `ChatPromptTemplate.from_template` method to get the capital and area for a given `country`.\n",
        "\n",
        "These chains are connected via the `model` and pipe (`|`) operators, respectively. Finally, we use the `RunnableParallel` class to combine these two chains with the keys `capital` and `area` to create a `combined` object that can be run in parallel."
      ]
    },
    {
      "cell_type": "code",
      "execution_count": 16,
      "metadata": {},
      "outputs": [],
      "source": [
        "from langchain_core.runnables import RunnableParallel\n",
        "\n",
        "# Create a chain that asks for the capital of {country}.\n",
        "chain1 = (\n",
        "    PromptTemplate.from_template(\"What is the capital of {country}?\")\n",
        "    | model\n",
        "    | StrOutputParser()\n",
        ")\n",
        "\n",
        "# Create a chain that asks for the area of {country}.\n",
        "chain2 = (\n",
        "    PromptTemplate.from_template(\"What is the area of {country}?\")\n",
        "    | model\n",
        "    | StrOutputParser()\n",
        ")\n",
        "\n",
        "# Create a parallel execution chain that generates the above two chains in parallel.\n",
        "combined = RunnableParallel(capital=chain1, area=chain2)"
      ]
    },
    {
      "cell_type": "markdown",
      "metadata": {},
      "source": [
        "The `chain1.invoke()` function calls the `invoke` method of the `chain1` object.\n",
        "\n",
        "As an argument, it passes a dictionary with the value `Canada` in the key named `country`."
      ]
    },
    {
      "cell_type": "code",
      "execution_count": 17,
      "metadata": {},
      "outputs": [
        {
          "data": {
            "text/plain": [
              "'The capital of Canada is Ottawa.'"
            ]
          },
          "execution_count": 17,
          "metadata": {},
          "output_type": "execute_result"
        }
      ],
      "source": [
        "# Run chain1 .\n",
        "chain1.invoke({\"country\": \"Canada\"})"
      ]
    },
    {
      "cell_type": "markdown",
      "metadata": {},
      "source": [
        "> 'The capital of Canada is Ottawa.'"
      ]
    },
    {
      "cell_type": "markdown",
      "metadata": {},
      "source": [
        "Call `chain2.invoke()`, this time passing a different country, the `United States`, for the country key."
      ]
    },
    {
      "cell_type": "code",
      "execution_count": 18,
      "metadata": {},
      "outputs": [
        {
          "data": {
            "text/plain": [
              "'The total area of the United States is approximately 3.8 million square miles.'"
            ]
          },
          "execution_count": 18,
          "metadata": {},
          "output_type": "execute_result"
        }
      ],
      "source": [
        "# Run chain2 .\n",
        "chain2.invoke({\"country\": \"USA\"})"
      ]
    },
    {
      "cell_type": "markdown",
      "metadata": {},
      "source": [
        "> 'The total area of the United States is approximately 3.8 million square miles.'"
      ]
    },
    {
      "cell_type": "markdown",
      "metadata": {},
      "source": [
        "The `invoke` method of the `combined` object performs the processing for the given `country`.\n",
        "\n",
        "In this example, the topic `USA` is passed to the `invoke` method to run."
      ]
    },
    {
      "cell_type": "code",
      "execution_count": 19,
      "metadata": {},
      "outputs": [
        {
          "data": {
            "text/plain": [
              "{'capital': 'Washington, D.C.',\n",
              " 'area': 'The total area of the United States is approximately 3.8 million square miles.'}"
            ]
          },
          "execution_count": 19,
          "metadata": {},
          "output_type": "execute_result"
        }
      ],
      "source": [
        "# Run a parallel execution chain.\n",
        "combined.invoke({\"country\": \"USA\"})"
      ]
    },
    {
      "cell_type": "markdown",
      "metadata": {},
      "source": [
        "> {'capital': 'Washington, D.C.',\n",
        " 'area': 'The total area of the United States is approximately 3.8 million square miles.'}"
      ]
    },
    {
      "cell_type": "markdown",
      "metadata": {},
      "source": [
        "## Parallelism in batches\n",
        "\n",
        "Parallelism can be combined with other executable code. Let's try using parallelism with batch.\n",
        "\n",
        "The `chain1.batch` function takes a list containing multiple dictionaries as an argument, and processes the values corresponding to the \"topic\" key in each dictionary. In this example, we're batch processing two topics, \"Canada\" and \"United States\"."
      ]
    },
    {
      "cell_type": "code",
      "execution_count": 20,
      "metadata": {},
      "outputs": [
        {
          "data": {
            "text/plain": [
              "['Ottawa', 'The capital of the United States of America is Washington, D.C.']"
            ]
          },
          "execution_count": 20,
          "metadata": {},
          "output_type": "execute_result"
        }
      ],
      "source": [
        "# Perform batch processing.\n",
        "chain1.batch([{\"country\": \"Canada\"}, {\"country\": \"USA\"}])\n"
      ]
    },
    {
      "cell_type": "markdown",
      "metadata": {},
      "source": [
        "> ['Ottawa', 'The capital of the United States of America is Washington, D.C.']"
      ]
    },
    {
      "cell_type": "markdown",
      "metadata": {},
      "source": [
        "The `chain2.batch` function takes in multiple dictionaries as a list and performs batch processing.\n",
        "\n",
        "In this example, we request processing for two countries, `Canada` and the `United States`."
      ]
    },
    {
      "cell_type": "code",
      "execution_count": 21,
      "metadata": {},
      "outputs": [
        {
          "data": {
            "text/plain": [
              "['The total area of Canada is approximately 9.98 million square kilometers.',\n",
              " 'The total area of the United States of America is approximately 3.8 million square miles.']"
            ]
          },
          "execution_count": 21,
          "metadata": {},
          "output_type": "execute_result"
        }
      ],
      "source": [
        "# Perform batch processing.\n",
        "chain2.batch([{\"country\": \"Canada\"}, {\"country\": \"USA\"}])\n"
      ]
    },
    {
      "cell_type": "markdown",
      "metadata": {},
      "source": [
        "> ['The total area of Canada is approximately 9.98 million square kilometers.',\n",
        " 'The total area of the United States of America is approximately 3.8 million square miles.']"
      ]
    },
    {
      "cell_type": "markdown",
      "metadata": {},
      "source": [
        "The combined.batch function is used to process the given data in batches. \n",
        "\n",
        "In this example, it takes a list containing two dictionary objects as arguments and batches data for two countries, Canada and the United States, respectively."
      ]
    },
    {
      "cell_type": "code",
      "execution_count": 22,
      "metadata": {},
      "outputs": [
        {
          "data": {
            "text/plain": [
              "[{'capital': 'The capital of Canada is Ottawa.',\n",
              "  'area': 'The total land area of Canada is approximately 9.98 million square kilometers.'},\n",
              " {'capital': 'The capital of USA is Washington, D.C.',\n",
              "  'area': 'The total land area of the United States is approximately 3.8 million square miles (9.8 million square kilometers).'}]"
            ]
          },
          "execution_count": 22,
          "metadata": {},
          "output_type": "execute_result"
        }
      ],
      "source": [
        "# Processes the given data in batches.\n",
        "combined.batch([{\"country\": \"Canada\"}, {\"country\": \"USA\"}])\n"
      ]
    },
    {
      "cell_type": "markdown",
      "metadata": {},
      "source": [
        "> [{'capital': 'The capital of Canada is Ottawa.',\n",
        "  'area': 'The total land area of Canada is approximately 9.98 million square kilometers.'},\n",
        " {'capital': 'The capital of USA is Washington, D.C.',\n",
        "  'area': 'The total land area of the United States is approximately 3.8 million square miles (9.8 million square kilometers).'}]"
      ]
    }
  ],
  "metadata": {
    "kernelspec": {
      "display_name": "langchain-opentutorial-cyV7o7ra-py3.11",
      "language": "python",
      "name": "python3"
    },
    "language_info": {
      "codemirror_mode": {
        "name": "ipython",
        "version": 3
      },
      "file_extension": ".py",
      "mimetype": "text/x-python",
      "name": "python",
      "nbconvert_exporter": "python",
      "pygments_lexer": "ipython3",
      "version": "3.11.9"
    }
  },
  "nbformat": 4,
  "nbformat_minor": 2
}