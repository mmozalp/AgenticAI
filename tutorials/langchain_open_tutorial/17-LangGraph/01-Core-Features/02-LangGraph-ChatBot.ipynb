{
  "cells": [
    {
      "cell_type": "markdown",
      "id": "635d8ebb",
      "metadata": {},
      "source": [
        "# Building a Basic Chatbot with LangGraph\n",
        "\n",
        "- Author: [r14minji](https://github.com/r14minji)\n",
        "- Design: \n",
        "- Peer Review: \n",
        "- This is a part of [LangChain Open Tutorial](https://github.com/LangChain-OpenTutorial/LangChain-OpenTutorial)\n",
        "\n",
        "[![Open in Colab](https://colab.research.google.com/assets/colab-badge.svg)](https://colab.research.google.com/github/LangChain-OpenTutorial/LangChain-OpenTutorial/blob/main/99-TEMPLATE/00-BASE-TEMPLATE-EXAMPLE.ipynb) [![Open in GitHub](https://img.shields.io/badge/Open%20in%20GitHub-181717?style=flat-square&logo=github&logoColor=white)](https://github.com/LangChain-OpenTutorial/LangChain-OpenTutorial/blob/main/99-TEMPLATE/00-BASE-TEMPLATE-EXAMPLE.ipynb)\n",
        "\n",
        "## Overview\n",
        "\n",
        "In this document, we explore how to build a simple chatbot using LangGraph, a framework that allows the creation of state machine-based chatbots. \n",
        "The process is broken down into manageable steps, covering key concepts like defining states, creating nodes, adding edges, compiling the graph, visualizing the chatbot structure, and finally executing the chatbot.\n",
        "\n",
        "### Table of Contents\n",
        "\n",
        "- [Overview](#overview)\n",
        "- [Environment Setup](#environment-setup)\n",
        "- [Step-by-Step: Understanding the Concepts](#step-by-step-understanding-the-concepts)\n",
        "- [Complete Code](#complete-code)\n",
        "\n",
        "\n",
        "### References\n",
        "\n",
        "- [LangChain](https://blog.langchain.dev/)\n",
        "- [LangGraph](https://www.langchain.com/langgraph)\n",
        "----"
      ]
    },
    {
      "cell_type": "markdown",
      "id": "c6c7aba4",
      "metadata": {},
      "source": [
        "## Environment Setup\n",
        "\n",
        "Setting up your environment is the first step. See the [Environment Setup](https://wikidocs.net/257836) guide for more details.\n",
        "\n",
        "\n",
        "**[Note]**\n",
        "\n",
        "The langchain-opentutorial is a package of easy-to-use environment setup guidance, useful functions and utilities for tutorials.\n",
        "Check out the  [`langchain-opentutorial`](https://github.com/LangChain-OpenTutorial/langchain-opentutorial-pypi) for more details."
      ]
    },
    {
      "cell_type": "code",
      "execution_count": 1,
      "id": "21943adb",
      "metadata": {},
      "outputs": [],
      "source": [
        "%%capture --no-stderr\n",
        "%pip install langchain-opentutorial"
      ]
    },
    {
      "cell_type": "code",
      "execution_count": 2,
      "id": "f25ec196",
      "metadata": {},
      "outputs": [],
      "source": [
        "# Install required packages\n",
        "from langchain_opentutorial import package\n",
        "\n",
        "package.install(\n",
        "    [\n",
        "        \"langsmith\",\n",
        "        \"langgraph\",\n",
        "        \"langchain_core\",\n",
        "        \"langchain_openai\",\n",
        "    ],\n",
        "    verbose=False,\n",
        "    upgrade=False,\n",
        ")"
      ]
    },
    {
      "cell_type": "code",
      "execution_count": 3,
      "id": "327c2c7c",
      "metadata": {},
      "outputs": [],
      "source": [
        "from dotenv import load_dotenv\n",
        "from langchain_opentutorial import set_env\n",
        "\n",
        "# Attempt to load environment variables from a .env file; if unsuccessful, set them manually.\n",
        "if not load_dotenv():\n",
        "    set_env(\n",
        "        {\n",
        "            \"OPENAI_API_KEY\": \"\",\n",
        "            \"LANGCHAIN_API_KEY\": \"\",\n",
        "            \"LANGCHAIN_TRACING_V2\": \"true\",\n",
        "            \"LANGCHAIN_ENDPOINT\": \"https://api.smith.langchain.com\",\n",
        "            \"LANGCHAIN_PROJECT\": \"\",  # set the project name same as the title\n",
        "        }\n",
        "    )"
      ]
    },
    {
      "cell_type": "markdown",
      "id": "690a9ae0",
      "metadata": {},
      "source": [
        "You can set API keys in a `.env` file or set them manually.\n",
        "\n",
        "[Note] If you’re not using the `.env` file, no worries! Just enter the keys directly in the cell below, and you’re good to go."
      ]
    },
    {
      "cell_type": "code",
      "execution_count": 4,
      "id": "2fd2e7fa",
      "metadata": {},
      "outputs": [
        {
          "data": {
            "text/plain": [
              "True"
            ]
          },
          "execution_count": 4,
          "metadata": {},
          "output_type": "execute_result"
        }
      ],
      "source": [
        "# Load API keys from .env file\n",
        "from dotenv import load_dotenv\n",
        "\n",
        "load_dotenv(override=True)"
      ]
    },
    {
      "cell_type": "markdown",
      "id": "aa00c3f4",
      "metadata": {},
      "source": [
        "## Step-by-Step: Understanding the Concepts\n",
        "\n",
        "By following these steps, you will have a functional and clearly structured chatbot built with LangGraph!\n",
        "\n",
        "### STEP 1. Defining the State\n",
        "\n",
        "- We start by defining the state of the chatbot using Python's `TypedDict` . The state keeps track of messages, which are updated as the conversation progresses."
      ]
    },
    {
      "cell_type": "code",
      "execution_count": 5,
      "id": "db5f2f4e",
      "metadata": {},
      "outputs": [],
      "source": [
        "from typing import Annotated, TypedDict\n",
        "from langgraph.graph import StateGraph, START, END\n",
        "from langgraph.graph.message import add_messages\n",
        "\n",
        "\n",
        "class State(TypedDict):\n",
        "    # Define messages (a list type, with the add_messages function used to append messages)\n",
        "    messages: Annotated[list, add_messages]\n"
      ]
    },
    {
      "cell_type": "markdown",
      "id": "440058ec",
      "metadata": {},
      "source": [
        "### STEP 2. Defining the Nodes\n",
        "\n",
        "- Add a \"chatbot\" node.\n",
        "- Nodes represent individual units of work and are typically implemented as regular Python functions."
      ]
    },
    {
      "cell_type": "code",
      "execution_count": 6,
      "id": "6025ce77",
      "metadata": {},
      "outputs": [],
      "source": [
        "from langchain_openai import ChatOpenAI\n",
        "\n",
        "# Define the LLM\n",
        "llm = ChatOpenAI(model=\"gpt-4o-mini\", temperature=0)\n",
        "\n",
        "\n",
        "# Define the chatbot function\n",
        "def chatbot(state: State):\n",
        "    # Invoke messages and return the result\n",
        "    return {\"messages\": [llm.invoke(state[\"messages\"])]}\n"
      ]
    },
    {
      "cell_type": "markdown",
      "id": "1636f841",
      "metadata": {},
      "source": [
        "### STEP 3. Defining the Graph and Add Nodes\n",
        "- Create a graph and include the defined nodes.\n",
        "- The \"chatbot\" node function takes the current State as input and returns a dictionary (`TypedDict` ) containing the updated list of messages under the key \"messages\".\n",
        "- The `add_messages` function in the State appends the LLM's response to the existing messages in the state."
      ]
    },
    {
      "cell_type": "code",
      "execution_count": 7,
      "id": "f632c47f",
      "metadata": {},
      "outputs": [
        {
          "data": {
            "text/plain": [
              "<langgraph.graph.state.StateGraph at 0x1193a8150>"
            ]
          },
          "execution_count": 7,
          "metadata": {},
          "output_type": "execute_result"
        }
      ],
      "source": [
        "# Create the graph\n",
        "graph_builder = StateGraph(State)\n",
        "\n",
        "# Add a node by specifying its name and the associated function or callable object\n",
        "graph_builder.add_node(\"chatbot\", chatbot)"
      ]
    },
    {
      "cell_type": "markdown",
      "id": "d9b14ba5",
      "metadata": {},
      "source": [
        "### STEP 4. Adding Graph Edges\n",
        "- Define the flow of the graph by adding edges:\n",
        "    - START: Specifies the entry point where the graph execution begins.\n",
        "    - END: Marks the termination point of the graph's flow."
      ]
    },
    {
      "cell_type": "code",
      "execution_count": 8,
      "id": "5f8bfa14",
      "metadata": {},
      "outputs": [
        {
          "data": {
            "text/plain": [
              "<langgraph.graph.state.StateGraph at 0x1193a8150>"
            ]
          },
          "execution_count": 8,
          "metadata": {},
          "output_type": "execute_result"
        }
      ],
      "source": [
        "# Add an edge from the start node to the chatbot node\n",
        "graph_builder.add_edge(START, \"chatbot\")"
      ]
    },
    {
      "cell_type": "code",
      "execution_count": 9,
      "id": "e3b5ea61",
      "metadata": {},
      "outputs": [
        {
          "data": {
            "text/plain": [
              "<langgraph.graph.state.StateGraph at 0x1193a8150>"
            ]
          },
          "execution_count": 9,
          "metadata": {},
          "output_type": "execute_result"
        }
      ],
      "source": [
        "# Add an edge from the chatbot node to the end node\n",
        "graph_builder.add_edge(\"chatbot\", END)"
      ]
    },
    {
      "cell_type": "markdown",
      "id": "d164c98e",
      "metadata": {},
      "source": [
        "### STEP 5. Compiling the Graph\n",
        "- To execute the graph, call the `compile()` method using the graph builder.\n",
        "- This generates a `CompiledGraph` , which can be invoked during runtime to process states."
      ]
    },
    {
      "cell_type": "code",
      "execution_count": 10,
      "id": "db00221f",
      "metadata": {},
      "outputs": [],
      "source": [
        "# Compile the graph\n",
        "graph = graph_builder.compile()"
      ]
    },
    {
      "cell_type": "markdown",
      "id": "cc5fcb00",
      "metadata": {},
      "source": [
        "### STEP 6. Visualizing the Graph\n",
        "- Visualizing the graph helps you understand its structure and how different nodes and edges are connected."
      ]
    },
    {
      "cell_type": "code",
      "execution_count": 11,
      "id": "2c518f92",
      "metadata": {},
      "outputs": [
        {
          "data": {
            "image/png": "[encoded data removed]",
            "text/plain": [
              "<IPython.core.display.Image object>"
            ]
          },
          "metadata": {},
          "output_type": "display_data"
        }
      ],
      "source": [
        "from IPython.display import Image, display\n",
        "from langchain_core.runnables.graph import MermaidDrawMethod\n",
        "\n",
        "# Visualize the graph\n",
        "display(\n",
        "    Image(\n",
        "        graph.get_graph().draw_mermaid_png(\n",
        "            draw_method=MermaidDrawMethod.API,\n",
        "        )\n",
        "    )\n",
        ")"
      ]
    },
    {
      "cell_type": "markdown",
      "id": "d0b8808b",
      "metadata": {},
      "source": [
        "\n",
        "### STEP 7. Running the Graph\n",
        "- Let's run the chatbot with a sample question!"
      ]
    },
    {
      "cell_type": "code",
      "execution_count": 12,
      "id": "28fa47d4",
      "metadata": {},
      "outputs": [
        {
          "name": "stdout",
          "output_type": "stream",
          "text": [
            "Assistant: New York City is home to a diverse and vibrant culinary scene, featuring a wide range of cuisines and dining experiences. Here are ten famous restaurants that are highly regarded and have made a significant impact on the city's dining landscape:\n",
            "\n",
            "1. **Eleven Madison Park** - Known for its innovative plant-based tasting menu and exceptional service, this Michelin-starred restaurant offers a unique fine dining experience in a stunning Art Deco setting.\n",
            "\n",
            "2. **Le Bernardin** - A celebrated French seafood restaurant, Le Bernardin is renowned for its elegant dishes and impeccable service. It has consistently received high accolades, including multiple Michelin stars.\n",
            "\n",
            "3. **Peter Luger Steak House** - A Brooklyn institution since 1887, Peter Luger is famous for its no-frills approach to steak, serving some of the best dry-aged beef in the city.\n",
            "\n",
            "4. **Katz's Delicatessen** - An iconic deli on the Lower East Side, Katz's is famous for its pastrami sandwiches and has been a beloved New York institution since 1888.\n",
            "\n",
            "5. **Momofuku Noodle Bar** - Founded by chef David Chang, this casual eatery is known for its delicious ramen and innovative Asian-inspired dishes, making it a must-visit for food lovers.\n",
            "\n",
            "6. **The Spotted Pig** - A gastropub in the West Village, The Spotted Pig is known for its cozy atmosphere and delicious British-inspired comfort food, including its famous burger.\n",
            "\n",
            "7. **Carbone** - This Italian-American restaurant in Greenwich Village is known for its classic dishes and vibrant atmosphere, making it a popular spot for both locals and tourists.\n",
            "\n",
            "8. **Blue Hill** - Located in Greenwich Village, Blue Hill focuses on farm-to-table dining, featuring seasonal ingredients sourced from local farms. The menu changes frequently to reflect the freshest produce.\n",
            "\n",
            "9. **Balthazar** - A bustling French brasserie in SoHo, Balthazar is known for its classic French dishes, bakery items, and lively atmosphere, making it a favorite for brunch and dinner.\n",
            "\n",
            "10. **Shake Shack** - While it started as a food cart in Madison Square Park, Shake Shack has become a global phenomenon known for its delicious burgers, crinkle-cut fries, and shakes.\n",
            "\n",
            "These restaurants represent a mix of fine dining, casual eateries, and iconic spots that showcase the culinary diversity of New York City. Reservations are often recommended, especially for the more popular establishments.\n"
          ]
        }
      ],
      "source": [
        "question = \"Recommend the top 10 famous restaurants in New York\"\n",
        "\n",
        "# Stream the graph events\n",
        "for event in graph.stream({\"messages\": [(\"user\", question)]}):\n",
        "    # Print the event values\n",
        "    for value in event.values():\n",
        "        print(\"Assistant:\", value[\"messages\"][-1].content)"
      ]
    },
    {
      "cell_type": "markdown",
      "id": "69ff62f6",
      "metadata": {},
      "source": [
        "## Complete Code\n",
        "\n",
        "This code provides the full process of creating a simple chatbot using LangGraph, including defining the state, nodes, edges, compiling the graph, visualizing it, and running it with a user query."
      ]
    },
    {
      "cell_type": "code",
      "execution_count": 13,
      "id": "baf73811",
      "metadata": {},
      "outputs": [
        {
          "data": {
            "image/png": "[encoded data removed]",
            "text/plain": [
              "<IPython.core.display.Image object>"
            ]
          },
          "metadata": {},
          "output_type": "display_data"
        },
        {
          "name": "stdout",
          "output_type": "stream",
          "text": [
            "Assistant: New York City is home to a diverse and vibrant culinary scene, featuring a wide range of cuisines and dining experiences. Here are ten famous restaurants that are highly regarded and have made a significant impact on the city's food culture:\n",
            "\n",
            "1. **Eleven Madison Park** - Known for its innovative plant-based tasting menu and exceptional service, this Michelin-starred restaurant offers a unique fine dining experience in a stunning Art Deco setting.\n",
            "\n",
            "2. **Le Bernardin** - A celebrated French seafood restaurant, Le Bernardin is renowned for its elegant dishes and impeccable service. It has consistently received high accolades, including multiple Michelin stars.\n",
            "\n",
            "3. **Katz's Delicatessen** - An iconic deli famous for its pastrami sandwiches, Katz's has been a staple of New York's culinary scene since 1888. It's a must-visit for a classic New York experience.\n",
            "\n",
            "4. **Peter Luger Steak House** - Established in 1887, this legendary steakhouse in Williamsburg is famous for its no-frills atmosphere and top-quality steaks, particularly the porterhouse.\n",
            "\n",
            "5. **Momofuku Noodle Bar** - Founded by chef David Chang, this casual eatery is known for its delicious ramen and innovative Asian-inspired dishes, making it a favorite among locals and visitors alike.\n",
            "\n",
            "6. **The Spotted Pig** - A gastropub in the West Village, The Spotted Pig is known for its cozy atmosphere and delicious British-inspired fare, including its famous burger and shepherd's pie.\n",
            "\n",
            "7. **Carbone** - This Italian-American restaurant in Greenwich Village is celebrated for its classic dishes and retro ambiance. Reservations are highly sought after, and the spicy rigatoni vodka is a standout.\n",
            "\n",
            "8. **Blue Hill** - Located in Greenwich Village, Blue Hill focuses on farm-to-table dining, featuring seasonal ingredients sourced from local farms. The tasting menu highlights the best of what the region has to offer.\n",
            "\n",
            "9. **Shake Shack** - Starting as a food cart in Madison Square Park, Shake Shack has become a beloved fast-casual chain known for its burgers, crinkle-cut fries, and shakes. It's a quintessential New York experience.\n",
            "\n",
            "10. **Balthazar** - A bustling French brasserie in SoHo, Balthazar is famous for its classic French dishes, bakery items, and vibrant atmosphere. It's a popular spot for brunch and dinner alike.\n",
            "\n",
            "These restaurants represent just a fraction of the incredible dining options available in New York City, each offering a unique taste of the city's culinary landscape. Reservations are often recommended, especially for the more popular spots!\n"
          ]
        }
      ],
      "source": [
        "from typing import Annotated, TypedDict\n",
        "from langgraph.graph import StateGraph, START, END\n",
        "from langgraph.graph.message import add_messages\n",
        "from langchain_openai import ChatOpenAI\n",
        "from IPython.display import Image, display\n",
        "from langchain_core.runnables.graph import MermaidDrawMethod\n",
        "\n",
        "# STEP 1: Define the State\n",
        "class State(TypedDict):\n",
        "    # Define messages (a list type, with the add_messages function used to append messages)\n",
        "    messages: Annotated[list, add_messages]\n",
        "\n",
        "# STEP 2: Define the LLM\n",
        "llm = ChatOpenAI(model=\"gpt-4o-mini\", temperature=0)\n",
        "\n",
        "# STEP 3: Define the chatbot function\n",
        "def chatbot(state: State):\n",
        "    # Invoke messages and return the result\n",
        "    return {\"messages\": [llm.invoke(state[\"messages\"])]}\n",
        "\n",
        "# STEP 4: Create the graph\n",
        "graph_builder = StateGraph(State)\n",
        "\n",
        "# STEP 5: Add nodes\n",
        "graph_builder.add_node(\"chatbot\", chatbot)\n",
        "\n",
        "# STEP 6: Add edges\n",
        "graph_builder.add_edge(START, \"chatbot\")\n",
        "graph_builder.add_edge(\"chatbot\", END)\n",
        "\n",
        "# STEP 7: Compile the graph\n",
        "graph = graph_builder.compile()\n",
        "\n",
        "# STEP 8: Visualize the graph\n",
        "display(\n",
        "    Image(\n",
        "        graph.get_graph().draw_mermaid_png(\n",
        "            draw_method=MermaidDrawMethod.API,\n",
        "        )\n",
        "    )\n",
        ")\n",
        "\n",
        "# STEP 9: Run the graph with a sample question\n",
        "question = \"Recommend the top 10 famous restaurants in New York\"\n",
        "\n",
        "# Stream the graph events\n",
        "for event in graph.stream({\"messages\": [(\"user\", question)]}):\n",
        "    # Print the event values\n",
        "    for value in event.values():\n",
        "        print(\"Assistant:\", value[\"messages\"][-1].content)"
      ]
    }
  ],
  "metadata": {
    "kernelspec": {
      "display_name": "langchain-opentutorial-bMU5IxA3-py3.11",
      "language": "python",
      "name": "python3"
    },
    "language_info": {
      "codemirror_mode": {
        "name": "ipython",
        "version": 3
      },
      "file_extension": ".py",
      "mimetype": "text/x-python",
      "name": "python",
      "nbconvert_exporter": "python",
      "pygments_lexer": "ipython3",
      "version": "3.11.11"
    }
  },
  "nbformat": 4,
  "nbformat_minor": 5
}
