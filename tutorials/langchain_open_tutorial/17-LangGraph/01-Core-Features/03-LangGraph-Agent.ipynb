{
 "cells": [
  {
   "cell_type": "markdown",
   "id": "35465508",
   "metadata": {},
   "source": [
    "# Building an Agent with LangGraph\n",
    "- Author: [Erika Park](https://www.linkedin.com/in/yeonseo-park-094193198/)\n",
    "- Designer: [Erika Park](https://www.linkedin.com/in/yeonseo-park-094193198/)\n",
    "- Peer Review: \n",
    "- Proofread:\n",
    "- This is a part of [LangChain Open Tutorial](https://github.com/LangChain-OpenTutorial/LangChain-OpenTutorial)\n",
    "\n",
    "[![Open in Colab](https://colab.research.google.com/assets/colab-badge.svg)](https://colab.research.google.com/github/LangChain-OpenTutorial/LangChain-OpenTutorial/blob/main/01-Basic/05-Using-OpenAIAPI-MultiModal.ipynb) [![Open in GitHub](https://img.shields.io/badge/Open%20in%20GitHub-181717?style=flat-square&logo=github&logoColor=white)](https://github.com/LangChain-OpenTutorial/LangChain-OpenTutorial/blob/main/01-Basic/05-Using-OpenAIAPI-MultiModal.ipynb)\n",
    "\n",
    "\n",
    "## Overview\n",
    "\n",
    "In this tutorial, we will enhance a chatbot by integrating a web search tool, enabling it to perform web searches as part of its functionality. This integration allows the chatbot to retrieve up-to-date information from the web, making its responses more accurate and dynamic.\n",
    "\n",
    "**Key Objectives**\n",
    "\n",
    "1. Web Search Tool Integration: <br>\n",
    "* We will construct an agent that binds a web search tool to an LLM (Large Language Model). The agent will intelligently decide when to invoke the web search tool based on the user’s input.\n",
    "\n",
    "2. Conditional Routing Using Edges: <br>\n",
    "* Learn how to use conditional edges to route the workflow to different nodes based on whether the web search tool is invoked. This ensures efficient handling of requests that may or may not require external information.\n",
    "<br>\n",
    "\n",
    "By the end of this tutorial, you will understand how to integrate a web search tool with an LLM and create a chatbot capable of leveraging real-time web data effectively.\n",
    "\n",
    "### Table of Contents\n",
    "\n",
    "- [Overview](#overview)\n",
    "- [Environment Setup](#environment-setup)\n",
    "- [Using Tools](#using-tools)\n",
    "- [Tool Node](#tool-node)\n",
    "- [Conditional Edge](#conditional-edge)\n",
    "\n",
    "### References \n",
    "- [TavilySearchResults](https://python.langchain.com/api_reference/community/tools/langchain_community.tools.tavily_search.tool.TavilySearchResults.html)\n",
    "- [How to visualize your graph](https://langchain-ai.github.io/langgraph/how-tos/visualization/)\n",
    " \n",
    "<br>\n",
    "\n",
    "---\n"
   ]
  },
  {
   "cell_type": "markdown",
   "id": "c9e5f6ed",
   "metadata": {},
   "source": [
    "## Environment Setup\n",
    "\n",
    "Set up the environment. You may refer to [Environment Setup](https://wikidocs.net/257836) for more details.\n",
    "\n",
    "**[Note]**\n",
    "- `langchain-opentutorial` is a package that provides a set of easy-to-use environment setup, useful functions, and utilities for tutorials. \n",
    "- You can check out the [`langchain-opentutorial`](https://github.com/LangChain-OpenTutorial/langchain-opentutorial-pypi) for more details."
   ]
  },
  {
   "cell_type": "code",
   "execution_count": 1,
   "id": "33f8fed1",
   "metadata": {},
   "outputs": [],
   "source": [
    "%%capture --no-stderr\n",
    "%pip install langchain-opentutorial"
   ]
  },
  {
   "cell_type": "code",
   "execution_count": 2,
   "id": "e05eef7a",
   "metadata": {},
   "outputs": [],
   "source": [
    "# Install required packages\n",
    "from langchain_opentutorial import package\n",
    "\n",
    "package.install(\n",
    "    [\n",
    "        \"langchain_community\",\n",
    "        \"langchain_openai\",\n",
    "        \"langchain_core\",\n",
    "        \"langgraph\",\n",
    "        \"langsmith\"\n",
    "    ],\n",
    "    verbose=False,\n",
    "    upgrade=False,\n",
    ")\n"
   ]
  },
  {
   "cell_type": "code",
   "execution_count": 3,
   "id": "3d1e8ec4",
   "metadata": {},
   "outputs": [
    {
     "name": "stdout",
     "output_type": "stream",
     "text": [
      "Environment variables have been set successfully.\n"
     ]
    }
   ],
   "source": [
    "# Set environment variables\n",
    "from langchain_opentutorial import set_env\n",
    "\n",
    "set_env(\n",
    "    {\n",
    "        # \"OPENAI_API_KEY\": \"\",\n",
    "        # \"LANGCHAIN_API_KEY\": \"\",\n",
    "        # \"TAVILY_API_KEY\":\"\",\n",
    "        \"LANGCHAIN_TRACING_V2\": \"true\",\n",
    "        \"LANGCHAIN_ENDPOINT\": \"https://api.smith.langchain.com\",\n",
    "        \"LANGCHAIN_PROJECT\": \"Agent-with-LangGraph\",\n",
    "    }\n",
    ")"
   ]
  },
  {
   "cell_type": "markdown",
   "id": "21a036aa",
   "metadata": {},
   "source": [
    "You can alternatively set API keys such as `OPENAI_API_KEY` in a `.env` file and load them.\n",
    "\n",
    "[Note] This is not necessary if you've already set the required API keys in previous steps."
   ]
  },
  {
   "cell_type": "code",
   "execution_count": 4,
   "id": "265345ac",
   "metadata": {},
   "outputs": [
    {
     "data": {
      "text/plain": [
       "True"
      ]
     },
     "execution_count": 4,
     "metadata": {},
     "output_type": "execute_result"
    }
   ],
   "source": [
    "# Configuration file to manage the API KEY as an environment variable\n",
    "from dotenv import load_dotenv\n",
    "\n",
    "# Load API KEY information\n",
    "load_dotenv(override=True)"
   ]
  },
  {
   "cell_type": "markdown",
   "id": "6867869e",
   "metadata": {},
   "source": [
    "## Using Tools\n",
    "\n",
    "To address questions that a chatbot cannot answer from \"memory,\" we will integrate a web search tool. This tool will enable the chatbot to retrieve relevant information and provide more accurate and informed responses.\n",
    "\n",
    "For this tutorial, we will use the Tavily Search API to implement search functionality. This API provides two primary classes: `TavilySearchResults` and `TavilyAnswer` .\n",
    "\n",
    "### Tavily Search API Tool\n",
    "The Tavily Search API tool is designed to facilitate powerful search capabilities within the chatbot. It retrieves comprehensive and reliable search results, making it ideal for answering questions about current events or topics that require external information.\n",
    "\n",
    "**API Key Setup**\n",
    "1. Obtain an API key from the following link: [Tavily API Key Issuance](https://app.tavily.com/).\n",
    "2. Set the API key as an environment variable in your project.\n",
    "Create a `.env` file in the project directory and include the API key as shown below:\n",
    "\n",
    "```\n",
    "TAVILY_API_KEY=tvly-abcdefghijklmnopqrstuvwxyz\n",
    "```\n",
    "\n",
    "**TavilySearchResults Class**\n",
    "\n",
    "- This class queries the Tavily Search API and returns results in JSON format.\n",
    "- It is optimized for delivering comprehensive, accurate, and reliable search results.\n",
    "- Particularly useful for addressing questions related to ongoing events or recent updates.\n"
   ]
  },
  {
   "cell_type": "markdown",
   "id": "1f9bb9ff",
   "metadata": {},
   "source": [
    "1. **Import and Create the Search Tool**"
   ]
  },
  {
   "cell_type": "code",
   "execution_count": 5,
   "id": "bc161f30",
   "metadata": {},
   "outputs": [],
   "source": [
    "from langchain_community.tools import TavilySearchResults\n",
    "\n",
    "# Create the Search Tool\n",
    "tool = TavilySearchResults(\n",
    "    max_results=3,\n",
    "    include_answer=True,\n",
    "    include_raw_content=True,\n",
    "    include_images=True,\n",
    "    # search_depth=\"advanced\",\n",
    "    # include_domains = []\n",
    "    # exclude_domains = []\n",
    ")"
   ]
  },
  {
   "cell_type": "markdown",
   "id": "c7bf421c",
   "metadata": {},
   "source": [
    "**2. Add the Tool to the Tool List**\n",
    "\n",
    "* The search tool is added to a list ( `tools` ). In LangChain, multiple tools can be combined to build more advanced workflows."
   ]
  },
  {
   "cell_type": "code",
   "execution_count": 6,
   "id": "5edb0559",
   "metadata": {},
   "outputs": [],
   "source": [
    "tools = [tool]"
   ]
  },
  {
   "cell_type": "markdown",
   "id": "122d4307",
   "metadata": {},
   "source": [
    "**3. Execute the Tool**\n",
    "\n",
    "- The `invoke` method is called to execute the search query \"U.S. Presidential Inauguration\".\n",
    "The search results are returned in JSON format and displayed using the `print` statement.\n",
    "- The results are page summaries that can be used by the chatbot to answer user questions."
   ]
  },
  {
   "cell_type": "code",
   "execution_count": 16,
   "id": "cd2c758d",
   "metadata": {},
   "outputs": [
    {
     "name": "stdout",
     "output_type": "stream",
     "text": [
      "[{'url': 'https://www.britannica.com/topic/United-States-presidential-inauguration', 'content': 'After the worship services, the president-elect and vice president-elect—as well as family members and various public officials, almost always including the current president and vice president—have proceeded to the U.S. Capitol for the swearing-in ceremonies. The vice president-elect is sworn in first, often by an official of his or her choosing, and then the president-elect is sworn in, typically by the chief justice of the Supreme Court. After taking the oath of office, the new president gives an inaugural address expressing a vision of the country’s future and the goals of the new administration. If January 20 falls on a Sunday, the president is inaugurated that day in a small ceremony, with a public inauguration and the subsequent festivities being held the next day. The inauguration of Joe Biden in 2021 took place amid a public health emergency, the COVID-19 pandemic, and followed by only two weeks a violent assault on the Capitol by supporters of Biden’s defeated opponent, Donald J. Trump.'}, {'url': 'https://www.usa.gov/inauguration', 'content': 'The vice-president-elect is sworn in first, and repeats the same oath of office, in use since 1884, as senators, representatives, and other federal employees:\\n\"I do solemnly swear (or affirm) that I will support and defend the Constitution of the United States against all enemies, foreign and domestic; that I will bear true faith and allegiance to the same; that I take this obligation freely, without any mental reservation or purpose of evasion; and that I will well and faithfully discharge the duties of the office on which I am about to enter: So help me God. \"\\nAround noon, the president-elect recites the following oath, in accordance with Article II, Section I of the U.S. Constitution:\\n\"I do solemnly swear (or affirm) that I will faithfully execute the Office of President of the United States, and will to the best of my ability, preserve, protect and defend the Constitution of the United States. Inauguration of the president of the United States\\nInauguration Day is the day when the president-elect and vice-president-elect are sworn in and take office.\\n For more information on the history of presidential inaugurations, explore the inaugural materials from the collections of the Library of Congress.\\n Secure .gov websites use HTTPSA lock\\n(\\nLock\\nLocked padlock icon\\n)\\nor https://\\tmeans you’ve safely connected to the .gov website.'}, {'url': 'https://en.wikipedia.org/wiki/United_States_presidential_inauguration', 'content': 'The parade, which proceeds along 1.5 miles (2.4\\xa0km) of Pennsylvania Avenue in front of the stand and the Front Lawn in view of the presidential party, features both military and civilian participants from all 50 states and the District of Columbia; this parade largely evolved from the post-inaugural procession to the White House, and occurred as far back as Jefferson\\'s second inauguration in 1805, when workers from the Washington Navy Yard, accompanied by military music, marched with the president[51] on foot as he rode on horseback from the Capitol to the White House. This committee is the legal entity responsible for fundraising for and the planning and coordination of all official events and activities surrounding the inauguration of president and vice president (other than the ceremony), such as the balls and parade.[11]\\nSince 1901, the Joint Committee on Inaugural Ceremonies has been responsible for the planning and execution of the swearing-in ceremonies.[12] In 1865, in the waning days of the Civil War, Abraham Lincoln stated, \"With malice toward none, with charity for all, with firmness in the right as God gives us to see the right, let us strive on to finish the work we are in, to bind up the nation\\'s wounds, to care for him who shall have borne the battle and for his widow and his orphan, to do all which may achieve and cherish a just and lasting peace among ourselves and with all nations.\" This numerical discrepancy results chiefly from two factors: a president must take the oath at the beginning of each term of office, and, because the day of inauguration has sometimes fallen on a Sunday, five presidents have taken the oath privately before the public inaugural ceremonies.[22]\\nThere is no requirement that any book, or in particular a book of sacred text, be used to administer the oath, and none is mentioned in the Constitution. While many of the early presidents read their addresses before taking the oath, current custom dictates that the chief justice administer the oath first, followed by the president\\'s speech.[12] William McKinley requested the change in 1897, so that he could reiterate the words of the oath at the close of his first inaugural address.\\n'}]\n"
     ]
    }
   ],
   "source": [
    "print(tool.invoke(\"U.S. Presidential Inauguration\"))"
   ]
  },
  {
   "cell_type": "markdown",
   "id": "b51b6ca3",
   "metadata": {},
   "source": [
    "### Adding bind_tools to Configure LLM + Tools\n",
    "\n",
    "In this section, we will integrate `bind_tools` into the LLM to enable **LLM + Tools** functionality. \n",
    "\n",
    "This allows the LLM to leverage external tools dynamically and respond more effectively to user inputs.\n",
    "\n"
   ]
  },
  {
   "cell_type": "markdown",
   "id": "9d6b8caa",
   "metadata": {},
   "source": [
    "**1. Define the State Schema**\n",
    "\n",
    "- The `State` class acts as the schema for storing and passing the graph's state to the next node.\n",
    "- Using Python's `TypedDict` and annotations, we define the `messages` property as a list that supports adding new messages via the `add_messages` function from `LangGraph` .\n",
    "- While the schema can support additional state properties, this tutorial focuses solely on `messages` ."
   ]
  },
  {
   "cell_type": "code",
   "execution_count": 8,
   "id": "d6166da5",
   "metadata": {},
   "outputs": [],
   "source": [
    "from typing import Annotated\n",
    "from typing_extensions import TypedDict\n",
    "from langgraph.graph.message import add_messages\n",
    "\n",
    "# Define State Schema\n",
    "class State(TypedDict):\n",
    "    # Apply add_messages to the list type to enable message addition\n",
    "    messages: Annotated[list, add_messages]"
   ]
  },
  {
   "cell_type": "markdown",
   "id": "efe9e3c7",
   "metadata": {},
   "source": [
    "**2. Initialize the LLM and Bind Tools**\n",
    "\n",
    "- The `ChatOpenAI` instance is initialized as the LLM. \n",
    "- The `bind_tools` method is then used to attach a set of tools to the LLM, enabling it to invoke external functionality.\n",
    "\n",
    " By binding the custom tool we created, the LLM gains the ability to perform web searches, adding responsive capabilities to the chatbot."
   ]
  },
  {
   "cell_type": "code",
   "execution_count": 9,
   "id": "8c65ea60",
   "metadata": {},
   "outputs": [],
   "source": [
    "from langchain_openai import ChatOpenAI\n",
    "\n",
    "# Initialize the LLM\n",
    "llm = ChatOpenAI(model=\"gpt-4o-mini\")\n",
    "\n",
    "# Bind tools to the LLM\n",
    "llm_with_tools = llm.bind_tools(tools)"
   ]
  },
  {
   "cell_type": "markdown",
   "id": "cc0c2841",
   "metadata": {},
   "source": [
    "**3. Define a Node Function**\n",
    "\n",
    "- Nodes are the building blocks of the graph. \n",
    "- Each node represents a specific operation or step in the process. \n",
    "- Here, we define a node function `chatbot` that uses the `llm_with_tools` instance to process the incoming `messages` from the `State` and returns the updated list of messages.\n",
    "\n",
    "Since the `add_messages` functionality is already applied, if the tool is deemed necessary during processing, the result of the tool call is stored in `answer` . This result is then accumulated in `messages` through the `add_messages` method, maintaining an updated conversation flow.\n"
   ]
  },
  {
   "cell_type": "code",
   "execution_count": 10,
   "id": "028d36e5",
   "metadata": {},
   "outputs": [],
   "source": [
    "# Define Node Function\n",
    "def chatbot(state: State):\n",
    "    # Invoke LLM with tools using the provided messages\n",
    "    answer = llm_with_tools.invoke(state[\"messages\"])\n",
    "    # Return updated messages (add_messages applied automatically)\n",
    "    return {\"messages\": [answer]}"
   ]
  },
  {
   "cell_type": "markdown",
   "id": "d5c798e0",
   "metadata": {},
   "source": [
    "**4. Create a Graph and Add Nodes**\n",
    "\n",
    "- Create a  `StateGraph` instance to represent the workflow and add the `chatbot` node to it. "
   ]
  },
  {
   "cell_type": "code",
   "execution_count": 11,
   "id": "8e8d16a3",
   "metadata": {},
   "outputs": [
    {
     "data": {
      "text/plain": [
       "<langgraph.graph.state.StateGraph at 0x115d22c50>"
      ]
     },
     "execution_count": 11,
     "metadata": {},
     "output_type": "execute_result"
    }
   ],
   "source": [
    "from langgraph.graph import StateGraph\n",
    "\n",
    "# Initialize the State Graph with the defined State schema\n",
    "graph_builder = StateGraph(State)\n",
    "\n",
    "# Add the chatbot node to the graph\n",
    "graph_builder.add_node(\"chatbot\", chatbot)"
   ]
  },
  {
   "cell_type": "markdown",
   "id": "a034ee74",
   "metadata": {},
   "source": [
    "## Tool Node\n",
    "\n",
    "Next, we need to create a function that will execute the tool whenever it is invoked. \n",
    "\n",
    "To achieve this, we will add a new node specifically designed for tool execution.\n",
    "\n",
    "We’ll implement a custom `BasicToolNode` that checks the most recent message. \n",
    "If the message includes `tool_calls` , the node will execute the corresponding tool. \n",
    "\n",
    "While we are implementing this manually for now, it’s worth noting that later on, you can replace this with LangGraph's pre-built [ToolNode](https://langchain-ai.github.io/langgraph/reference/prebuilt/#langgraph.prebuilt.tool_node.ToolNode) for greater convenience."
   ]
  },
  {
   "cell_type": "code",
   "execution_count": 12,
   "id": "f1437765",
   "metadata": {},
   "outputs": [
    {
     "data": {
      "text/plain": [
       "<langgraph.graph.state.StateGraph at 0x115d22c50>"
      ]
     },
     "execution_count": 12,
     "metadata": {},
     "output_type": "execute_result"
    }
   ],
   "source": [
    "import json\n",
    "from langchain_core.messages import ToolMessage\n",
    "\n",
    "\n",
    "class BasicToolNode:\n",
    "    \"\"\"Run tools requested in the last AIMessage node\"\"\"\n",
    "\n",
    "    def __init__(self, tools: list) -> None:\n",
    "        # List of tools\n",
    "        self.tools_list = {tool.name: tool for tool in tools}\n",
    "\n",
    "    def __call__(self, inputs: dict):\n",
    "        # Extract the most recent message if messages exist\n",
    "        if messages := inputs.get(\"messages\", []):\n",
    "            message = messages[-1]\n",
    "        else:\n",
    "            raise ValueError(\"No message found in input\")\n",
    "\n",
    "        # Results from tool calls\n",
    "        outputs = []\n",
    "        for tool_call in message.tool_calls:\n",
    "            # Call the tool and store the result\n",
    "            tool_result = self.tools_list[tool_call[\"name\"]].invoke(tool_call[\"args\"])\n",
    "            outputs.append(\n",
    "                # Store the tool call result as a message\n",
    "                ToolMessage(\n",
    "                    content=json.dumps(\n",
    "                        tool_result, ensure_ascii=False\n",
    "                    ),  # Convert tool call result to a string\n",
    "                    name=tool_call[\"name\"],\n",
    "                    tool_call_id=tool_call[\"id\"],\n",
    "                )\n",
    "            )\n",
    "\n",
    "        return {\"messages\": outputs}\n",
    "\n",
    "\n",
    "# Create a tool node\n",
    "tool_node = BasicToolNode(tools=[tool])\n",
    "\n",
    "# Add the tool node to the graph\n",
    "graph_builder.add_node(\"tools\", tool_node)"
   ]
  },
  {
   "cell_type": "markdown",
   "id": "493e3d4c",
   "metadata": {},
   "source": [
    " **Explanation of the Code**\n",
    "\n",
    "1. **Purpose of the Code**\n",
    "   - This code defines a tool node ( `BasicToolNode` ) that dynamically executes tools based on instructions from the most recent message in a list of inputs.\n",
    "\n",
    "2. **How It Works**\n",
    "   - **Initialization ( `__init__` )**: \n",
    "     - A list of tools is passed to the `BasicToolNode` constructor. \n",
    "     - Each tool is stored in a dictionary for quick lookup by name.\n",
    "   - **Execution ( `__call__` )**:\n",
    "     - When the node is called, it looks at the most recent message in the provided input (`messages` key).\n",
    "     - It extracts the tool calls from the message and invokes the appropriate tools using their names and arguments.\n",
    "     - The results are formatted as `ToolMessage` objects and returned.\n",
    "\n",
    "3. **ToolMessage**\n",
    "   - A `ToolMessage` is a standardized way to store and return tool execution results, including the tool name, result content, and a unique ID for the tool call.\n",
    "\n",
    "4. **Adding to a Graph**\n",
    "   - The tool node ( `tool_node` ) is added to a graph using `graph_builder.add_node` . This integrates the node into a larger workflow or execution pipeline.\n",
    "\n",
    "5. **Usage**\n",
    "   - This structure is typically part of a larger system where tools are invoked based on user input or system logic, and results are returned to the user or passed along to other nodes.\n"
   ]
  },
  {
   "cell_type": "markdown",
   "id": "de52ecda",
   "metadata": {},
   "source": [
    "## Conditional Edge\n",
    "\n",
    "Once the tool node is added, you can define `conditional_edges` to control the flow of execution in the graph.\n",
    "- Edges: They route the control flow from one node to the next in a graph.\n",
    "- Conditional Edges: These are edges with \"if\" logic that determine the next node based on the current graph state. These functions take the current graph `state` as input and return the name of the next node (or a list of nodes).\n",
    "\n",
    "In the example below, we define a router function `route_tools` that inspects the chatbot's output for `tool_calls`.\n",
    "\n",
    "This function is passed to the graph using `add_conditional_edges` . Every time the `chatbot` node completes execution, the function determines where to go next:\n",
    "- If there is a tool call, it routes to the `tools` node.\n",
    "- If there is no tool call, it routes to the `END` node, terminating the flow.\n",
    "\n",
    "This can be replaced with the pre-built [tools_condition](https://langchain-ai.github.io/langgraph/reference/prebuilt/#tools_condition) available in LangGraph."
   ]
  },
  {
   "cell_type": "markdown",
   "id": "f758bf4f",
   "metadata": {},
   "source": [
    "### add_conditional_edges method\n",
    "\n",
    "\n",
    "<img src=\"./assets/03-langgraph-agent-conditional-edge.png\" width=\"500\" />\n",
    "\n",
    "\n",
    "The `add_conditional_edges` method adds conditional logic to the graph. Here's a breakdown of its parameters and functionality:\n",
    "\n",
    "**Parameters**\n",
    "- `source` ( `str` ): The starting node where the conditional edge originates.\n",
    "- `path` ( `Callable` ): A function or callable object that determines the next node(s). It takes the current state as input and returns one or more node names.\n",
    "- `path_map` ( `dict` or `list` ): Maps the output of `path` to specific nodes in the graph. If omitted, the output of `path` must directly correspond to node names.\n",
    "- `then` ( `Optional[str]` ): Specifies the node to execute after the node selected by path.\n",
    "  \n",
    "**Return Value**\n",
    "- Returns the graph object itself for method chaining.\n",
    "\n",
    "**Key Features of `add_conditional_edges`**\n",
    "- Dynamic Flow Control: Allows you to define logic that dynamically alters the flow based on the state.\n",
    "\n",
    "- Path Mapping: Converts the output of the `path` function into specific graph nodes.\n",
    "\n",
    "- Error Handling: Raises `ValueError`  if:\n",
    "    - The `path` function lacks a type hint or `path_map` .\n",
    "    - A branch with the same name already exists.\n",
    "- Graph Visualization: Once the graph is defined, it can be visualized using the following method."
   ]
  },
  {
   "cell_type": "code",
   "execution_count": 13,
   "id": "54118fcc",
   "metadata": {},
   "outputs": [],
   "source": [
    "from langgraph.graph import START, END\n",
    "\n",
    "# Define the router function\n",
    "def route_tools(state: State):\n",
    "    if messages := state.get(\"messages\", []):\n",
    "        # Extract the most recent AI message\n",
    "        ai_message = messages[-1]\n",
    "    else:\n",
    "        # Raise an error if no messages are found\n",
    "        raise ValueError(f\"No messages found in input state to tool_edge: {state}\")\n",
    "\n",
    "    # Check for tool calls in the AI message\n",
    "    if hasattr(ai_message, \"tool_calls\") and len(ai_message.tool_calls) > 0:\n",
    "        # If there are tool calls, route to \"tools\"\n",
    "        return \"tools\"\n",
    "    # If no tool calls, route to \"END\"\n",
    "    return END\n",
    "\n",
    "# Add conditional edges to the graph\n",
    "graph_builder.add_conditional_edges(\n",
    "    source=\"chatbot\",\n",
    "    path=route_tools,\n",
    "    # Map the returned values to specific nodes\n",
    "    path_map={\"tools\": \"tools\", END: END},\n",
    ")\n",
    "\n",
    "# Define additional edges\n",
    "graph_builder.add_edge(\"tools\", \"chatbot\")  # Return to chatbot after tools\n",
    "graph_builder.add_edge(START, \"chatbot\")    # Start with the chatbot node\n",
    "\n",
    "# Compile the graph\n",
    "graph = graph_builder.compile()\n"
   ]
  },
  {
   "cell_type": "markdown",
   "id": "beab199c",
   "metadata": {},
   "source": [
    "Conditional Edges must originate from a single node.\n",
    "\n",
    "In this example, whenever the `chatbot` node is executed, the graph logic checks for tool calls:\n",
    "\n",
    "- If tool calls are present, the flow transitions to the `tools` node for further processing.\n",
    "- If no tool calls are present, the flow ends, effectively terminating the loop.\n",
    "  \n",
    "Similar to the pre-built `tools_condition` , the custom function returns the string `END` when there are no tool calls. When the graph transitions to END, no further tasks are executed, and the process halts."
   ]
  },
  {
   "cell_type": "code",
   "execution_count": 14,
   "id": "76da44de",
   "metadata": {},
   "outputs": [
    {
     "data": {
      "image/png": "[encoded data removed]",
      "text/plain": [
       "<langgraph.graph.state.CompiledStateGraph object at 0x115d54c10>"
      ]
     },
     "execution_count": 14,
     "metadata": {},
     "output_type": "execute_result"
    }
   ],
   "source": [
    "graph"
   ]
  },
  {
   "cell_type": "markdown",
   "id": "da0224f1",
   "metadata": {},
   "source": [
    "Now, the bot can handle questions outside its training data."
   ]
  },
  {
   "cell_type": "code",
   "execution_count": 15,
   "id": "31343b25",
   "metadata": {},
   "outputs": [
    {
     "name": "stdout",
     "output_type": "stream",
     "text": [
      "\n",
      "==============\n",
      "STEP: messages\n",
      "==============\n",
      "\n",
      "content='Search for information about the TED YouTube channel' additional_kwargs={} response_metadata={} id='e0095406-2596-456b-a3a6-abcb6c42cc6f'\n",
      "\n",
      "==============\n",
      "STEP: messages\n",
      "==============\n",
      "\n",
      "content='' additional_kwargs={'tool_calls': [{'id': 'call_RKDB4rBbT5SeCfPkGDvhLeCZ', 'function': {'arguments': '{\"query\":\"TED YouTube channel\"}', 'name': 'tavily_search_results_json'}, 'type': 'function'}], 'refusal': None} response_metadata={'token_usage': {'completion_tokens': 22, 'prompt_tokens': 88, 'total_tokens': 110, 'completion_tokens_details': {'accepted_prediction_tokens': 0, 'audio_tokens': 0, 'reasoning_tokens': 0, 'rejected_prediction_tokens': 0}, 'prompt_tokens_details': {'audio_tokens': 0, 'cached_tokens': 0}}, 'model_name': 'gpt-4o-mini-2024-07-18', 'system_fingerprint': 'fp_72ed7ab54c', 'finish_reason': 'tool_calls', 'logprobs': None} id='run-b67c6264-758e-4946-bdeb-43bc60f04e88-0' tool_calls=[{'name': 'tavily_search_results_json', 'args': {'query': 'TED YouTube channel'}, 'id': 'call_RKDB4rBbT5SeCfPkGDvhLeCZ', 'type': 'tool_call'}] usage_metadata={'input_tokens': 88, 'output_tokens': 22, 'total_tokens': 110, 'input_token_details': {'audio': 0, 'cache_read': 0}, 'output_token_details': {'audio': 0, 'reasoning': 0}}\n",
      "\n",
      "==============\n",
      "STEP: messages\n",
      "==============\n",
      "\n",
      "content='[{\"url\": \"https://www.youtube.com/c/TED/videos\", \"content\": \"The TED Talks channel features the best talks and performances from the TED Conference, where the world\\'s leading thinkers and doers give the talk of their lives in 18 minutes (or less).\"}, {\"url\": \"https://www.youtube.com/channel/UCSYRU_pPwQz1s0l66k56O8w\", \"content\": \"TED Talks share ideas worth spreading from some of the world\\'s most brilliant minds. Featuring captivating speakers from various fields, the channel offers talks on topics ranging from science\"}, {\"url\": \"https://www.youtube.com/teded/playlists\", \"content\": \"TED-Ed\\'s mission is to create lessons worth sharing. Feed and expand your curiosity with our award-winning animated shorts - published on YouTube and available with supplemental learning\"}]' name='tavily_search_results_json' id='832c6c0c-fac0-4658-a3c0-aff3fda517a0' tool_call_id='call_RKDB4rBbT5SeCfPkGDvhLeCZ'\n",
      "\n",
      "==============\n",
      "STEP: messages\n",
      "==============\n",
      "\n",
      "content=\"The TED YouTube channel features a wide array of talks and performances from the TED Conference, where leading thinkers and doers share their ideas in 18 minutes or less. Here are some key highlights:\\n\\n1. **Main TED Talks Channel**: This channel showcases the best talks from the TED Conference, featuring captivating speakers from various fields. You can explore the channel [here](https://www.youtube.com/c/TED/videos).\\n\\n2. **TED-Ed**: This part of TED focuses on creating educational content, with animated shorts aimed at expanding curiosity. You can check out TED-Ed's playlists [here](https://www.youtube.com/teded/playlists).\\n\\n3. **Content Variety**: The talks cover a wide range of topics, including science, innovation, personal development, and social issues, all aimed at sharing ideas worth spreading.\\n\\nFor more information, you can visit the TED YouTube channel directly through the provided links.\" additional_kwargs={'refusal': None} response_metadata={'token_usage': {'completion_tokens': 190, 'prompt_tokens': 297, 'total_tokens': 487, 'completion_tokens_details': {'accepted_prediction_tokens': 0, 'audio_tokens': 0, 'reasoning_tokens': 0, 'rejected_prediction_tokens': 0}, 'prompt_tokens_details': {'audio_tokens': 0, 'cached_tokens': 0}}, 'model_name': 'gpt-4o-mini-2024-07-18', 'system_fingerprint': 'fp_72ed7ab54c', 'finish_reason': 'stop', 'logprobs': None} id='run-95d1a576-d70f-409a-942d-0144499f69d8-0' usage_metadata={'input_tokens': 297, 'output_tokens': 190, 'total_tokens': 487, 'input_token_details': {'audio': 0, 'cache_read': 0}, 'output_token_details': {'audio': 0, 'reasoning': 0}}\n"
     ]
    }
   ],
   "source": [
    "inputs = {\"messages\": \"Search for information about the TED YouTube channel\"}\n",
    "\n",
    "for event in graph.stream(inputs, stream_mode=\"values\"):\n",
    "    for key, value in event.items():\n",
    "        print(f\"\\n==============\\nSTEP: {key}\\n==============\\n\")\n",
    "        # display_message_tree(value[\"messages\"][-1])\n",
    "        print(value[-1])"
   ]
  },
  {
   "cell_type": "markdown",
   "id": "f4c6c5ac",
   "metadata": {},
   "source": [
    "### Illustration of the structure after a tool call\n",
    "\n",
    "This diagram illustrates the structure of a \"Tool Message\" in a chatbot workflow, showing how tool-related data (such as tool calls, arguments, and metadata) is organized and recorded during the tool invocation process. \n",
    "\n",
    "![Illustration of the structure after a tool call](./assets/03-langgraph-agent-diagram.png)"
   ]
  },
  {
   "cell_type": "markdown",
   "id": "9b3f3087",
   "metadata": {},
   "source": []
  }
 ],
 "metadata": {
  "kernelspec": {
   "display_name": "langchain-opentutorial-bMU5IxA3-py3.11",
   "language": "python",
   "name": "python3"
  },
  "language_info": {
   "codemirror_mode": {
    "name": "ipython",
    "version": 3
   },
   "file_extension": ".py",
   "mimetype": "text/x-python",
   "name": "python",
   "nbconvert_exporter": "python",
   "pygments_lexer": "ipython3",
   "version": "3.11.11"
  }
 },
 "nbformat": 4,
 "nbformat_minor": 5
}
