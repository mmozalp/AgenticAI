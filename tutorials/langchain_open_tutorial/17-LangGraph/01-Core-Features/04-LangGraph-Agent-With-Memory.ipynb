{
 "cells": [
  {
   "cell_type": "markdown",
   "id": "eec680f5",
   "metadata": {},
   "source": [
    "# Agent with Memory\n",
    "\n",
    "- Author: [Hye-yoon Jeong](https://github.com/Hye-yoonJeong)\n",
    "- Peer Review: \n",
    "- Proofread:\n",
    "- This is a part of [LangChain Open Tutorial](https://github.com/LangChain-OpenTutorial/LangChain-OpenTutorial)\n",
    "\n",
    "[![Open in Colab](https://colab.research.google.com/assets/colab-badge.svg)](https://colab.research.google.com/github/LangChain-OpenTutorial/LangChain-OpenTutorial/blob/main/99-TEMPLATE/00-BASE-TEMPLATE-EXAMPLE.ipynb) [![Open in GitHub](https://img.shields.io/badge/Open%20in%20GitHub-181717?style=flat-square&logo=github&logoColor=white)](https://github.com/LangChain-OpenTutorial/LangChain-OpenTutorial/blob/main/99-TEMPLATE/00-BASE-TEMPLATE-EXAMPLE.ipynb)\n",
    "\n",
    "## Overview\n",
    "\n",
    "This tutorial covers how to add an **in-memory checkpoint saver** to an agent. \n",
    "\n",
    "An **in-memory checkpoint saver** enables an agent to store previous interactions, allowing the agent to engage in multi-turn conversations in a coherent manner.\n",
    "\n",
    "Also in this tutorial, we use `ToolNode` and `tools_condition` prebuilt in `LangGraph` instead of a customized tool node.\n",
    "\n",
    "### Table of Contents\n",
    "\n",
    "- [Overview](#overview)\n",
    "- [Environment Setup](#environment-setup)\n",
    "- [Memory Saver](#memory-saver)\n",
    "- [Configuration with RunnableConfig](#configuration-with-runnableconfig)\n",
    "- [Inspecting State Snapshots](#inspecting-state-snapshots)\n",
    "\n",
    "### References\n",
    "\n",
    "- [LangGraph: MemorySaver](https://langchain-ai.github.io/langgraph/reference/checkpoints/#langgraph.checkpoint.memory.MemorySaver)\n",
    "- [LangGraph: ToolNode](https://langchain-ai.github.io/langgraph/reference/prebuilt/#langgraph.prebuilt.tool_node.ToolNode)\n",
    "- [LangGraph: tools_condition](https://langchain-ai.github.io/langgraph/reference/prebuilt/#langgraph.prebuilt.tool_node.tools_condition)\n",
    "----"
   ]
  },
  {
   "cell_type": "markdown",
   "id": "e74d757d",
   "metadata": {},
   "source": [
    "## Environment Setup\n",
    "\n",
    "Setting up your environment is the first step. See the [Environment Setup guide](https://wikidocs.net/257836) for more details.\n",
    "\n",
    "**[Note]**\n",
    "\n",
    "`langchain-opentutorial` is a package of easy-to-use environment setup guidance, useful functions and utilities for tutorials. Check out the [`langchain-opentutorial`](https://github.com/LangChain-OpenTutorial/langchain-opentutorial-pypi) for more details."
   ]
  },
  {
   "cell_type": "code",
   "execution_count": 1,
   "id": "9bb33a3b",
   "metadata": {},
   "outputs": [
    {
     "name": "stderr",
     "output_type": "stream",
     "text": [
      "\n",
      "[notice] A new release of pip is available: 24.1 -> 24.3.1\n",
      "[notice] To update, run: python.exe -m pip install --upgrade pip\n"
     ]
    }
   ],
   "source": [
    "%%capture --no-stderr\n",
    "%pip install langchain-opentutorial"
   ]
  },
  {
   "cell_type": "code",
   "execution_count": 2,
   "id": "a3082f35",
   "metadata": {},
   "outputs": [],
   "source": [
    "# Install required packages\n",
    "from langchain_opentutorial import package\n",
    "\n",
    "package.install(\n",
    "    [\n",
    "        \"langsmith\",\n",
    "        \"langchain\",\n",
    "        \"langchain_core\",\n",
    "        \"langchain_community\",\n",
    "        \"langchain_openai\",\n",
    "        \"langgraph\",\n",
    "    ],\n",
    "    verbose=False,\n",
    "    upgrade=False,\n",
    ")"
   ]
  },
  {
   "cell_type": "code",
   "execution_count": 3,
   "id": "ecf4dbd6",
   "metadata": {},
   "outputs": [
    {
     "data": {
      "text/plain": [
       "True"
      ]
     },
     "execution_count": 3,
     "metadata": {},
     "output_type": "execute_result"
    }
   ],
   "source": [
    "from dotenv import load_dotenv\n",
    "\n",
    "load_dotenv(override=True)"
   ]
  },
  {
   "cell_type": "markdown",
   "id": "7c84c6e6",
   "metadata": {},
   "source": [
    "You can set API keys in a .env file or set them manually.\n",
    "\n",
    "**[Note]** If you’re not using the .env file, no worries! Just enter the keys directly in the cell below, and you’re good to go."
   ]
  },
  {
   "cell_type": "code",
   "execution_count": 4,
   "id": "4e1e8e13",
   "metadata": {},
   "outputs": [
    {
     "name": "stdout",
     "output_type": "stream",
     "text": [
      "Environment variables have been set successfully.\n"
     ]
    }
   ],
   "source": [
    "# Set environment variables\n",
    "from langchain_opentutorial import set_env\n",
    "\n",
    "set_env(\n",
    "    {\n",
    "        # \"OPENAI_API_KEY\": \"\",\n",
    "        # \"LANGCHAIN_API_KEY\": \"\",\n",
    "        # \"TAVILY_API_KEY\": \"\",\n",
    "        \"LANGCHAIN_TRACING_V2\": \"true\",\n",
    "        \"LANGCHAIN_ENDPOINT\": \"https://api.smith.langchain.com\",\n",
    "        \"LANGCHAIN_PROJECT\": \"Agent-with-Memory\",\n",
    "    }\n",
    ")"
   ]
  },
  {
   "cell_type": "markdown",
   "id": "a6217bc3",
   "metadata": {},
   "source": [
    "## Memory Saver\n",
    "\n",
    "Without a memory to remember the **context**, an agent cannot engage in multi-turn interactions.\n",
    "\n",
    "In this tutorial, we use LangGraph's `MemorySaver`, which stores checkpoints in memory.\n",
    "\n",
    "By providing a `checkpointer` during graph compilation and a `thread_id` when calling a graph, the state is **automatically saved** after each step. The `thread_id` acts as a key for continuous graph execution."
   ]
  },
  {
   "cell_type": "markdown",
   "id": "56bb0b0c",
   "metadata": {},
   "source": [
    "Steps to use `MemorySaver`:\n",
    "1) Create a `MemorySaver` checkpointer."
   ]
  },
  {
   "cell_type": "code",
   "execution_count": 5,
   "id": "53d80de1",
   "metadata": {},
   "outputs": [],
   "source": [
    "from langgraph.checkpoint.memory import MemorySaver\n",
    "\n",
    "# Create a MemorySaver\n",
    "memory = MemorySaver()"
   ]
  },
  {
   "cell_type": "markdown",
   "id": "c7a7cd08",
   "metadata": {},
   "source": [
    "2) Define a graph."
   ]
  },
  {
   "cell_type": "code",
   "execution_count": 6,
   "id": "51549b1d",
   "metadata": {},
   "outputs": [
    {
     "data": {
      "text/plain": [
       "<langgraph.graph.state.StateGraph at 0x1a49b269890>"
      ]
     },
     "execution_count": 6,
     "metadata": {},
     "output_type": "execute_result"
    }
   ],
   "source": [
    "from typing import Annotated\n",
    "from typing_extensions import TypedDict\n",
    "from langchain_openai import ChatOpenAI\n",
    "from langchain_community.tools.tavily_search import TavilySearchResults\n",
    "from langgraph.graph import StateGraph, START, END\n",
    "from langgraph.graph.message import add_messages\n",
    "from langgraph.prebuilt import ToolNode, tools_condition\n",
    "\n",
    "\n",
    "########## 1. Define state ##########\n",
    "# Define states to save after each step\n",
    "class State(TypedDict):\n",
    "    messages: Annotated[list, add_messages]\n",
    "\n",
    "\n",
    "########## 2. Define and bind tools ##########\n",
    "# Define tools\n",
    "tool = TavilySearchResults(k=3)\n",
    "tools = [tool]\n",
    "\n",
    "# Define LLM\n",
    "llm = ChatOpenAI(model=\"gpt-4o-mini\")\n",
    "\n",
    "# Bind LLM with tools\n",
    "llm_with_tools = llm.bind_tools(tools)\n",
    "\n",
    "\n",
    "########## 3. Define nodes ##########\n",
    "# Create a state graph\n",
    "graph_builder = StateGraph(State)\n",
    "\n",
    "\n",
    "# Define and add a chatbot node\n",
    "def chatbot(state: State):\n",
    "    # Invoke and return messages\n",
    "    return {\"messages\": [llm_with_tools.invoke(state[\"messages\"])]}\n",
    "\n",
    "\n",
    "graph_builder.add_node(\"chatbot\", chatbot)\n",
    "\n",
    "# Define and add a tool node\n",
    "tool_node = ToolNode(tools=[tool])\n",
    "graph_builder.add_node(\"tools\", tool_node)\n",
    "\n",
    "# Add a conditional edge\n",
    "graph_builder.add_conditional_edges(\n",
    "    \"chatbot\",\n",
    "    tools_condition,\n",
    ")\n",
    "\n",
    "########## 4. Add edges ##########\n",
    "# tools > chatbot\n",
    "graph_builder.add_edge(\"tools\", \"chatbot\")\n",
    "\n",
    "# START > chatbot\n",
    "graph_builder.add_edge(START, \"chatbot\")\n",
    "\n",
    "# chatbot > END\n",
    "graph_builder.add_edge(\"chatbot\", END)"
   ]
  },
  {
   "cell_type": "markdown",
   "id": "c762780f",
   "metadata": {},
   "source": [
    "3) Compile the graph with the `checkpointer`."
   ]
  },
  {
   "cell_type": "code",
   "execution_count": 7,
   "id": "3d4ff857",
   "metadata": {},
   "outputs": [],
   "source": [
    "# Compile a graph builder\n",
    "graph = graph_builder.compile(checkpointer=memory)"
   ]
  },
  {
   "cell_type": "markdown",
   "id": "f4271fd6",
   "metadata": {},
   "source": [
    "4) Visualize the graph."
   ]
  },
  {
   "cell_type": "code",
   "execution_count": 8,
   "id": "f55895f4",
   "metadata": {},
   "outputs": [],
   "source": [
    "from IPython.display import Image, display\n",
    "from langgraph.graph.state import CompiledStateGraph\n",
    "from dataclasses import dataclass\n",
    "\n",
    "\n",
    "# Define node styles to use for visualizing the graph\n",
    "@dataclass\n",
    "class NodeStyles:\n",
    "    default: str = (\n",
    "        \"fill:#45C4B0, fill-opacity:0.3, color:#23260F, stroke:#45C4B0, stroke-width:1px, font-weight:bold, line-height:1.2\"\n",
    "    )\n",
    "    first: str = (\n",
    "        \"fill:#45C4B0, fill-opacity:0.1, color:#23260F, stroke:#45C4B0, stroke-width:1px, font-weight:normal, font-style:italic, stroke-dasharray:2,2\"\n",
    "    )\n",
    "    last: str = (\n",
    "        \"fill:#45C4B0, fill-opacity:1, color:#000000, stroke:#45C4B0, stroke-width:1px, font-weight:normal, font-style:italic, stroke-dasharray:2,2\"\n",
    "    )\n",
    "\n",
    "\n",
    "# Define a function to visualize the graph\n",
    "def visualize_graph(graph, xray=False):\n",
    "    \"\"\"\n",
    "    Displays a visualization of the CompiledStateGraph object.\n",
    "\n",
    "    This function converts the given graph object,\n",
    "    if it is an instance of CompiledStateGraph, into a Mermaid-formatted PNG image and displays it.\n",
    "\n",
    "    Args:\n",
    "        graph: The graph object to be visualized. Must be an instance of CompiledStateGraph.\n",
    "\n",
    "    Returns:\n",
    "        None\n",
    "\n",
    "    Raises:\n",
    "        Exception: Raised if an error occurs during the graph visualization process.\n",
    "    \"\"\"\n",
    "    try:\n",
    "        # Visualize the graph\n",
    "        if isinstance(graph, CompiledStateGraph):\n",
    "            display(\n",
    "                Image(\n",
    "                    graph.get_graph(xray=xray).draw_mermaid_png(\n",
    "                        background_color=\"white\",\n",
    "                        node_colors=NodeStyles(),\n",
    "                    )\n",
    "                )\n",
    "            )\n",
    "    except Exception as e:\n",
    "        print(f\"[ERROR] Visualize Graph Error: {e}\")"
   ]
  },
  {
   "cell_type": "code",
   "execution_count": 9,
   "id": "8928997e",
   "metadata": {},
   "outputs": [
    {
     "data": {
      "image/png": "[encoded data removed]",
      "text/plain": [
       "<IPython.core.display.Image object>"
      ]
     },
     "metadata": {},
     "output_type": "display_data"
    }
   ],
   "source": [
    "visualize_graph(graph)"
   ]
  },
  {
   "cell_type": "markdown",
   "id": "0e32dbc5",
   "metadata": {},
   "source": [
    "## Configuration with `RunnableConfig`\n",
    "\n",
    "Define a `RunnableConfig` object and set the `recursion_limit` and `thread_id` properties.\n",
    "\n",
    "- `recursion_limit`: The maximum number of nodes the graph can visit. Exceeding this limit will trigger a `RecursionError`.\n",
    "- `thread_id`: An ID to distinguish different sessions."
   ]
  },
  {
   "cell_type": "code",
   "execution_count": 10,
   "id": "2fea0653",
   "metadata": {},
   "outputs": [],
   "source": [
    "from langchain_core.runnables import RunnableConfig\n",
    "\n",
    "config = RunnableConfig(\n",
    "    recursion_limit=10,\n",
    "    configurable={\"thread_id\": \"1\"},\n",
    ")"
   ]
  },
  {
   "cell_type": "code",
   "execution_count": 11,
   "id": "ab5c0bad",
   "metadata": {},
   "outputs": [
    {
     "name": "stdout",
     "output_type": "stream",
     "text": [
      "==================================\u001b[1m Ai Message \u001b[0m==================================\n",
      "\n",
      "Hi Hannah! Nice to meet you too! That's awesome that you run a YouTube channel. What kind of content do you create?\n"
     ]
    }
   ],
   "source": [
    "# First question for {\"thread_id\": \"1\"}\n",
    "question = \"Hi! My name is Hannah. I run a YouTube channel. Nice to meet you!\"\n",
    "\n",
    "for event in graph.stream({\"messages\": [(\"user\", question)]}, config=config):\n",
    "    for value in event.values():\n",
    "        value[\"messages\"][-1].pretty_print()"
   ]
  },
  {
   "cell_type": "code",
   "execution_count": 12,
   "id": "4bac57c9",
   "metadata": {},
   "outputs": [
    {
     "name": "stdout",
     "output_type": "stream",
     "text": [
      "==================================\u001b[1m Ai Message \u001b[0m==================================\n",
      "\n",
      "Yes, your name is Hannah! How can I assist you today?\n"
     ]
    }
   ],
   "source": [
    "# Second question for {\"thread_id\": \"1\"}\n",
    "question = \"Do you remember my name?\"\n",
    "\n",
    "for event in graph.stream({\"messages\": [(\"user\", question)]}, config=config):\n",
    "    for value in event.values():\n",
    "        value[\"messages\"][-1].pretty_print()"
   ]
  },
  {
   "cell_type": "markdown",
   "id": "574988ab",
   "metadata": {},
   "source": [
    "Modify the `thread_id` in the `RunnableConfig` to see if the agent remembers the previous conversation."
   ]
  },
  {
   "cell_type": "code",
   "execution_count": 13,
   "id": "e958ba53",
   "metadata": {},
   "outputs": [],
   "source": [
    "config = RunnableConfig(\n",
    "    recursion_limit=10,\n",
    "    configurable={\"thread_id\": \"2\"},  # Change the thread_id\n",
    ")"
   ]
  },
  {
   "cell_type": "code",
   "execution_count": 14,
   "id": "68ce68f9",
   "metadata": {},
   "outputs": [
    {
     "name": "stdout",
     "output_type": "stream",
     "text": [
      "==================================\u001b[1m Ai Message \u001b[0m==================================\n",
      "\n",
      "I don't have the ability to remember personal information or previous interactions. Each session is treated independently. How can I assist you today?\n"
     ]
    }
   ],
   "source": [
    "question = \"Do you remember my name?\"\n",
    "\n",
    "for event in graph.stream({\"messages\": [(\"user\", question)]}, config=config):\n",
    "    for value in event.values():\n",
    "        value[\"messages\"][-1].pretty_print()"
   ]
  },
  {
   "cell_type": "markdown",
   "id": "857821c4",
   "metadata": {},
   "source": [
    "## Inspecting State Snapshots\n",
    "\n",
    "A checkpoint (`snapshot`) stores:\n",
    " - the current state values\n",
    " - corresponding config\n",
    " - The **next** node to process (empty at the end).\n",
    "\n",
    "Call `get_state(config)` to see a graph's `state` for a certain config."
   ]
  },
  {
   "cell_type": "code",
   "execution_count": 15,
   "id": "16d9c636",
   "metadata": {},
   "outputs": [],
   "source": [
    "config = RunnableConfig(\n",
    "    configurable={\"thread_id\": \"1\"},\n",
    ")\n",
    "# Create a snapshot of the graph state\n",
    "snapshot = graph.get_state(config)"
   ]
  },
  {
   "cell_type": "code",
   "execution_count": 16,
   "id": "5c9238d8",
   "metadata": {},
   "outputs": [
    {
     "data": {
      "text/plain": [
       "StateSnapshot(values={'messages': [HumanMessage(content='Hi! My name is Hannah. I run a YouTube channel. Nice to meet you!', additional_kwargs={}, response_metadata={}, id='f97ccf7d-a15d-4b02-9974-3908b008e181'), AIMessage(content=\"Hi Hannah! Nice to meet you too! That's awesome that you run a YouTube channel. What kind of content do you create?\", additional_kwargs={'refusal': None}, response_metadata={'token_usage': {'completion_tokens': 29, 'prompt_tokens': 98, 'total_tokens': 127, 'completion_tokens_details': {'accepted_prediction_tokens': 0, 'audio_tokens': 0, 'reasoning_tokens': 0, 'rejected_prediction_tokens': 0}, 'prompt_tokens_details': {'audio_tokens': 0, 'cached_tokens': 0}}, 'model_name': 'gpt-4o-mini-2024-07-18', 'system_fingerprint': 'fp_72ed7ab54c', 'finish_reason': 'stop', 'logprobs': None}, id='run-4a48ff7d-4c42-4406-a65c-047e55d782bb-0', usage_metadata={'input_tokens': 98, 'output_tokens': 29, 'total_tokens': 127, 'input_token_details': {'audio': 0, 'cache_read': 0}, 'output_token_details': {'audio': 0, 'reasoning': 0}}), HumanMessage(content='Do you remember my name?', additional_kwargs={}, response_metadata={}, id='05bcbd52-3ce8-408e-9ba4-2087d46d8f9a'), AIMessage(content='Yes, your name is Hannah! How can I assist you today?', additional_kwargs={'refusal': None}, response_metadata={'token_usage': {'completion_tokens': 16, 'prompt_tokens': 139, 'total_tokens': 155, 'completion_tokens_details': {'accepted_prediction_tokens': 0, 'audio_tokens': 0, 'reasoning_tokens': 0, 'rejected_prediction_tokens': 0}, 'prompt_tokens_details': {'audio_tokens': 0, 'cached_tokens': 0}}, 'model_name': 'gpt-4o-mini-2024-07-18', 'system_fingerprint': 'fp_72ed7ab54c', 'finish_reason': 'stop', 'logprobs': None}, id='run-13f47663-d83d-4d9d-9304-acbabb32e5fe-0', usage_metadata={'input_tokens': 139, 'output_tokens': 16, 'total_tokens': 155, 'input_token_details': {'audio': 0, 'cache_read': 0}, 'output_token_details': {'audio': 0, 'reasoning': 0}})]}, next=(), config={'configurable': {'thread_id': '1', 'checkpoint_ns': '', 'checkpoint_id': '1efd6f6a-bfa9-6ae9-8004-08c865005c63'}}, metadata={'source': 'loop', 'writes': {'chatbot': {'messages': [AIMessage(content='Yes, your name is Hannah! How can I assist you today?', additional_kwargs={'refusal': None}, response_metadata={'token_usage': {'completion_tokens': 16, 'prompt_tokens': 139, 'total_tokens': 155, 'completion_tokens_details': {'accepted_prediction_tokens': 0, 'audio_tokens': 0, 'reasoning_tokens': 0, 'rejected_prediction_tokens': 0}, 'prompt_tokens_details': {'audio_tokens': 0, 'cached_tokens': 0}}, 'model_name': 'gpt-4o-mini-2024-07-18', 'system_fingerprint': 'fp_72ed7ab54c', 'finish_reason': 'stop', 'logprobs': None}, id='run-13f47663-d83d-4d9d-9304-acbabb32e5fe-0', usage_metadata={'input_tokens': 139, 'output_tokens': 16, 'total_tokens': 155, 'input_token_details': {'audio': 0, 'cache_read': 0}, 'output_token_details': {'audio': 0, 'reasoning': 0}})]}}, 'thread_id': '1', 'step': 4, 'parents': {}}, created_at='2025-01-20T06:20:40.740119+00:00', parent_config={'configurable': {'thread_id': '1', 'checkpoint_ns': '', 'checkpoint_id': '1efd6f6a-b6e5-62c6-8003-cf6983af2d22'}}, tasks=())"
      ]
     },
     "execution_count": 16,
     "metadata": {},
     "output_type": "execute_result"
    }
   ],
   "source": [
    "snapshot"
   ]
  },
  {
   "cell_type": "markdown",
   "id": "5ef39bd5",
   "metadata": {},
   "source": [
    "You can access the **configuration** with `snapshot.config`."
   ]
  },
  {
   "cell_type": "code",
   "execution_count": 17,
   "id": "a203fa62",
   "metadata": {},
   "outputs": [
    {
     "data": {
      "text/plain": [
       "{'configurable': {'thread_id': '1',\n",
       "  'checkpoint_ns': '',\n",
       "  'checkpoint_id': '1efd6f6a-bfa9-6ae9-8004-08c865005c63'}}"
      ]
     },
     "execution_count": 17,
     "metadata": {},
     "output_type": "execute_result"
    }
   ],
   "source": [
    "# Configuration of the snapshot\n",
    "snapshot.config"
   ]
  },
  {
   "cell_type": "markdown",
   "id": "4917d010",
   "metadata": {},
   "source": [
    "You can access the **saved states** with `snapshot.value`."
   ]
  },
  {
   "cell_type": "code",
   "execution_count": 18,
   "id": "683a655b",
   "metadata": {},
   "outputs": [
    {
     "data": {
      "text/plain": [
       "{'messages': [HumanMessage(content='Hi! My name is Hannah. I run a YouTube channel. Nice to meet you!', additional_kwargs={}, response_metadata={}, id='f97ccf7d-a15d-4b02-9974-3908b008e181'),\n",
       "  AIMessage(content=\"Hi Hannah! Nice to meet you too! That's awesome that you run a YouTube channel. What kind of content do you create?\", additional_kwargs={'refusal': None}, response_metadata={'token_usage': {'completion_tokens': 29, 'prompt_tokens': 98, 'total_tokens': 127, 'completion_tokens_details': {'accepted_prediction_tokens': 0, 'audio_tokens': 0, 'reasoning_tokens': 0, 'rejected_prediction_tokens': 0}, 'prompt_tokens_details': {'audio_tokens': 0, 'cached_tokens': 0}}, 'model_name': 'gpt-4o-mini-2024-07-18', 'system_fingerprint': 'fp_72ed7ab54c', 'finish_reason': 'stop', 'logprobs': None}, id='run-4a48ff7d-4c42-4406-a65c-047e55d782bb-0', usage_metadata={'input_tokens': 98, 'output_tokens': 29, 'total_tokens': 127, 'input_token_details': {'audio': 0, 'cache_read': 0}, 'output_token_details': {'audio': 0, 'reasoning': 0}}),\n",
       "  HumanMessage(content='Do you remember my name?', additional_kwargs={}, response_metadata={}, id='05bcbd52-3ce8-408e-9ba4-2087d46d8f9a'),\n",
       "  AIMessage(content='Yes, your name is Hannah! How can I assist you today?', additional_kwargs={'refusal': None}, response_metadata={'token_usage': {'completion_tokens': 16, 'prompt_tokens': 139, 'total_tokens': 155, 'completion_tokens_details': {'accepted_prediction_tokens': 0, 'audio_tokens': 0, 'reasoning_tokens': 0, 'rejected_prediction_tokens': 0}, 'prompt_tokens_details': {'audio_tokens': 0, 'cached_tokens': 0}}, 'model_name': 'gpt-4o-mini-2024-07-18', 'system_fingerprint': 'fp_72ed7ab54c', 'finish_reason': 'stop', 'logprobs': None}, id='run-13f47663-d83d-4d9d-9304-acbabb32e5fe-0', usage_metadata={'input_tokens': 139, 'output_tokens': 16, 'total_tokens': 155, 'input_token_details': {'audio': 0, 'cache_read': 0}, 'output_token_details': {'audio': 0, 'reasoning': 0}})]}"
      ]
     },
     "execution_count": 18,
     "metadata": {},
     "output_type": "execute_result"
    }
   ],
   "source": [
    "# Values saved in the snapshot\n",
    "snapshot.values"
   ]
  },
  {
   "cell_type": "markdown",
   "id": "6223078c",
   "metadata": {},
   "source": [
    "You can use `snapshot.next` to see which **node** will be processed next. In this case, `snapshot.next` is empty since the graph reaches the **END** node."
   ]
  },
  {
   "cell_type": "code",
   "execution_count": 19,
   "id": "c38af74d",
   "metadata": {},
   "outputs": [
    {
     "data": {
      "text/plain": [
       "()"
      ]
     },
     "execution_count": 19,
     "metadata": {},
     "output_type": "execute_result"
    }
   ],
   "source": [
    "# Next node\n",
    "snapshot.next"
   ]
  },
  {
   "cell_type": "markdown",
   "id": "feb4adfc",
   "metadata": {},
   "source": [
    "Define custom functions to view the complete contents of `snapshot` and its metadata (`snapshot.metadata`)."
   ]
  },
  {
   "cell_type": "code",
   "execution_count": 20,
   "id": "7628dd91",
   "metadata": {},
   "outputs": [],
   "source": [
    "import json\n",
    "\n",
    "\n",
    "# Custom function to serialize non-JSON serializable objects\n",
    "def custom_serializer(obj):\n",
    "    if hasattr(obj, \"__dict__\"):\n",
    "        return obj.__dict__\n",
    "    elif isinstance(obj, (list, tuple)):\n",
    "        return [custom_serializer(item) for item in obj]\n",
    "    return str(obj)\n",
    "\n",
    "\n",
    "# Custom function to print the snapshot\n",
    "def pretty_print_snapshot(snapshot):\n",
    "    try:\n",
    "        snapshot_json = json.dumps(\n",
    "            snapshot, indent=4, ensure_ascii=False, default=custom_serializer\n",
    "        )\n",
    "        print(snapshot_json)\n",
    "    except Exception as e:\n",
    "        print(f\"Error formatting snapshot: {e}\")"
   ]
  },
  {
   "cell_type": "code",
   "execution_count": 21,
   "id": "d9192714",
   "metadata": {},
   "outputs": [
    {
     "name": "stdout",
     "output_type": "stream",
     "text": [
      "[\n",
      "    {\n",
      "        \"messages\": [\n",
      "            {\n",
      "                \"content\": \"Hi! My name is Hannah. I run a YouTube channel. Nice to meet you!\",\n",
      "                \"additional_kwargs\": {},\n",
      "                \"response_metadata\": {},\n",
      "                \"type\": \"human\",\n",
      "                \"name\": null,\n",
      "                \"id\": \"f97ccf7d-a15d-4b02-9974-3908b008e181\",\n",
      "                \"example\": false\n",
      "            },\n",
      "            {\n",
      "                \"content\": \"Hi Hannah! Nice to meet you too! That's awesome that you run a YouTube channel. What kind of content do you create?\",\n",
      "                \"additional_kwargs\": {\n",
      "                    \"refusal\": null\n",
      "                },\n",
      "                \"response_metadata\": {\n",
      "                    \"token_usage\": {\n",
      "                        \"completion_tokens\": 29,\n",
      "                        \"prompt_tokens\": 98,\n",
      "                        \"total_tokens\": 127,\n",
      "                        \"completion_tokens_details\": {\n",
      "                            \"accepted_prediction_tokens\": 0,\n",
      "                            \"audio_tokens\": 0,\n",
      "                            \"reasoning_tokens\": 0,\n",
      "                            \"rejected_prediction_tokens\": 0\n",
      "                        },\n",
      "                        \"prompt_tokens_details\": {\n",
      "                            \"audio_tokens\": 0,\n",
      "                            \"cached_tokens\": 0\n",
      "                        }\n",
      "                    },\n",
      "                    \"model_name\": \"gpt-4o-mini-2024-07-18\",\n",
      "                    \"system_fingerprint\": \"fp_72ed7ab54c\",\n",
      "                    \"finish_reason\": \"stop\",\n",
      "                    \"logprobs\": null\n",
      "                },\n",
      "                \"type\": \"ai\",\n",
      "                \"name\": null,\n",
      "                \"id\": \"run-4a48ff7d-4c42-4406-a65c-047e55d782bb-0\",\n",
      "                \"example\": false,\n",
      "                \"tool_calls\": [],\n",
      "                \"invalid_tool_calls\": [],\n",
      "                \"usage_metadata\": {\n",
      "                    \"input_tokens\": 98,\n",
      "                    \"output_tokens\": 29,\n",
      "                    \"total_tokens\": 127,\n",
      "                    \"input_token_details\": {\n",
      "                        \"audio\": 0,\n",
      "                        \"cache_read\": 0\n",
      "                    },\n",
      "                    \"output_token_details\": {\n",
      "                        \"audio\": 0,\n",
      "                        \"reasoning\": 0\n",
      "                    }\n",
      "                }\n",
      "            },\n",
      "            {\n",
      "                \"content\": \"Do you remember my name?\",\n",
      "                \"additional_kwargs\": {},\n",
      "                \"response_metadata\": {},\n",
      "                \"type\": \"human\",\n",
      "                \"name\": null,\n",
      "                \"id\": \"05bcbd52-3ce8-408e-9ba4-2087d46d8f9a\",\n",
      "                \"example\": false\n",
      "            },\n",
      "            {\n",
      "                \"content\": \"Yes, your name is Hannah! How can I assist you today?\",\n",
      "                \"additional_kwargs\": {\n",
      "                    \"refusal\": null\n",
      "                },\n",
      "                \"response_metadata\": {\n",
      "                    \"token_usage\": {\n",
      "                        \"completion_tokens\": 16,\n",
      "                        \"prompt_tokens\": 139,\n",
      "                        \"total_tokens\": 155,\n",
      "                        \"completion_tokens_details\": {\n",
      "                            \"accepted_prediction_tokens\": 0,\n",
      "                            \"audio_tokens\": 0,\n",
      "                            \"reasoning_tokens\": 0,\n",
      "                            \"rejected_prediction_tokens\": 0\n",
      "                        },\n",
      "                        \"prompt_tokens_details\": {\n",
      "                            \"audio_tokens\": 0,\n",
      "                            \"cached_tokens\": 0\n",
      "                        }\n",
      "                    },\n",
      "                    \"model_name\": \"gpt-4o-mini-2024-07-18\",\n",
      "                    \"system_fingerprint\": \"fp_72ed7ab54c\",\n",
      "                    \"finish_reason\": \"stop\",\n",
      "                    \"logprobs\": null\n",
      "                },\n",
      "                \"type\": \"ai\",\n",
      "                \"name\": null,\n",
      "                \"id\": \"run-13f47663-d83d-4d9d-9304-acbabb32e5fe-0\",\n",
      "                \"example\": false,\n",
      "                \"tool_calls\": [],\n",
      "                \"invalid_tool_calls\": [],\n",
      "                \"usage_metadata\": {\n",
      "                    \"input_tokens\": 139,\n",
      "                    \"output_tokens\": 16,\n",
      "                    \"total_tokens\": 155,\n",
      "                    \"input_token_details\": {\n",
      "                        \"audio\": 0,\n",
      "                        \"cache_read\": 0\n",
      "                    },\n",
      "                    \"output_token_details\": {\n",
      "                        \"audio\": 0,\n",
      "                        \"reasoning\": 0\n",
      "                    }\n",
      "                }\n",
      "            }\n",
      "        ]\n",
      "    },\n",
      "    [],\n",
      "    {\n",
      "        \"configurable\": {\n",
      "            \"thread_id\": \"1\",\n",
      "            \"checkpoint_ns\": \"\",\n",
      "            \"checkpoint_id\": \"1efd6f6a-bfa9-6ae9-8004-08c865005c63\"\n",
      "        }\n",
      "    },\n",
      "    {\n",
      "        \"source\": \"loop\",\n",
      "        \"writes\": {\n",
      "            \"chatbot\": {\n",
      "                \"messages\": [\n",
      "                    {\n",
      "                        \"content\": \"Yes, your name is Hannah! How can I assist you today?\",\n",
      "                        \"additional_kwargs\": {\n",
      "                            \"refusal\": null\n",
      "                        },\n",
      "                        \"response_metadata\": {\n",
      "                            \"token_usage\": {\n",
      "                                \"completion_tokens\": 16,\n",
      "                                \"prompt_tokens\": 139,\n",
      "                                \"total_tokens\": 155,\n",
      "                                \"completion_tokens_details\": {\n",
      "                                    \"accepted_prediction_tokens\": 0,\n",
      "                                    \"audio_tokens\": 0,\n",
      "                                    \"reasoning_tokens\": 0,\n",
      "                                    \"rejected_prediction_tokens\": 0\n",
      "                                },\n",
      "                                \"prompt_tokens_details\": {\n",
      "                                    \"audio_tokens\": 0,\n",
      "                                    \"cached_tokens\": 0\n",
      "                                }\n",
      "                            },\n",
      "                            \"model_name\": \"gpt-4o-mini-2024-07-18\",\n",
      "                            \"system_fingerprint\": \"fp_72ed7ab54c\",\n",
      "                            \"finish_reason\": \"stop\",\n",
      "                            \"logprobs\": null\n",
      "                        },\n",
      "                        \"type\": \"ai\",\n",
      "                        \"name\": null,\n",
      "                        \"id\": \"run-13f47663-d83d-4d9d-9304-acbabb32e5fe-0\",\n",
      "                        \"example\": false,\n",
      "                        \"tool_calls\": [],\n",
      "                        \"invalid_tool_calls\": [],\n",
      "                        \"usage_metadata\": {\n",
      "                            \"input_tokens\": 139,\n",
      "                            \"output_tokens\": 16,\n",
      "                            \"total_tokens\": 155,\n",
      "                            \"input_token_details\": {\n",
      "                                \"audio\": 0,\n",
      "                                \"cache_read\": 0\n",
      "                            },\n",
      "                            \"output_token_details\": {\n",
      "                                \"audio\": 0,\n",
      "                                \"reasoning\": 0\n",
      "                            }\n",
      "                        }\n",
      "                    }\n",
      "                ]\n",
      "            }\n",
      "        },\n",
      "        \"thread_id\": \"1\",\n",
      "        \"step\": 4,\n",
      "        \"parents\": {}\n",
      "    },\n",
      "    \"2025-01-20T06:20:40.740119+00:00\",\n",
      "    {\n",
      "        \"configurable\": {\n",
      "            \"thread_id\": \"1\",\n",
      "            \"checkpoint_ns\": \"\",\n",
      "            \"checkpoint_id\": \"1efd6f6a-b6e5-62c6-8003-cf6983af2d22\"\n",
      "        }\n",
      "    },\n",
      "    []\n",
      "]\n"
     ]
    }
   ],
   "source": [
    "pretty_print_snapshot(snapshot)"
   ]
  },
  {
   "cell_type": "code",
   "execution_count": 22,
   "id": "294ff7b4",
   "metadata": {},
   "outputs": [
    {
     "name": "stdout",
     "output_type": "stream",
     "text": [
      "{\n",
      "    \"source\": \"loop\",\n",
      "    \"writes\": {\n",
      "        \"chatbot\": {\n",
      "            \"messages\": [\n",
      "                {\n",
      "                    \"content\": \"Yes, your name is Hannah! How can I assist you today?\",\n",
      "                    \"additional_kwargs\": {\n",
      "                        \"refusal\": null\n",
      "                    },\n",
      "                    \"response_metadata\": {\n",
      "                        \"token_usage\": {\n",
      "                            \"completion_tokens\": 16,\n",
      "                            \"prompt_tokens\": 139,\n",
      "                            \"total_tokens\": 155,\n",
      "                            \"completion_tokens_details\": {\n",
      "                                \"accepted_prediction_tokens\": 0,\n",
      "                                \"audio_tokens\": 0,\n",
      "                                \"reasoning_tokens\": 0,\n",
      "                                \"rejected_prediction_tokens\": 0\n",
      "                            },\n",
      "                            \"prompt_tokens_details\": {\n",
      "                                \"audio_tokens\": 0,\n",
      "                                \"cached_tokens\": 0\n",
      "                            }\n",
      "                        },\n",
      "                        \"model_name\": \"gpt-4o-mini-2024-07-18\",\n",
      "                        \"system_fingerprint\": \"fp_72ed7ab54c\",\n",
      "                        \"finish_reason\": \"stop\",\n",
      "                        \"logprobs\": null\n",
      "                    },\n",
      "                    \"type\": \"ai\",\n",
      "                    \"name\": null,\n",
      "                    \"id\": \"run-13f47663-d83d-4d9d-9304-acbabb32e5fe-0\",\n",
      "                    \"example\": false,\n",
      "                    \"tool_calls\": [],\n",
      "                    \"invalid_tool_calls\": [],\n",
      "                    \"usage_metadata\": {\n",
      "                        \"input_tokens\": 139,\n",
      "                        \"output_tokens\": 16,\n",
      "                        \"total_tokens\": 155,\n",
      "                        \"input_token_details\": {\n",
      "                            \"audio\": 0,\n",
      "                            \"cache_read\": 0\n",
      "                        },\n",
      "                        \"output_token_details\": {\n",
      "                            \"audio\": 0,\n",
      "                            \"reasoning\": 0\n",
      "                        }\n",
      "                    }\n",
      "                }\n",
      "            ]\n",
      "        }\n",
      "    },\n",
      "    \"thread_id\": \"1\",\n",
      "    \"step\": 4,\n",
      "    \"parents\": {}\n",
      "}\n"
     ]
    }
   ],
   "source": [
    "pretty_print_snapshot(snapshot.metadata)"
   ]
  }
 ],
 "metadata": {
  "kernelspec": {
   "display_name": "langchain-kr-ARohChI8-py3.11",
   "language": "python",
   "name": "python3"
  },
  "language_info": {
   "codemirror_mode": {
    "name": "ipython",
    "version": 3
   },
   "file_extension": ".py",
   "mimetype": "text/x-python",
   "name": "python",
   "nbconvert_exporter": "python",
   "pygments_lexer": "ipython3",
   "version": "3.11.9"
  }
 },
 "nbformat": 4,
 "nbformat_minor": 5
}
