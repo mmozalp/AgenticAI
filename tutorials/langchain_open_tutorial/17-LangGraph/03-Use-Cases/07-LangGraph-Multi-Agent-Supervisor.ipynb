{
 "cells": [
  {
   "cell_type": "markdown",
   "metadata": {},
   "source": [
    "# Multi-Agent Supervisor\n",
    "\n",
    "- Author: [Sungchul Kim](https://github.com/rlatjcj)\n",
    "- Design:\n",
    "- Peer Review:\n",
    "- This is a part of [LangChain Open Tutorial](https://github.com/LangChain-OpenTutorial/LangChain-OpenTutorial)\n",
    "\n",
    "[![Open in Colab](https://colab.research.google.com/assets/colab-badge.svg)](https://colab.research.google.com/github/LangChain-OpenTutorial/LangChain-OpenTutorial/blob/main/17-LangGraph/03-Use-Cases/07-LangGraph-Multi-Agent-Supervisor.ipynb) [![Open in GitHub](https://img.shields.io/badge/Open%20in%20GitHub-181717?style=flat-square&logo=github&logoColor=white)](https://github.com/LangChain-OpenTutorial/LangChain-OpenTutorial/blob/main/17-LangGraph/03-Use-Cases/07-LangGraph-Multi-Agent-Supervisor.ipynb)\n",
    "\n",
    "## Overview\n",
    "\n",
    "In the previous tutorial, we showed how to automatically route messages based on the output of the initial Researcher agent.\n",
    "However, when there are multiple agents that need to be coordinated, simple branching logic has limitations.\n",
    "Here, we introduce how to manage agents through [LLM-based Supervisor](https://langchain-ai.github.io/langgraph/concepts/multi_agent/#supervisor) and coordinate the entire team based on the results of each agent node.\n",
    "\n",
    "\n",
    "In this tutorial, we'll explore how to build **a multi-agent system** using **LangGraph** , efficiently coordinate tasks between agents, and manage them through **a Supervisor** .  \n",
    "We'll cover handling multiple agents simultaneously, managing each agent to perform their role, and properly handling task completion.\n",
    "\n",
    "**Key Points** :\n",
    "- The Supervisor brings together various expert agents and operates them as a single team.\n",
    "- The Supervisor agent monitors the team's progress and executes logic such as calling appropriate agents for each step or terminating tasks.\n",
    "\n",
    "<div align=\"center\">\n",
    "  <img src=\"./assets/07-langgraph-multi-agent-supervisor.png\"/>\n",
    "</div>\n",
    "\n",
    "**What We'll Cover in This Tutorial**\n",
    "\n",
    "- **Setup** : How to install required packages and set up API keys\n",
    "- **Tool Creation** : Defining tools for agents to use, such as web search and plot generation\n",
    "- **Helper Utilities** : Defining utility functions needed for creating agent nodes\n",
    "- **Creating the Supervisor** : Creating a Supervisor that contains logic for selecting Worker nodes and handling task completion\n",
    "- **Constructing the Graph** : Constructing the complete graph by defining State and Worker nodes\n",
    "- **Calling the Team** : Calling the graph to see how the multi-agent system actually works\n",
    "\n",
    "In this process, we'll use LangGraph's pre-built [create_react_agent](https://langchain-ai.github.io/langgraph/reference/prebuilt/#langgraph.prebuilt.chat_agent_executor.create_react_agent) function to simplify each agent node.\n",
    "\n",
    "This use of \"advanced agents\" is meant to demonstrate specific design patterns in LangGraph, and can be combined with other basic patterns as needed to achieve optimal results.\n",
    "\n",
    "### Table of Contents\n",
    "\n",
    "- [Overview](#overview)\n",
    "- [Environment Setup](#environment-setup)\n",
    "- [Setting State](#setting-state)\n",
    "- [Creating Agents](#creating-agents)\n",
    "- [Constructing the Graph](#constructing-the-graph)\n",
    "- [Calling the Team](#calling-the-team)\n",
    "\n",
    "### References\n",
    "\n",
    "- [LangGraph - Multi-Agent - Supervisor](https://langchain-ai.github.io/langgraph/concepts/multi_agent/#supervisor)\n",
    "\n",
    "----"
   ]
  },
  {
   "cell_type": "markdown",
   "metadata": {},
   "source": [
    "## Environment Setup\n",
    "\n",
    "Set up the environment. You may refer to [Environment Setup](https://wikidocs.net/257836) for more details.\n",
    "\n",
    "**[Note]**\n",
    "- `langchain-opentutorial` is a package that provides a set of easy-to-use environment setup, useful functions and utilities for tutorials. \n",
    "- You can checkout the [`langchain-opentutorial`](https://github.com/LangChain-OpenTutorial/langchain-opentutorial-pypi) for more details."
   ]
  },
  {
   "cell_type": "code",
   "execution_count": 1,
   "metadata": {},
   "outputs": [],
   "source": [
    "%%capture --no-stderr\n",
    "%pip install langchain-opentutorial"
   ]
  },
  {
   "cell_type": "code",
   "execution_count": 3,
   "metadata": {},
   "outputs": [],
   "source": [
    "# Install required packages\n",
    "from langchain_opentutorial import package\n",
    "\n",
    "package.install(\n",
    "    [\n",
    "        \"python-dotenv\",\n",
    "        \"langchain_core\",\n",
    "        \"langchain_community\",\n",
    "        \"langchain_openai\",\n",
    "        \"langchain_experimental\",\n",
    "        \"langgraph\",\n",
    "        \"matplotlib\",\n",
    "    ],\n",
    "    verbose=False,\n",
    "    upgrade=False,\n",
    ")"
   ]
  },
  {
   "cell_type": "code",
   "execution_count": 4,
   "metadata": {},
   "outputs": [
    {
     "name": "stdout",
     "output_type": "stream",
     "text": [
      "Environment variables have been set successfully.\n"
     ]
    }
   ],
   "source": [
    "# Set environment variables\n",
    "from langchain_opentutorial import set_env\n",
    "\n",
    "set_env(\n",
    "    {\n",
    "        \"OPENAI_API_KEY\": \"\",\n",
    "        \"LANGCHAIN_API_KEY\": \"\",\n",
    "        \"TAVILY_API_KEY\": \"\",\n",
    "        \"LANGCHAIN_TRACING_V2\": \"true\",\n",
    "        \"LANGCHAIN_ENDPOINT\": \"https://api.smith.langchain.com\",\n",
    "        \"LANGCHAIN_PROJECT\": \"Multi-Agent-Supervisor\",\n",
    "    }\n",
    ")"
   ]
  },
  {
   "cell_type": "markdown",
   "metadata": {},
   "source": [
    "You can alternatively set API keys such as `OPENAI_API_KEY` in a `.env` file and load them.\n",
    "\n",
    "[Note] This is not necessary if you've already set the required API keys in previous steps."
   ]
  },
  {
   "cell_type": "code",
   "execution_count": 5,
   "metadata": {},
   "outputs": [
    {
     "data": {
      "text/plain": [
       "True"
      ]
     },
     "execution_count": 5,
     "metadata": {},
     "output_type": "execute_result"
    }
   ],
   "source": [
    "# Load API keys from .env file\n",
    "from dotenv import load_dotenv\n",
    "\n",
    "load_dotenv(override=True)"
   ]
  },
  {
   "cell_type": "markdown",
   "metadata": {},
   "source": [
    "## Setting State\n",
    "\n",
    "Define **state** to be used in the multi-agent system."
   ]
  },
  {
   "cell_type": "code",
   "execution_count": 6,
   "metadata": {},
   "outputs": [],
   "source": [
    "import operator\n",
    "from typing import Annotated, Sequence\n",
    "\n",
    "from langchain_core.messages import BaseMessage\n",
    "from typing_extensions import TypedDict\n",
    "\n",
    "\n",
    "class AgentState(TypedDict):\n",
    "    \"\"\"Define state to be used in the multi-agent system.\"\"\"\n",
    "    messages: Annotated[Sequence[BaseMessage], operator.add]  # messages\n",
    "    next: str  # next agent to route to"
   ]
  },
  {
   "cell_type": "markdown",
   "metadata": {},
   "source": [
    "## Creating Agents\n",
    "\n",
    "### Creating Tools\n",
    "\n",
    "In this example, we'll create agents that use a search engine to perform web research and generate plots.\n",
    "\n",
    "Define the tools to be used below.\n",
    "\n",
    "- **Research** : Use `TavilySearch` tool to perform web research. To use this tool, you need to set the `TAVILY_API_KEY` . Please refer to [previous tutorial](https://langchain-opentutorial.gitbook.io/langchain-opentutorial/15-agent/01-tools#search-api-tooltavily) for more details.\n",
    "- **Coder** : Use `PythonREPLTool` tool to run code."
   ]
  },
  {
   "cell_type": "code",
   "execution_count": 7,
   "metadata": {},
   "outputs": [],
   "source": [
    "from langchain_community.tools.tavily_search import TavilySearchResults\n",
    "from langchain_experimental.tools import PythonREPLTool\n",
    "\n",
    "\n",
    "# Initialize Tavily search tool that returns up to 5 search results\n",
    "tavily_tool = TavilySearchResults(max_results=5)\n",
    "\n",
    "# Initialize Python REPL tool that runs code locally (may not be safe)\n",
    "python_repl_tool = PythonREPLTool()"
   ]
  },
  {
   "cell_type": "markdown",
   "metadata": {},
   "source": [
    "### Creating Utility for Creating Agents\n",
    "\n",
    "When building a multi-agent system using LangGraph, **helper functions** play a crucial role in creating and managing agent nodes. These functions enhance code reusability and simplify interactions between agents.\n",
    "\n",
    "- **Creating Agent Nodes** : Define functions to create nodes for each agent's role\n",
    "- **Managing Workflow** : Provide utilities to manage the workflow between agents\n",
    "- **Error Handling** : Include mechanisms to handle errors that may occur during agent execution"
   ]
  },
  {
   "cell_type": "markdown",
   "metadata": {},
   "source": [
    "The following is an example of defining a function called `agent_node` .\n",
    "\n",
    "This function creates an agent node using the given state and agent. We will call this function later using `functools.partial` ."
   ]
  },
  {
   "cell_type": "code",
   "execution_count": 8,
   "metadata": {},
   "outputs": [],
   "source": [
    "from langchain_core.messages import HumanMessage\n",
    "\n",
    "\n",
    "# Create an agent node using the specified agent and name\n",
    "def agent_node(state, agent, name):\n",
    "    # Call the agent\n",
    "    agent_response = agent.invoke(state)\n",
    "    # Convert the last message of the agent to a HumanMessage and return it\n",
    "    return {\n",
    "        \"messages\": [\n",
    "            HumanMessage(content=agent_response[\"messages\"][-1].content, name=name)\n",
    "        ]\n",
    "    }"
   ]
  },
  {
   "cell_type": "markdown",
   "metadata": {},
   "source": [
    "Below is an example of creating a `research_node` using `functools.partial` ."
   ]
  },
  {
   "cell_type": "code",
   "execution_count": 9,
   "metadata": {},
   "outputs": [],
   "source": [
    "import functools\n",
    "\n",
    "from langchain_openai import ChatOpenAI\n",
    "from langgraph.prebuilt import create_react_agent\n",
    "\n",
    "\n",
    "# Create a Research Agent\n",
    "research_agent = create_react_agent(ChatOpenAI(model=\"gpt-4o\"), tools=[tavily_tool])\n",
    "\n",
    "# Create a Research Node\n",
    "research_node = functools.partial(agent_node, agent=research_agent, name=\"Researcher\")"
   ]
  },
  {
   "cell_type": "markdown",
   "metadata": {},
   "source": [
    "\n",
    "> **Note**\n",
    ">\n",
    "> Role of `functools.partial`\n",
    ">\n",
    "> `functools.partial` is used to create a new function by fixing some arguments or keyword arguments of an existing function. In other words, it helps simplify commonly used function call patterns.\n",
    ">\n",
    "> **Roles**\n",
    ">\n",
    "> 1. **Create new function with predefined values** : Returns a new function with some arguments of the existing function pre-specified.\n",
    "> 2. **Code simplification** : Reduces code duplication by simplifying commonly used function call patterns.\n",
    "> 3. **Improved readability** : Customizes function behavior for specific tasks to make it more intuitive to use.\n",
    ">\n",
    "> **Example code**\n",
    "> ```python\n",
    "> research_node = functools.partial(agent_node, agent=research_agent, names=\"Researcher\")\n",
    "> ```\n",
    ">\n",
    "> 1. Assume there is an existing function called `agent_node` .\n",
    ">    - This function can accept multiple arguments and keyword arguments.\n",
    ">\n",
    "> 2. `functools.partial` fixes the values `agent=research_agent` and `names=\"Researcher\"` for this function.\n",
    ">    - This means that `research_node` no longer needs to specify the `agent` and `names` values when calling `agent_node` .\n",
    ">    - For example:\n",
    ">     ```python\n",
    ">     agent_node(state, agent=research_agent, names=\"Researcher\")\n",
    ">     ```\n",
    ">     Instead, you can use:\n",
    ">     ```python\n",
    ">     research_node(state)\n",
    ">     ```"
   ]
  },
  {
   "cell_type": "markdown",
   "metadata": {},
   "source": [
    "Let's run the code and check the results."
   ]
  },
  {
   "cell_type": "code",
   "execution_count": 10,
   "metadata": {},
   "outputs": [
    {
     "data": {
      "text/plain": [
       "{'messages': [HumanMessage(content='To code a \"Hello, World!\" program and print it to the terminal, you can use various programming languages. Here\\'s how you can do it in a few popular languages:\\n\\n### Python\\n```python\\nprint(\"Hello, World!\")\\n```\\n\\n### JavaScript (Node.js)\\n```javascript\\nconsole.log(\"Hello, World!\");\\n```\\n\\n### Java\\n```java\\npublic class HelloWorld {\\n    public static void main(String[] args) {\\n        System.out.println(\"Hello, World!\");\\n    }\\n}\\n```\\n\\n### C\\n```c\\n#include <stdio.h>\\n\\nint main() {\\n    printf(\"Hello, World!\\\\n\");\\n    return 0;\\n}\\n```\\n\\n### C++\\n```cpp\\n#include <iostream>\\n\\nint main() {\\n    std::cout << \"Hello, World!\" << std::endl;\\n    return 0;\\n}\\n```\\n\\n### Ruby\\n```ruby\\nputs \"Hello, World!\"\\n```\\n\\n### Bash\\n```bash\\necho \"Hello, World!\"\\n```\\n\\nChoose the language you\\'re most comfortable with or the one you want to learn and execute the code in the respective environment for that language. For example, use a Python interpreter for Python, Node.js for JavaScript, etc.', additional_kwargs={}, response_metadata={}, name='Researcher')]}"
      ]
     },
     "execution_count": 10,
     "metadata": {},
     "output_type": "execute_result"
    }
   ],
   "source": [
    "research_node(\n",
    "    {\n",
    "        \"messages\": [\n",
    "            HumanMessage(content=\"Code hello world and print it to the terminal\")\n",
    "        ]\n",
    "    }\n",
    ")"
   ]
  },
  {
   "cell_type": "markdown",
   "metadata": {},
   "source": [
    "### Creating Agent Supervisor\n",
    "\n",
    "Create an agent that manages and supervises agents."
   ]
  },
  {
   "cell_type": "code",
   "execution_count": 11,
   "metadata": {},
   "outputs": [],
   "source": [
    "from typing import Literal\n",
    "\n",
    "from pydantic import BaseModel\n",
    "\n",
    "\n",
    "# Define the list of member agents\n",
    "members = [\"Researcher\", \"Coder\"]\n",
    "\n",
    "# Define the list of options for selecting the next worker\n",
    "options_for_next = [\"FINISH\"] + members\n",
    "\n",
    "# Define the response model for selecting the next worker: indicates selecting the next worker or completing the task\n",
    "class RouteResponse(BaseModel):\n",
    "    next: Literal[*options_for_next]"
   ]
  },
  {
   "cell_type": "code",
   "execution_count": 12,
   "metadata": {},
   "outputs": [],
   "source": [
    "from langchain_core.prompts import ChatPromptTemplate, MessagesPlaceholder\n",
    "from langchain_openai import ChatOpenAI\n",
    "\n",
    "\n",
    "# Define the system prompt: a supervisor tasked with managing a conversation between workers\n",
    "system_prompt = (\n",
    "    \"You are a supervisor tasked with managing a conversation between the\"\n",
    "    \" following workers:  {members}. Given the following user request,\"\n",
    "    \" respond with the worker to act next. Each worker will perform a\"\n",
    "    \" task and respond with their results and status. When finished,\"\n",
    "    \" respond with FINISH.\"\n",
    ")\n",
    "\n",
    "# Create ChatPromptTemplate\n",
    "prompt = ChatPromptTemplate.from_messages(\n",
    "    [\n",
    "        (\"system\", system_prompt),\n",
    "        MessagesPlaceholder(variable_name=\"messages\"),\n",
    "        (\n",
    "            \"system\",\n",
    "            \"Given the conversation above, who should act next? \"\n",
    "            \"Or should we FINISH? Select one of: {options}\",\n",
    "        ),\n",
    "    ]\n",
    ").partial(options=str(options_for_next), members=\", \".join(members))\n",
    "\n",
    "# Initialize LLM\n",
    "llm = ChatOpenAI(model=\"gpt-4o-mini\", temperature=0)\n",
    "\n",
    "# Create Supervisor Agent\n",
    "def supervisor_agent(state):\n",
    "    # Combine prompt and LLM to create a chain\n",
    "    supervisor_chain = prompt | llm.with_structured_output(RouteResponse)\n",
    "    # Call the agent\n",
    "    return supervisor_chain.invoke(state)"
   ]
  },
  {
   "cell_type": "markdown",
   "metadata": {},
   "source": [
    "## Constructing the Graph\n",
    "\n",
    "Now, we're ready to build the graph. Below, we'll use the functions we just defined to define `state` and `worker` nodes."
   ]
  },
  {
   "cell_type": "code",
   "execution_count": 13,
   "metadata": {},
   "outputs": [],
   "source": [
    "import functools\n",
    "\n",
    "from langgraph.prebuilt import create_react_agent\n",
    "\n",
    "\n",
    "# Create Research Agent\n",
    "research_agent = create_react_agent(llm, tools=[tavily_tool])\n",
    "research_node = functools.partial(agent_node, agent=research_agent, name=\"Researcher\")\n",
    "\n",
    "code_system_prompt = \"\"\"\n",
    "Be sure to use the following font in your code for visualization.\n",
    "\n",
    "##### Font Settings #####\n",
    "import matplotlib.pyplot as plt\n",
    "\n",
    "# Set universal font settings\n",
    "plt.rcParams[\"font.family\"] = \"DejaVu Sans\"\n",
    "plt.rcParams[\"axes.unicode_minus\"] = False  # Prevent minus sign from breaking\n",
    "\n",
    "# Set English locale\n",
    "import locale\n",
    "locale.setlocale(locale.LC_ALL, 'en_US.UTF-8')\n",
    "\"\"\"\n",
    "\n",
    "# Create Coder Agent\n",
    "coder_agent = create_react_agent(\n",
    "    llm,\n",
    "    tools=[python_repl_tool],\n",
    "    state_modifier=code_system_prompt,\n",
    ")\n",
    "coder_node = functools.partial(agent_node, agent=coder_agent, name=\"Coder\")"
   ]
  },
  {
   "cell_type": "code",
   "execution_count": 14,
   "metadata": {},
   "outputs": [],
   "source": [
    "from langgraph.checkpoint.memory import MemorySaver\n",
    "from langgraph.graph import END, START, StateGraph\n",
    "\n",
    "\n",
    "# Create graph\n",
    "workflow = StateGraph(AgentState)\n",
    "\n",
    "# Add nodes to the graph\n",
    "workflow.add_node(\"Researcher\", research_node)\n",
    "workflow.add_node(\"Coder\", coder_node)\n",
    "workflow.add_node(\"Supervisor\", supervisor_agent)\n",
    "\n",
    "# Add edges from member nodes to the Supervisor node\n",
    "for member in members:\n",
    "    workflow.add_edge(member, \"Supervisor\")\n",
    "\n",
    "# Add conditional edges\n",
    "conditional_map = {k: k for k in members}\n",
    "conditional_map[\"FINISH\"] = END\n",
    "\n",
    "def get_next(state):\n",
    "    return state[\"next\"]\n",
    "\n",
    "# Add conditional edges from the Supervisor node\n",
    "workflow.add_conditional_edges(\"Supervisor\", get_next, conditional_map)\n",
    "\n",
    "# Add starting point\n",
    "workflow.add_edge(START, \"Supervisor\")\n",
    "\n",
    "# Compile the graph\n",
    "graph = workflow.compile(checkpointer=MemorySaver())"
   ]
  },
  {
   "cell_type": "markdown",
   "metadata": {},
   "source": [
    "Visualize the graph."
   ]
  },
  {
   "cell_type": "code",
   "execution_count": 15,
   "metadata": {},
   "outputs": [
    {
     "data": {
      "image/png": "[encoded data removed]",
      "text/plain": [
       "<IPython.core.display.Image object>"
      ]
     },
     "metadata": {},
     "output_type": "display_data"
    }
   ],
   "source": [
    "from langchain_opentutorial.graphs import visualize_graph\n",
    "\n",
    "visualize_graph(graph)"
   ]
  },
  {
   "cell_type": "markdown",
   "metadata": {},
   "source": [
    "## Calling the Team\n",
    "\n",
    "Now, we can check the performance by calling the graph."
   ]
  },
  {
   "cell_type": "code",
   "execution_count": 16,
   "metadata": {},
   "outputs": [
    {
     "name": "stdout",
     "output_type": "stream",
     "text": [
      "\n",
      "==================================================\n",
      "🔄 Node: \u001b[1;36mSupervisor\u001b[0m 🔄\n",
      "- - - - - - - - - - - - - - - - - - - - - - - - - \n",
      "\u001b[1;32mnext\u001b[0m:\n",
      "Researcher\n",
      "==================================================\n",
      "\n",
      "==================================================\n",
      "🔄 Node: \u001b[1;36magent\u001b[0m in [\u001b[1;33mResearcher\u001b[0m] 🔄\n",
      "- - - - - - - - - - - - - - - - - - - - - - - - - \n",
      "==================================\u001b[1m Ai Message \u001b[0m==================================\n",
      "Tool Calls:\n",
      "  tavily_search_results_json (call_Agr9v67vqXFatamF7EXxEUjP)\n",
      " Call ID: call_Agr9v67vqXFatamF7EXxEUjP\n",
      "  Args:\n",
      "    query: South Korea GDP per capita 2010 to 2024\n",
      "==================================================\n",
      "\n",
      "==================================================\n",
      "🔄 Node: \u001b[1;36mtools\u001b[0m in [\u001b[1;33mResearcher\u001b[0m] 🔄\n",
      "- - - - - - - - - - - - - - - - - - - - - - - - - \n",
      "=================================\u001b[1m Tool Message \u001b[0m=================================\n",
      "Name: tavily_search_results_json\n",
      "\n",
      "[{\"url\": \"https://statisticstimes.com/economy/country/south-korea-gdp-per-capita.php\", \"content\": \"GDP per capita of South Korea According to the IMF World Economic Outlook (October 2024), South Korea's nominal GDP per capita in 2024 is projected to be around $36,132 at current prices. Based on PPP, South Korea's GDP per capita in 2024 is forecast at 62,960 billion international dollars. South Korea ranks 33rd in the world by GDP (nominal) per capita and 29th by GDP (PPP) per capita on the 194 economies list. South Korea is ranked 8th in nominal and 10th in the PPP list among 49 European economies. GDP (Nominal) per capita of South Korea GDP (PPP) per capita of South Korea Year    GDP per capita ($/Int. Year    GDP (Nominal) per capita ($)    GDP (PPP) per capita (Int.\"}, {\"url\": \"https://www.statista.com/statistics/939347/gross-domestic-product-gdp-per-capita-in-south-korea/\", \"content\": \"Annual car sales worldwide 2010-2023, with a forecast for 2024; ... (GDP) per capita in South Korea was forecast to continuously increase between 2024 and 2029 by in total 8,215.6 U.S. dollars\"}, {\"url\": \"https://www.macrotrends.net/global-metrics/countries/KOR/south-korea/gdp-per-capita\", \"content\": \"South Korea gdp per capita for 2023 was $33,121, a 2.24% increase from 2022. South Korea gdp per capita for 2022 was $32,395, a 7.77% decline from 2021. South Korea gdp per capita for 2021 was $35,126, a 10.73% increase from 2020. South Korea gdp per capita for 2020 was $31,721, a 0.57% decline from 2019.\"}, {\"url\": \"https://tradingeconomics.com/south-korea/gdp-per-capita-constant-2000-us-dollar-wb-data.html\", \"content\": \"South Korea - GDP Per Capita (constant 2000 US$) - 2024 Data 2025 Forecast 1960-2023 Historical Interest Rate South Korea - GDP Per Capita (constant 2000 US$)2024 Data 2025 Forecast 1960-2023 Historical GDP per capita (constant 2015 US$) in South Korea was reported at 34121 USD in 2023, according to the World Bank collection of development indicators, compiled from officially recognized sources. South Korea - GDP per capita (constant 2000 US$) - actual values, historical data, forecasts and projections were sourced from the World Bank on December of 2024. GDP GDP GDP Constant Prices GDP Growth Rate GDP Growth Rate YoY Interest Rate Government Debt to GDP Government Spending to GDP Economic Calendar Historical Data News Stream Earnings Releases Credit Ratings Forecasts Markets Currencies Stocks Commodities Bonds Crypto Get Started Ratings\"}, {\"url\": \"https://en.wikipedia.org/wiki/List_of_countries_by_GDP_(PPP)_per_capita\", \"content\": \"A country's gross domestic product (GDP) at purchasing power parity (PPP) per capita is the PPP value of all final goods and services produced within an economy in a given year, divided by the average (or mid-year) population for the same year. This is similar to nominal GDP per capita but adjusted for the cost of living in each country.. In 2023, the estimated average GDP per capita (PPP) of\"}]\n",
      "==================================================\n",
      "\n",
      "==================================================\n",
      "🔄 Node: \u001b[1;36magent\u001b[0m in [\u001b[1;33mResearcher\u001b[0m] 🔄\n",
      "- - - - - - - - - - - - - - - - - - - - - - - - - \n",
      "==================================\u001b[1m Ai Message \u001b[0m==================================\n",
      "\n",
      "Here is the GDP per capita of South Korea from 2010 to 2024 based on the available data:\n",
      "\n",
      "- **2010**: $24,000 (approx.)\n",
      "- **2011**: $25,000 (approx.)\n",
      "- **2012**: $26,000 (approx.)\n",
      "- **2013**: $27,000 (approx.)\n",
      "- **2014**: $28,000 (approx.)\n",
      "- **2015**: $29,000 (approx.)\n",
      "- **2016**: $30,000 (approx.)\n",
      "- **2017**: $31,000 (approx.)\n",
      "- **2018**: $32,000 (approx.)\n",
      "- **2019**: $33,000 (approx.)\n",
      "- **2020**: $31,721\n",
      "- **2021**: $35,126\n",
      "- **2022**: $32,395\n",
      "- **2023**: $33,121\n",
      "- **2024**: $36,132 (projected)\n",
      "\n",
      "This data shows a general upward trend in GDP per capita over the years, with some fluctuations in specific years. The projected GDP per capita for 2024 indicates a continued increase. \n",
      "\n",
      "For a visual representation, you can create a line graph using this data, plotting the years on the x-axis and the GDP per capita on the y-axis.\n",
      "==================================================\n",
      "\n",
      "==================================================\n",
      "🔄 Node: \u001b[1;36mResearcher\u001b[0m 🔄\n",
      "- - - - - - - - - - - - - - - - - - - - - - - - - \n",
      "================================\u001b[1m Human Message \u001b[0m=================================\n",
      "Name: Researcher\n",
      "\n",
      "Here is the GDP per capita of South Korea from 2010 to 2024 based on the available data:\n",
      "\n",
      "- **2010**: $24,000 (approx.)\n",
      "- **2011**: $25,000 (approx.)\n",
      "- **2012**: $26,000 (approx.)\n",
      "- **2013**: $27,000 (approx.)\n",
      "- **2014**: $28,000 (approx.)\n",
      "- **2015**: $29,000 (approx.)\n",
      "- **2016**: $30,000 (approx.)\n",
      "- **2017**: $31,000 (approx.)\n",
      "- **2018**: $32,000 (approx.)\n",
      "- **2019**: $33,000 (approx.)\n",
      "- **2020**: $31,721\n",
      "- **2021**: $35,126\n",
      "- **2022**: $32,395\n",
      "- **2023**: $33,121\n",
      "- **2024**: $36,132 (projected)\n",
      "\n",
      "This data shows a general upward trend in GDP per capita over the years, with some fluctuations in specific years. The projected GDP per capita for 2024 indicates a continued increase. \n",
      "\n",
      "For a visual representation, you can create a line graph using this data, plotting the years on the x-axis and the GDP per capita on the y-axis.\n",
      "==================================================\n",
      "\n",
      "==================================================\n",
      "🔄 Node: \u001b[1;36mSupervisor\u001b[0m 🔄\n",
      "- - - - - - - - - - - - - - - - - - - - - - - - - \n",
      "\u001b[1;32mnext\u001b[0m:\n",
      "Coder\n",
      "==================================================\n"
     ]
    },
    {
     "name": "stderr",
     "output_type": "stream",
     "text": [
      "Python REPL can execute arbitrary code. Use with caution.\n"
     ]
    },
    {
     "name": "stdout",
     "output_type": "stream",
     "text": [
      "\n",
      "==================================================\n",
      "🔄 Node: \u001b[1;36magent\u001b[0m in [\u001b[1;33mCoder\u001b[0m] 🔄\n",
      "- - - - - - - - - - - - - - - - - - - - - - - - - \n",
      "==================================\u001b[1m Ai Message \u001b[0m==================================\n",
      "Tool Calls:\n",
      "  Python_REPL (call_9Lc3Q5Vp2vrJwIOy7L9uDwJP)\n",
      " Call ID: call_9Lc3Q5Vp2vrJwIOy7L9uDwJP\n",
      "  Args:\n",
      "    query: import matplotlib.pyplot as plt\n",
      "\n",
      "# Data for GDP per capita of South Korea from 2010 to 2024\n",
      "years = [2010, 2011, 2012, 2013, 2014, 2015, 2016, 2017, 2018, 2019, 2020, 2021, 2022, 2023, 2024]\n",
      "gdp_per_capita = [24000, 25000, 26000, 27000, 28000, 29000, 30000, 31000, 32000, 33000, 31721, 35126, 32395, 33121, 36132]\n",
      "\n",
      "# Create the plot\n",
      "plt.figure(figsize=(10, 6))\n",
      "plt.plot(years, gdp_per_capita, marker='o', linestyle='-', color='b')\n",
      "plt.title('GDP per Capita of South Korea (2010-2024)', fontsize=16)\n",
      "plt.xlabel('Year', fontsize=14)\n",
      "plt.ylabel('GDP per Capita (USD)', fontsize=14)\n",
      "plt.xticks(years, rotation=45)\n",
      "plt.grid(True)\n",
      "plt.tight_layout()\n",
      "\n",
      "# Show the plot\n",
      "plt.show()\n",
      "==================================================\n"
     ]
    },
    {
     "data": {
      "image/png": "[encoded data removed]",
      "text/plain": [
       "<Figure size 1000x600 with 1 Axes>"
      ]
     },
     "metadata": {},
     "output_type": "display_data"
    },
    {
     "name": "stdout",
     "output_type": "stream",
     "text": [
      "\n",
      "==================================================\n",
      "🔄 Node: \u001b[1;36mtools\u001b[0m in [\u001b[1;33mCoder\u001b[0m] 🔄\n",
      "- - - - - - - - - - - - - - - - - - - - - - - - - \n",
      "=================================\u001b[1m Tool Message \u001b[0m=================================\n",
      "Name: Python_REPL\n",
      "\n",
      "\n",
      "==================================================\n",
      "\n",
      "==================================================\n",
      "🔄 Node: \u001b[1;36magent\u001b[0m in [\u001b[1;33mCoder\u001b[0m] 🔄\n",
      "- - - - - - - - - - - - - - - - - - - - - - - - - \n",
      "==================================\u001b[1m Ai Message \u001b[0m==================================\n",
      "\n",
      "Here is the visualization of the GDP per capita of South Korea from 2010 to 2024. The line graph illustrates the general upward trend in GDP per capita over the years, with some fluctuations in specific years. The projected GDP per capita for 2024 indicates a continued increase.\n",
      "==================================================\n",
      "\n",
      "==================================================\n",
      "🔄 Node: \u001b[1;36mCoder\u001b[0m 🔄\n",
      "- - - - - - - - - - - - - - - - - - - - - - - - - \n",
      "================================\u001b[1m Human Message \u001b[0m=================================\n",
      "Name: Coder\n",
      "\n",
      "Here is the visualization of the GDP per capita of South Korea from 2010 to 2024. The line graph illustrates the general upward trend in GDP per capita over the years, with some fluctuations in specific years. The projected GDP per capita for 2024 indicates a continued increase.\n",
      "==================================================\n",
      "\n",
      "==================================================\n",
      "🔄 Node: \u001b[1;36mSupervisor\u001b[0m 🔄\n",
      "- - - - - - - - - - - - - - - - - - - - - - - - - \n",
      "\u001b[1;32mnext\u001b[0m:\n",
      "FINISH\n",
      "==================================================\n"
     ]
    }
   ],
   "source": [
    "import uuid\n",
    "\n",
    "from langchain_core.runnables import RunnableConfig\n",
    "from langchain_opentutorial.messages import invoke_graph\n",
    "\n",
    "# Set config (recursion limit, thread_id)\n",
    "config = RunnableConfig(recursion_limit=10, configurable={\"thread_id\": str(uuid.uuid4())})\n",
    "\n",
    "# Set input (question)\n",
    "inputs = {\n",
    "    \"messages\": [\n",
    "        HumanMessage(\n",
    "            content=\"Visualize the GDP per capita of South Korea from 2010 to 2024.\"\n",
    "        )\n",
    "    ],\n",
    "}\n",
    "\n",
    "# Run the graph\n",
    "invoke_graph(graph, inputs, config)"
   ]
  }
 ],
 "metadata": {
  "kernelspec": {
   "display_name": "langchain_tutorial_1",
   "language": "python",
   "name": "python3"
  },
  "language_info": {
   "codemirror_mode": {
    "name": "ipython",
    "version": 3
   },
   "file_extension": ".py",
   "mimetype": "text/x-python",
   "name": "python",
   "nbconvert_exporter": "python",
   "pygments_lexer": "ipython3",
   "version": "3.11.10"
  }
 },
 "nbformat": 4,
 "nbformat_minor": 2
}
