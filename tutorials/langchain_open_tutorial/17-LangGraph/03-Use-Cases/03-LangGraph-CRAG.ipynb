{
 "cells": [
  {
   "cell_type": "markdown",
   "id": "1961db5f",
   "metadata": {},
   "source": [
    "# CRAG: Corrective RAG\n",
    "\n",
    "- Author: [Jaeho Kim](https://github.com/Jae-hoya)\n",
    "- Design: []()\n",
    "- Peer Review:\n",
    "- This is a part of [LangChain Open Tutorial](https://github.com/LangChain-OpenTutorial/LangChain-OpenTutorial)\n",
    "\n",
    "## OverView\n",
    "\n",
    "\n",
    "**The Corrective RAG (CRAG)** strategy focuses on improving RAG-based systems.\n",
    "**CRAG** is an approach that refines the search-generation pipeline by incorporating self-reflection and self-evaluation phases for the retrieved documents.\n",
    "\n",
    "![crag](./assets/03-Langgraph-CRAG.png)\n",
    "\n",
    "\n",
    "\n",
    "**What is CRAG ?**\n",
    "\n",
    "**Corrective-RAG (CRAG)** is a methodology in the RAG (Retrieval-Augmented Generation) strategy that **adds a step to evaluate the retrieved documents and refine the knowledge.** This approach involves reviewing the search results before generation, conducting supplementary searches if necessary, and ultimately includes a series of processes to produce high-quality responses.\n",
    "\n",
    "The core ideas of CRAG are as follows:\n",
    "\n",
    "[Link to the paper (Corrective Retrieval-Augmented Generation)](https://arxiv.org/pdf/2401.15884.pdf)\n",
    "\n",
    "1. If one or more of the retrieved documents exceed the predefined relevance threshold (retrieval validation score), the process proceeds to the generation stage.\n",
    "2. A knowledge refinement step is performed before generation.\n",
    "3. Documents are divided into \"knowledge strips\" (where `k` refers to the number of document retrieval results).\n",
    "4. Each knowledge strip is evaluated, and its relevance is scored (evaluations are conducted at the document chunk level).\n",
    "5. If all documents fall below the relevance threshold or the evaluation results have low confidence, additional data sources (e.g., web searches) are used for supplementation.\n",
    "6. When supplementing through web searches, query results are optimized using `Query-Rewrite`.\n",
    "---\n",
    "\n",
    "**Key Points**\n",
    "\n",
    "\n",
    "This tutorial demonstrates implementing some of the ideas from the `CRAG` approach using LangGraph.\n",
    "\n",
    "Here, **the knowledge refinement step is omitted** but is designed to be added as a node if necessary.\n",
    "\n",
    "Additionally, **if no relevant documents are found**, `web searches` will be used to supplement the retrieval.\n",
    "\n",
    "For **web searches**,  [Tavily Search](https://python.langchain.com/docs/integrations/tools/tavily_search/) will be utilized, and Question Rewrite will be introduced to optimize the search process.\n",
    "\n",
    "---\n",
    "\n",
    "**Overview of Key Steps**\n",
    "\n",
    "- **Retrieval Grader**: Evaluate the relevance of the retrieved documents.\n",
    "- **Generate**: Generate answers using LLM.\n",
    "- **Question Re-writer**: Optimize search queries by rewriting the question.\n",
    "- **Web Search Tool**: Utilize Tavily Search for web searches.\n",
    "- **Create Graph**: Create a CRAG strategy graph using LangGraph.\n",
    "- **Use the graph**: Learn how to utilize the generated graph.\n",
    "\n",
    "\n",
    "\n",
    "\n",
    "### Table of Contents\n",
    "\n",
    "- [Overview](#overview)\n",
    "- [Environment Setup](#environment-setup)\n",
    "- [Creating a Basic PDF-Based Retrieval Chain](#creating-a-basic-pdf-based-retrieval-chain)\n",
    "- [Relevance Evaluation of Retrieved Documents (Question-Retrieval Evaluation)](#relevance-evaluation-of-retrieved-documents-question-retrieval-evaluation)\n",
    "- [Answer Generation Chain](#answer-generation-chain)\n",
    "- [Question Re-write](#question-re-write)\n",
    "- [Web search tool](#web-search-tool)\n",
    "- [State](#state)\n",
    "- [Node](#node)\n",
    "- [Function for Conditional Edges](#function-for-conditional-edges)\n",
    "- [Graph Creation](#graph-creation)\n",
    "- [Graph Execution](#graph-execution)\n",
    "\n",
    "\n",
    "\n",
    "---\n",
    "\n",
    "### References\n",
    "\n",
    "- [LangGraph: Corrective RAG (CRAG) using local LLMs](https://langchain-ai.github.io/langgraph/tutorials/rag/langgraph_crag_local/)\n",
    "- [LangSmith: RAG Prompt](https://smith.langchain.com/hub/rlm/rag-prompt)\n",
    "- [Langchain: stream_mode](https://python.langchain.com/docs/how_to/qa_streaming/)"
   ]
  },
  {
   "cell_type": "markdown",
   "id": "eaafb410",
   "metadata": {},
   "source": [
    "## Environment Setup\n",
    "\n",
    "Set up the environment. You may refer to [Environment Setup](https://wikidocs.net/257836) for more details.\n",
    "\n",
    "**[Note]**\n",
    "- `langchain-opentutorial` is a package that provides a set of easy-to-use environment setup, useful functions and utilities for tutorials. \n",
    "- You can checkout the [`langchain-opentutorial`](https://github.com/LangChain-OpenTutorial/langchain-opentutorial-pypi) for more details."
   ]
  },
  {
   "cell_type": "code",
   "execution_count": 1,
   "id": "ef6261d6",
   "metadata": {},
   "outputs": [],
   "source": [
    "%%capture --no-stderr\n",
    "%pip install langchain-opentutorial"
   ]
  },
  {
   "cell_type": "code",
   "execution_count": 2,
   "id": "6d293c84",
   "metadata": {},
   "outputs": [],
   "source": [
    "# Install required packages\n",
    "from langchain_opentutorial import package\n",
    "\n",
    "package.install(\n",
    "    [\n",
    "        \"pydantic\",\n",
    "        \"langsmith\",\n",
    "        \"langchain\",\n",
    "        \"langchain_community\",\n",
    "        \"pdfplumber\",\n",
    "        \"faiss-cpu\",\n",
    "        \"langchain_core\",\n",
    "        \"langchain_openai\",\n",
    "        \"langgraph\"\n",
    "    ],\n",
    "    verbose=False,\n",
    "    upgrade=False,\n",
    ")"
   ]
  },
  {
   "cell_type": "code",
   "execution_count": 3,
   "id": "a170112a",
   "metadata": {},
   "outputs": [
    {
     "name": "stdout",
     "output_type": "stream",
     "text": [
      "Environment variables have been set successfully.\n"
     ]
    }
   ],
   "source": [
    "# Set environment variables\n",
    "from langchain_opentutorial import set_env\n",
    "\n",
    "set_env(\n",
    "    {\n",
    "        \"OPENAI_API_KEY\": \"\",\n",
    "        \"TAVILY_API_KEY\": \"\",\n",
    "        \"LANGCHAIN_API_KEY\": \"\",\n",
    "        \"LANGCHAIN_TRACING_V2\": \"true\",\n",
    "        \"LANGCHAIN_ENDPOINT\": \"https://api.smith.langchain.com\",\n",
    "        \"LANGCHAIN_PROJECT\": \"03-LangGraph-CRAG\",\n",
    "    }\n",
    ")"
   ]
  },
  {
   "cell_type": "code",
   "execution_count": 4,
   "id": "d3375ae6",
   "metadata": {},
   "outputs": [
    {
     "data": {
      "text/plain": [
       "True"
      ]
     },
     "execution_count": 4,
     "metadata": {},
     "output_type": "execute_result"
    }
   ],
   "source": [
    "# Load API keys from .env file\n",
    "from dotenv import load_dotenv\n",
    "\n",
    "load_dotenv(override=True)"
   ]
  },
  {
   "cell_type": "markdown",
   "id": "6e9d52b6",
   "metadata": {},
   "source": [
    "## Creating a Basic PDF-Based Retrieval Chain\n",
    "\n",
    "We will create a Retrieval Chain based on PDF documents. This represents the simplest structure of a Retrieval Chain.\n",
    "\n",
    "Note that in LangGraph, the Retriever and Chain are created separately. This allows for detailed processing at each node.\n",
    "\n",
    "**Note**\n",
    "\n",
    "- This was covered in a previous tutorial, so detailed explanations are omitted."
   ]
  },
  {
   "cell_type": "code",
   "execution_count": 5,
   "id": "4443177d",
   "metadata": {},
   "outputs": [],
   "source": [
    "from rag.pdf import PDFRetrievalChain\n",
    "\n",
    "#Load PDF documents\n",
    "pdf = PDFRetrievalChain([\"./data/Newwhitepaper_Agents2.pdf\"]).create_chain()\n",
    "\n",
    "# Create the retriever and chain.\n",
    "pdf_retriever = pdf.retriever\n",
    "pdf_chain = pdf.chain"
   ]
  },
  {
   "cell_type": "markdown",
   "id": "ae47f9ae",
   "metadata": {},
   "source": [
    "## Relevance Evaluation of Retrieved Documents (Question-Retrieval Evaluation)\n",
    "\n",
    "The relevance evaluation of retrieved documents is the step where the retrieved documents are assessed for their relevance to the question.\n",
    "\n",
    "First, create an evaluator (`retrieval-grader`) to assess the retrieved documents."
   ]
  },
  {
   "cell_type": "code",
   "execution_count": 6,
   "id": "59f3e68a",
   "metadata": {},
   "outputs": [],
   "source": [
    "from langchain_core.prompts import ChatPromptTemplate\n",
    "from langchain_openai import ChatOpenAI\n",
    "from pydantic import BaseModel, Field\n",
    "\n",
    "\n",
    "# Data Model for Binary Scoring of Document Relevance\n",
    "class GradeDocuments(BaseModel):\n",
    "    \"\"\"A binary score to determine the relevance of the retrieved document.\"\"\"\n",
    "\n",
    "    # A field indicating whether the document is relevant to the question, represented as 'yes' or 'no'\n",
    "    binary_score: str = Field(\n",
    "        description=\"Documents are relevant to the question, 'yes' or 'no'\"\n",
    "    )\n",
    "\n",
    "# LLM initialization\n",
    "llm = ChatOpenAI(model=\"gpt-4o-mini\", temperature=0)\n",
    "\n",
    "# An LLM that generates structured outputs using the GradeDocuments data model.\n",
    "structured_llm_grader = llm.with_structured_output(GradeDocuments)\n",
    "\n",
    "# Define system prompt\n",
    "system = \"\"\"You are a grader assessing relevance of a retrieved document to a user question. \\n \n",
    "    If the document contains keyword(s) or semantic meaning related to the question, grade it as relevant. \\n\n",
    "    Give a binary score 'yes' or 'no' score to indicate whether the document is relevant to the question.\"\"\"\n",
    "\n",
    "# Create chat prompt template\n",
    "grade_prompt = ChatPromptTemplate.from_messages(\n",
    "    [\n",
    "        (\"system\", system),\n",
    "        (\"human\", \"Retrieved document: \\n\\n {document} \\n\\n User question: {question}\"),\n",
    "    ]\n",
    ")\n",
    "\n",
    "# Initialize retrieval evaluator\n",
    "retrieval_grader = grade_prompt | structured_llm_grader"
   ]
  },
  {
   "cell_type": "markdown",
   "id": "d03b7b76",
   "metadata": {},
   "source": [
    "Using `retrieval_grader`, documents are evaluated.\n",
    "\n",
    "Here, the evaluation is performed on a single document rather than a set of documents.\n",
    "\n",
    "The result returns the relevance of the single document as either **yes** or **no** ."
   ]
  },
  {
   "cell_type": "code",
   "execution_count": 7,
   "id": "44144d98",
   "metadata": {},
   "outputs": [
    {
     "name": "stdout",
     "output_type": "stream",
     "text": [
      "binary_score='yes'\n"
     ]
    }
   ],
   "source": [
    "# Define question\n",
    "question = \"How do agents differ from standalone language models?\"\n",
    "\n",
    "# Document retrieval\n",
    "docs = pdf_retriever.invoke(question)\n",
    "\n",
    "# Extract Content of Page from Document at Index 1\n",
    "doc_txt = docs[1].page_content\n",
    "\n",
    "# Run Relevance Evaluation Using Retrieved Documents and Question\n",
    "print(retrieval_grader.invoke({\"question\": question, \"document\": doc_txt}))"
   ]
  },
  {
   "cell_type": "markdown",
   "id": "c95ae75e",
   "metadata": {},
   "source": [
    "## Answer Generation Chain\n",
    "\n",
    "The answer generation chain is a chain that generates answers based on the retrieved documents.\n",
    "\n",
    "It is a typical Naive RAG chain that we are familiar with.\n",
    "\n",
    "**Note**\n",
    "\n",
    "RAG Prompt from LangChain PromptHub: https://smith.langchain.com/hub/rlm/rag-prompt"
   ]
  },
  {
   "cell_type": "code",
   "execution_count": 8,
   "id": "f03e727f",
   "metadata": {},
   "outputs": [
    {
     "name": "stdout",
     "output_type": "stream",
     "text": [
      "Agents differ from standalone language models in that they can leverage external tools to access real-time information and perform complex tasks autonomously. While language models are limited to their training data, agents can extend their knowledge and capabilities by interacting with external systems. This allows agents to execute actions and make decisions beyond the static knowledge of a standalone model.\n"
     ]
    }
   ],
   "source": [
    "from langchain import hub\n",
    "from langchain_core.output_parsers import StrOutputParser\n",
    "from langchain_openai import ChatOpenAI\n",
    "\n",
    "\n",
    "# Using RAG Prompt from LangChain Hub\n",
    "prompt = hub.pull(\"rlm/rag-prompt\")\n",
    "\n",
    "# Initialize LLM\n",
    "llm = ChatOpenAI(model_name=\"gpt-4o-mini\", temperature=0)\n",
    "\n",
    "\n",
    "# Document formatting\n",
    "def format_docs(docs):\n",
    "    return \"\\n\\n\".join(\n",
    "        [\n",
    "            f'<document><content>{doc.page_content}</content><source>{doc.metadata[\"source\"]}</source><page>{doc.metadata[\"page\"]+1}</page></document>'\n",
    "            for doc in docs\n",
    "        ]\n",
    "    )\n",
    "\n",
    "\n",
    "# Create chain\n",
    "rag_chain = prompt | llm | StrOutputParser()\n",
    "\n",
    "\n",
    "# Run chain and output results\n",
    "generation = rag_chain.invoke({\"context\": format_docs(docs), \"question\": question})\n",
    "print(generation)"
   ]
  },
  {
   "cell_type": "markdown",
   "id": "963f59f7",
   "metadata": {},
   "source": [
    "## Question Re-write\n",
    "\n",
    "Query rewriting is a step where the question is rewritten to optimize web searches."
   ]
  },
  {
   "cell_type": "code",
   "execution_count": 9,
   "id": "81eabae7",
   "metadata": {},
   "outputs": [],
   "source": [
    "from langchain_core.prompts import ChatPromptTemplate\n",
    "from langchain_core.output_parsers import StrOutputParser\n",
    "from langchain_openai import ChatOpenAI\n",
    "\n",
    "# Initialize LLM\n",
    "llm = ChatOpenAI(model=\"gpt-4o-mini\", temperature=0)\n",
    "\n",
    "# Query rewrite system prompt\n",
    "system = \"\"\"You a question re-writer that converts an input question to a better version that is optimized \n",
    "for web search. Look at the input and try to reason about the underlying semantic intent / meaning.\"\"\"\n",
    "\n",
    "# Define prompt\n",
    "re_write_prompt = ChatPromptTemplate.from_messages(\n",
    "    [\n",
    "        (\"system\", system),\n",
    "        (\n",
    "            \"human\",\n",
    "            \"Here is the initial question: \\n\\n {question} \\n Formulate an improved question.\",\n",
    "        ),\n",
    "    ]\n",
    ")\n",
    "\n",
    "# Define question rewriter chain\n",
    "question_rewriter = re_write_prompt | llm | StrOutputParser()"
   ]
  },
  {
   "cell_type": "markdown",
   "id": "b33f4246",
   "metadata": {},
   "source": [
    "Rewrite Question Using `question_rewriter`."
   ]
  },
  {
   "cell_type": "code",
   "execution_count": 10,
   "id": "28eb2e53",
   "metadata": {},
   "outputs": [
    {
     "name": "stdout",
     "output_type": "stream",
     "text": [
      "[Original question]: \"How do agents differ from standalone language models?\"\n",
      "[Query-rewrite]: What are the key differences between agents and standalone language models?\n"
     ]
    }
   ],
   "source": [
    "# Run chain and output results\n",
    "print(f'[Original question]: \"{question}\"')\n",
    "print(\"[Query-rewrite]:\", question_rewriter.invoke({\"question\": question}))"
   ]
  },
  {
   "cell_type": "markdown",
   "id": "7f4a72cc",
   "metadata": {},
   "source": [
    "## Web search tool\n",
    "\n",
    "**Web search tool** is used to supplement the context.\n",
    "\n",
    "- **Need for Web Search**: When all documents fail to meet the relevance threshold or the evaluator lacks confidence, additional data is retrieved through web searches.\n",
    "- **Using Tavily Search**: Perform web searches using Tavily Search, which optimizes search queries and provides more relevant results.\n",
    "- **Question Rewrite**: Improve search queries by rewriting the question to optimize web searches."
   ]
  },
  {
   "cell_type": "code",
   "execution_count": 11,
   "id": "620d859b",
   "metadata": {},
   "outputs": [],
   "source": [
    "# Initialize Web Search Tool\n",
    "from langchain.tools.tavily_search import TavilySearchResults\n",
    "\n",
    "# Set maximum search results to 3\n",
    "web_search_tool = TavilySearchResults(max_results=3)"
   ]
  },
  {
   "cell_type": "code",
   "execution_count": 12,
   "id": "694d7bae",
   "metadata": {},
   "outputs": [
    {
     "name": "stdout",
     "output_type": "stream",
     "text": [
      "[{'url': 'https://digitalspoiler.com/trends-insights/unlocking-the-power-of-generative-ai-agents-what-you-need-to-know/', 'content': 'The central decision-maker powered by language models (LMs). These models leverage frameworks like ReAct, Chain-of-Thought, or Tree-of-Thought to reason and make informed decisions. ... How Agents Differ from Models. While standalone AI models rely on static training data, agents dynamically enhance their knowledge by connecting with external'}, {'url': 'https://blog.stackademic.com/introduction-to-ai-agents-bridging-models-and-real-world-applications-ed0ca6c25f2a', 'content': 'Introduction to AI Agents: Bridging Models and Real-World Applications | by allglenn | Jan, 2025 | Stackademic While both are crucial, AI agents represent a more advanced and functional implementation, capable of using tools and interacting with environments to accomplish tasks. What Are AI Agents? This is where AI agents come in. AI agents are systems that combine AI models with decision-making capabilities, enabling them to take actions based on input data and feedback. How AI Agents Differ from Standalone Models In contrast, AI agents interact with their environment. Examples of AI Agents in Action Why AI Agents Are Transformative By integrating with tools, AI agents amplify their capabilities. Challenges in Developing AI Agents The Future of AI Agents'}, {'url': 'https://medium.com/@glennlenormand/introduction-to-ai-agents-bridging-models-and-real-world-applications-ed0ca6c25f2a', 'content': 'Introduction to AI Agents: Bridging Models and Real-World Applications | by allglenn | Jan, 2025 | Stackademic While both are crucial, AI agents represent a more advanced and functional implementation, capable of using tools and interacting with environments to accomplish tasks. What Are AI Agents? This is where AI agents come in. AI agents are systems that combine AI models with decision-making capabilities, enabling them to take actions based on input data and feedback. How AI Agents Differ from Standalone Models In contrast, AI agents interact with their environment. Examples of AI Agents in Action Why AI Agents Are Transformative By integrating with tools, AI agents amplify their capabilities. Challenges in Developing AI Agents The Future of AI Agents'}]\n"
     ]
    }
   ],
   "source": [
    "# Execute web search tool\n",
    "results = web_search_tool.invoke({\"query\": question})\n",
    "print(results)"
   ]
  },
  {
   "cell_type": "markdown",
   "id": "8f30cb22",
   "metadata": {},
   "source": [
    "## State\n",
    "\n",
    "Define the state for the CRAG graph.\n",
    "\n",
    "`Web_search` represents the state indicating whether to use web search.\n",
    "It is expressed as yes or no (yes: web search required, no: not required)."
   ]
  },
  {
   "cell_type": "code",
   "execution_count": 13,
   "id": "b07cb207",
   "metadata": {},
   "outputs": [],
   "source": [
    "from typing import Annotated, List\n",
    "from typing_extensions import TypedDict\n",
    "\n",
    "# Define State\n",
    "class GraphState(TypedDict):\n",
    "    question: Annotated[str, \"The question to answer\"]\n",
    "    generation: Annotated[str, \"The generation from the LLM\"]\n",
    "    web_search: Annotated[str, \"Whether to add search\"]\n",
    "    documents: Annotated[List[str], \"The documents retrieved\"]"
   ]
  },
  {
   "cell_type": "markdown",
   "id": "423bdd4b",
   "metadata": {},
   "source": [
    "## Node\n",
    "\n",
    "Define the nodes to be used in the CRAG graph."
   ]
  },
  {
   "cell_type": "code",
   "execution_count": 14,
   "id": "4b89e9cb",
   "metadata": {},
   "outputs": [],
   "source": [
    "from langchain.schema import Document\n",
    "\n",
    "# Document Retrieval Node\n",
    "def retrieve(state: GraphState):\n",
    "    print(\"\\n==== RETRIEVE ====\\n\")\n",
    "    question = state[\"question\"]\n",
    "\n",
    "    # Perform document retrieval.\n",
    "    documents = pdf_retriever.invoke(question)\n",
    "    return {\"documents\": documents}\n",
    "\n",
    "\n",
    "# Answer Generation Node\n",
    "def generate(state: GraphState):\n",
    "    print(\"\\n==== GENERATE ====\\n\")\n",
    "    question = state[\"question\"]\n",
    "    documents = state[\"documents\"]\n",
    "\n",
    "    # Generate answers using RAG.\n",
    "    generation = rag_chain.invoke({\"context\": documents, \"question\": question})\n",
    "    return {\"generation\": generation}\n",
    "\n",
    "\n",
    "# Document Evaluation Node\n",
    "def grade_documents(state: GraphState):\n",
    "    print(\"\\n==== [CHECK DOCUMENT RELEVANCE TO QUESTION] ====\\n\")\n",
    "    question = state[\"question\"]\n",
    "    documents = state[\"documents\"]\n",
    "\n",
    "    # Filtered documents\n",
    "    filtered_docs = []\n",
    "    relevant_doc_count = 0\n",
    "\n",
    "    for d in documents:\n",
    "        # Evaluate the relevance of Question-Document pairs.\n",
    "        score = retrieval_grader.invoke(\n",
    "            {\"question\": question, \"document\": d.page_content}\n",
    "        )\n",
    "        grade = score.binary_score\n",
    "\n",
    "        if grade == \"yes\":\n",
    "            print(\"==== [GRADE: DOCUMENT RELEVANT] ====\")\n",
    "            # Add relevant documents to filtered_docs.\n",
    "            filtered_docs.append(d)\n",
    "            relevant_doc_count += 1\n",
    "        else:\n",
    "            print(\"==== [GRADE: DOCUMENT NOT RELEVANT] ====\")\n",
    "            continue\n",
    "\n",
    "    # If no relevant documents are found, perform a web search.\n",
    "    web_search = \"Yes\" if relevant_doc_count == 0 else \"No\"\n",
    "    return {\"documents\": filtered_docs, \"web_search\": web_search}\n",
    "\n",
    "\n",
    "# Query Rewriting Node\n",
    "def query_rewrite(state: GraphState):\n",
    "    print(\"\\n==== [REWRITE QUERY] ====\\n\")\n",
    "    question = state[\"question\"]\n",
    "\n",
    "    # Rewrite the question.\n",
    "    better_question = question_rewriter.invoke({\"question\": question})\n",
    "    return {\"question\": better_question}\n",
    "\n",
    "\n",
    "# Web Search Node\n",
    "def web_search(state: GraphState):\n",
    "    print(\"\\n==== [WEB SEARCH] ====\\n\")\n",
    "    question = state[\"question\"]\n",
    "    documents = state[\"documents\"]\n",
    "\n",
    "    # Perform web search.\n",
    "    docs = web_search_tool.invoke({\"query\": question})\n",
    "    # Convert search results into document format.\n",
    "    web_results = \"\\n\".join([d[\"content\"] for d in docs])\n",
    "    web_results = Document(page_content=web_results)\n",
    "    documents.append(web_results)\n",
    "\n",
    "    return {\"documents\": documents}"
   ]
  },
  {
   "cell_type": "markdown",
   "id": "52091fa6",
   "metadata": {},
   "source": [
    "## Function for Conditional Edges\n",
    "\n",
    "The `decide_to_generate` function routes to the next node based on whether web search is required after relevance evaluation.\n",
    "\n",
    "If `web_search` is `Yes`, it rewrites the query at the `query_rewrite` node and performs a web search.\n",
    "\n",
    "If `web_search` is `No`, it proceeds to `generate` to create the final answer.\n"
   ]
  },
  {
   "cell_type": "code",
   "execution_count": 15,
   "id": "49dfc922",
   "metadata": {},
   "outputs": [],
   "source": [
    "def decide_to_generate(state: GraphState):\n",
    "    # Determine the next step based on the evaluated documents\n",
    "    print(\"==== [ASSESS GRADED DOCUMENTS] ====\")\n",
    "    # Whether web search is required\n",
    "    web_search = state[\"web_search\"]\n",
    "\n",
    "    if web_search == \"Yes\":\n",
    "        # When additional information is needed through web search\n",
    "        print(\n",
    "            \"==== [DECISION: ALL DOCUMENTS ARE NOT RELEVANT TO QUESTION, QUERY REWRITE] ====\"\n",
    "        )\n",
    "        # Route to the query-rewrite node\n",
    "        return \"query_rewrite\"\n",
    "    else:\n",
    "        # Relevant documents exist, so proceed to the answer generation step (generate)\n",
    "        print(\"==== [DECISION: GENERATE] ====\")\n",
    "        return \"generate\""
   ]
  },
  {
   "cell_type": "markdown",
   "id": "aaadaa1e",
   "metadata": {},
   "source": [
    "## Graph Creation\n",
    "\n",
    "Now, define the nodes and connect the edges to complete the graph."
   ]
  },
  {
   "cell_type": "code",
   "execution_count": 16,
   "id": "99977214",
   "metadata": {},
   "outputs": [
    {
     "name": "stderr",
     "output_type": "stream",
     "text": [
      "c:\\Users\\skyop\\anaconda3\\Lib\\site-packages\\langgraph\\graph\\graph.py:31: LangChainDeprecationWarning: As of langchain-core 0.3.0, LangChain uses pydantic v2 internally. The langchain_core.pydantic_v1 module was a compatibility shim for pydantic v1, and should no longer be used. Please update the code to import from Pydantic directly.\n",
      "\n",
      "For example, replace imports like: `from langchain_core.pydantic_v1 import BaseModel`\n",
      "with: `from pydantic import BaseModel`\n",
      "or the v1 compatibility namespace if you are working in a code base that has not been fully upgraded to pydantic 2 yet. \tfrom pydantic.v1 import BaseModel\n",
      "\n",
      "  from langgraph.pregel import Channel, Pregel\n"
     ]
    }
   ],
   "source": [
    "from langgraph.graph import END, StateGraph, START\n",
    "\n",
    "# Initialize graph state\n",
    "workflow = StateGraph(GraphState)\n",
    "\n",
    "# Define nodes\n",
    "workflow.add_node(\"retrieve\", retrieve)\n",
    "workflow.add_node(\"grade_documents\", grade_documents)\n",
    "workflow.add_node(\"generate\", generate)\n",
    "workflow.add_node(\"query_rewrite\", query_rewrite)\n",
    "workflow.add_node(\"web_search_node\", web_search)\n",
    "\n",
    "# Connect edges\n",
    "workflow.add_edge(START, \"retrieve\")\n",
    "workflow.add_edge(\"retrieve\", \"grade_documents\")\n",
    "\n",
    "# Add conditional edges at the document evaluation node\n",
    "workflow.add_conditional_edges(\n",
    "    \"grade_documents\",\n",
    "    decide_to_generate,\n",
    "    {\n",
    "        \"query_rewrite\": \"query_rewrite\",\n",
    "        \"generate\": \"generate\",\n",
    "    },\n",
    ")\n",
    "\n",
    "# Connect edges\n",
    "workflow.add_edge(\"query_rewrite\", \"web_search_node\")\n",
    "workflow.add_edge(\"web_search_node\", \"generate\")\n",
    "workflow.add_edge(\"generate\", END)\n",
    "\n",
    "# Compile the graph\n",
    "app = workflow.compile()"
   ]
  },
  {
   "cell_type": "markdown",
   "id": "8c98c318",
   "metadata": {},
   "source": [
    "Visualize the graph."
   ]
  },
  {
   "cell_type": "code",
   "execution_count": 17,
   "id": "71047d74",
   "metadata": {},
   "outputs": [
    {
     "data": {
      "image/png": "[encoded data removed]",
      "text/plain": [
       "<IPython.core.display.Image object>"
      ]
     },
     "metadata": {},
     "output_type": "display_data"
    }
   ],
   "source": [
    "from IPython.display import Image, display\n",
    "display(Image(app.get_graph(xray=True).draw_mermaid_png()))"
   ]
  },
  {
   "cell_type": "markdown",
   "id": "4357c3d7",
   "metadata": {},
   "source": [
    "## Graph Execution\n",
    "\n",
    "Now, execute the graph and check the results. This explains how to stream results in a RAG application.\n",
    "\n",
    "There are two streaming output modes for the graph: `messages` and `updates`. These can be controlled by specifying the `stream_mode` parameter.\n",
    "\n",
    "- `stream_mode=\"updates\"`: Typically streams during the call steps,  meaning updates to the state of individual nodes. In this case, each node simply adds a new key to the state.\n",
    "\n",
    "- `stream_mode=\"messages\"`: Streams tokens from a chat model call.\n",
    "\n",
    "- [Langchain: stream_mode](https://python.langchain.com/docs/how_to/qa_streaming/)\n"
   ]
  },
  {
   "cell_type": "markdown",
   "id": "a8427a0c",
   "metadata": {},
   "source": [
    "The following explains the output method for stream_mode=\"updates\""
   ]
  },
  {
   "cell_type": "code",
   "execution_count": 18,
   "id": "b8a06ddb",
   "metadata": {},
   "outputs": [
    {
     "name": "stdout",
     "output_type": "stream",
     "text": [
      "\n",
      "==== RETRIEVE ====\n",
      "\n",
      "Output from node 'retrieve':\n",
      "---\n",
      "\n",
      "---\n",
      "\n",
      "\n",
      "==== [CHECK DOCUMENT RELEVANCE TO QUESTION] ====\n",
      "\n",
      "==== [GRADE: DOCUMENT RELEVANT] ====\n",
      "==== [GRADE: DOCUMENT NOT RELEVANT] ====\n",
      "==== [GRADE: DOCUMENT RELEVANT] ====\n",
      "==== [GRADE: DOCUMENT RELEVANT] ====\n",
      "==== [GRADE: DOCUMENT NOT RELEVANT] ====\n",
      "==== [GRADE: DOCUMENT RELEVANT] ====\n",
      "==== [GRADE: DOCUMENT NOT RELEVANT] ====\n",
      "==== [GRADE: DOCUMENT NOT RELEVANT] ====\n",
      "==== [GRADE: DOCUMENT NOT RELEVANT] ====\n",
      "==== [GRADE: DOCUMENT NOT RELEVANT] ====\n",
      "==== [ASSESS GRADED DOCUMENTS] ====\n",
      "==== [DECISION: GENERATE] ====\n",
      "Output from node 'grade_documents':\n",
      "---\n",
      "\n",
      "---\n",
      "\n",
      "\n",
      "==== GENERATE ====\n",
      "\n",
      "Output from node 'generate':\n",
      "---\n",
      "\n",
      "---\n",
      "\n",
      "Agents differ from standalone language models in that they can leverage external tools to access real-time information and perform complex tasks autonomously. While language models are limited to their training data, agents can extend their knowledge through connections with external systems. This allows agents to execute actions and interact with the outside world, enhancing their capabilities beyond those of traditional models.\n"
     ]
    }
   ],
   "source": [
    "from langchain_core.runnables import RunnableConfig\n",
    "from uuid import uuid4\n",
    "\n",
    "# Configure settings (maximum recursion limit, thread_id)\n",
    "config = RunnableConfig(recursion_limit=20, configurable={\"thread_id\": uuid4()})\n",
    "\n",
    "# Input question\n",
    "inputs = {\n",
    "    \"question\": \"How do agents differ from standalone language models?\",\n",
    "}\n",
    "# Execute the graph in update format.\n",
    "for output in app.stream(inputs, config, stream_mode=\"updates\"):\n",
    "    for key, value in output.items():\n",
    "        print(f\"Output from node '{key}':\")\n",
    "        print(\"---\")\n",
    "        #print(value)\n",
    "    print(\"\\n---\\n\")\n",
    "    \n",
    "print(value[\"generation\"])"
   ]
  },
  {
   "cell_type": "markdown",
   "id": "14a7d241",
   "metadata": {},
   "source": [
    "The following explains the output method for stream_mode=\"messages\""
   ]
  },
  {
   "cell_type": "code",
   "execution_count": 19,
   "id": "be19ed3f",
   "metadata": {},
   "outputs": [
    {
     "name": "stdout",
     "output_type": "stream",
     "text": [
      "\n",
      "==== RETRIEVE ====\n",
      "\n",
      "\n",
      "==== [CHECK DOCUMENT RELEVANCE TO QUESTION] ====\n",
      "\n",
      "==== [GRADE: DOCUMENT RELEVANT] ====\n",
      "==== [GRADE: DOCUMENT RELEVANT] ====\n",
      "==== [GRADE: DOCUMENT NOT RELEVANT] ====\n",
      "==== [GRADE: DOCUMENT NOT RELEVANT] ====\n",
      "==== [GRADE: DOCUMENT NOT RELEVANT] ====\n",
      "==== [GRADE: DOCUMENT RELEVANT] ====\n",
      "==== [GRADE: DOCUMENT NOT RELEVANT] ====\n",
      "==== [GRADE: DOCUMENT NOT RELEVANT] ====\n",
      "==== [GRADE: DOCUMENT NOT RELEVANT] ====\n",
      "==== [GRADE: DOCUMENT NOT RELEVANT] ====\n",
      "==== [ASSESS GRADED DOCUMENTS] ====\n",
      "==== [DECISION: GENERATE] ====\n",
      "\n",
      "==== GENERATE ====\n",
      "\n"
     ]
    }
   ],
   "source": [
    "from langchain_core.runnables import RunnableConfig\n",
    "from uuid import uuid4\n",
    "\n",
    "# Configure settings (maximum recursion limit, thread_id)\n",
    "config = RunnableConfig(recursion_limit=20, configurable={\"thread_id\": uuid4()})\n",
    "\n",
    "# Input question\n",
    "inputs = {\n",
    "    \"question\": \"List up the name of the authors.\",\n",
    "}\n",
    "\n",
    "for message, metadata in app.stream(\n",
    "    inputs, config, \n",
    "    stream_mode=\"messages\",\n",
    "):\n",
    "    if metadata[\"langgraph_node\"] == \"generate\":\n",
    "        print(message.content, end=\"\", flush=True)"
   ]
  },
  {
   "cell_type": "markdown",
   "id": "2b6e6be9",
   "metadata": {},
   "source": [
    "In the output above, since the question was relevant to the document, it directly connects to the `generation` node.\n",
    "\n",
    "This time, the question is not relevant to the document. Therefore, it connects to the `query_rewrite` node and then to the `web_search` node.\n",
    "\n",
    "In other words, if the grade_documents node determines that no document is relevant, it connects to the `web_search` node.\n",
    "\n",
    "Here is the output for `stream_mode=\"messages\"`."
   ]
  },
  {
   "cell_type": "code",
   "execution_count": 20,
   "id": "d6cb2f95",
   "metadata": {},
   "outputs": [
    {
     "name": "stdout",
     "output_type": "stream",
     "text": [
      "\n",
      "==== RETRIEVE ====\n",
      "\n",
      "\n",
      "==== [CHECK DOCUMENT RELEVANCE TO QUESTION] ====\n",
      "\n",
      "==== [GRADE: DOCUMENT NOT RELEVANT] ====\n",
      "==== [GRADE: DOCUMENT NOT RELEVANT] ====\n",
      "==== [GRADE: DOCUMENT NOT RELEVANT] ====\n",
      "==== [GRADE: DOCUMENT NOT RELEVANT] ====\n",
      "==== [GRADE: DOCUMENT NOT RELEVANT] ====\n",
      "==== [GRADE: DOCUMENT NOT RELEVANT] ====\n",
      "==== [GRADE: DOCUMENT NOT RELEVANT] ====\n",
      "==== [GRADE: DOCUMENT NOT RELEVANT] ====\n",
      "==== [GRADE: DOCUMENT NOT RELEVANT] ====\n",
      "==== [GRADE: DOCUMENT NOT RELEVANT] ====\n",
      "==== [ASSESS GRADED DOCUMENTS] ====\n",
      "==== [DECISION: ALL DOCUMENTS ARE NOT RELEVANT TO QUESTION, QUERY REWRITE] ====\n",
      "\n",
      "==== [REWRITE QUERY] ====\n",
      "\n",
      "\n",
      "==== [WEB SEARCH] ====\n",
      "\n",
      "\n",
      "==== GENERATE ====\n",
      "\n"
     ]
    }
   ],
   "source": [
    "from langchain_core.runnables import RunnableConfig\n",
    "from uuid import uuid4\n",
    "\n",
    "# Configure settings (maximum recursion limit, thread_id)\n",
    "config = RunnableConfig(recursion_limit=20, configurable={\"thread_id\": uuid4()})\n",
    "\n",
    "# Input question\n",
    "inputs = {\n",
    "    \"question\": \"What is CRAG?\",\n",
    "}\n",
    "\n",
    "for message, metadata in app.stream(\n",
    "    inputs, config, \n",
    "    stream_mode=\"messages\",\n",
    "):\n",
    "    if metadata[\"langgraph_node\"] == \"generate\":\n",
    "        print(message.content, end=\"\", flush=True)"
   ]
  }
 ],
 "metadata": {
  "kernelspec": {
   "display_name": "base",
   "language": "python",
   "name": "python3"
  },
  "language_info": {
   "codemirror_mode": {
    "name": "ipython",
    "version": 3
   },
   "file_extension": ".py",
   "mimetype": "text/x-python",
   "name": "python",
   "nbconvert_exporter": "python",
   "pygments_lexer": "ipython3",
   "version": "3.12.3"
  }
 },
 "nbformat": 4,
 "nbformat_minor": 5
}
