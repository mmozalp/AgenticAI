{
  "cells": [
    {
      "cell_type": "markdown",
      "id": "635d8ebb",
      "metadata": {},
      "source": [
        "# Movie QA System with Graph Database\n",
        "\n",
        "- Author: [Heesun Moon](https://github.com/MoonHeesun)\n",
        "- Design: \n",
        "- Peer Review: [Jongcheol Kim](https://github.com/greencode-99), [Taylor(Jihyun Kim)](https://github.com/Taylor0819)\n",
        "- This is a part of [LangChain Open Tutorial](https://github.com/LangChain-OpenTutorial/LangChain-OpenTutorial)\n",
        "\n",
        "[![Open in Colab](https://colab.research.google.com/assets/colab-badge.svg)](https://colab.research.google.com/github/LangChain-OpenTutorial/LangChain-OpenTutorial/blob/main/19-Cookbook/03-GraphDB/04-MovieQASystem.ipynb) [![Open in GitHub](https://img.shields.io/badge/Open%20in%20GitHub-181717?style=flat-square&logo=github&logoColor=white)](https://github.com/LangChain-OpenTutorial/LangChain-OpenTutorial/blob/main/19-Cookbook/03-GraphDB/04-MovieQASystem.ipynb)\n",
        "\n",
        "## Overview\n",
        "\n",
        "This tutorial covers the implementation of **a movie QA system using a graph database** with `Neo4j` .\n",
        "\n",
        "It explains the process of storing data in a graph database and implementing a `text2Cypher` conversion feature using LLMs. This allows natural language queries to be converted into Cypher queries, and the answers retrieved from the database are returned in natural language as well.\n",
        "\n",
        "![basic-workflow](./assets/04-movie-qa-system-basic-workflow.png)\n",
        "\n",
        ">### ⚠️Security Note\n",
        ">Building Q&A systems with graph databases involves executing model-generated queries, which carries inherent risks. To minimize these risks, restrict database permissions to the narrowest scope required for your chain or agent. While this reduces vulnerabilities, it does not eliminate them entirely. For more security best practices, see the [LangChain security documentation](https://python.langchain.com/docs/security/).\n",
        "\n",
        "### Table of Contents\n",
        "\n",
        "- [Overview](#overview)\n",
        "- [Environement Setup](#environment-setup)\n",
        "- [Connect to Neo4j Graph Database](#connect-to-neo4j-graph-database)\n",
        "- [Graph Schema](#graph-schema)\n",
        "- [GraphQACypherChain](#graphqacypherchain)\n",
        "- [Using a New Dataset](#using-a-new-dataset)\n",
        "\n",
        "### References\n",
        "\n",
        "- [Neo4j](https://neo4j.com/)\n",
        "- [LangChain: Build a Question Answering application over a Graph Database](https://python.langchain.com/docs/tutorials/graph/#graphqacypherchain)\n",
        "- [Kaggle: The Movies Dataset](https://www.kaggle.com/datasets/rounakbanik/the-movies-dataset?)\n",
        "----"
      ]
    },
    {
      "cell_type": "markdown",
      "id": "c6c7aba4",
      "metadata": {},
      "source": [
        "## Environment Setup\n",
        "\n",
        "Set up the environment. You may refer to [Environment Setup](https://wikidocs.net/257836) for more details.\n",
        "\n",
        "**[Note]**\n",
        "- `langchain-opentutorial` is a package that provides a set of easy-to-use environment setup, useful functions and utilities for tutorials. \n",
        "- You can checkout the [`langchain-opentutorial`](https://github.com/LangChain-OpenTutorial/langchain-opentutorial-pypi) for more details."
      ]
    },
    {
      "cell_type": "code",
      "execution_count": null,
      "id": "21943adb",
      "metadata": {},
      "outputs": [],
      "source": [
        "%%capture --no-stderr\n",
        "%pip install langchain-opentutorial"
      ]
    },
    {
      "cell_type": "code",
      "execution_count": null,
      "id": "f25ec196",
      "metadata": {},
      "outputs": [],
      "source": [
        "# Install required packages\n",
        "from langchain_opentutorial import package\n",
        "\n",
        "package.install(\n",
        "    [\n",
        "        \"langchain\",\n",
        "        \"langchain_neo4j\",\n",
        "        \"langchain_openai\",\n",
        "        \"kagglehub\",\n",
        "        \"ipywidgets\",\n",
        "    ],\n",
        "    verbose=False,\n",
        "    upgrade=False,\n",
        ")"
      ]
    },
    {
      "cell_type": "code",
      "execution_count": null,
      "id": "7f9065ea",
      "metadata": {},
      "outputs": [],
      "source": [
        "# Set environment variables\n",
        "from langchain_opentutorial import set_env\n",
        "\n",
        "set_env(\n",
        "    {\n",
        "        \"OPENAI_API_KEY\": \"\",\n",
        "        \"NEO4J_URI\": \"\",\n",
        "        \"NEO4J_USERNAME\": \"\",\n",
        "        \"NEO4J_PASSWORD\": \"\",\n",
        "        \"LANGCHAIN_API_KEY\": \"\",\n",
        "        \"LANGCHAIN_TRACING_V2\": \"true\",\n",
        "        \"LANGCHAIN_ENDPOINT\": \"https://api.smith.langchain.com\",\n",
        "        \"LANGCHAIN_PROJECT\": \"04-MovieQASystem\",\n",
        "    }\n",
        ")"
      ]
    },
    {
      "cell_type": "markdown",
      "id": "690a9ae0",
      "metadata": {},
      "source": [
        "You can alternatively set API keys such as `OPENAI_API_KEY` in a `.env` file and load them.\n",
        "\n",
        "[Note] This is not necessary if you've already set the required API keys in previous steps."
      ]
    },
    {
      "cell_type": "code",
      "execution_count": 1,
      "id": "4f99b5b6",
      "metadata": {},
      "outputs": [
        {
          "data": {
            "text/plain": [
              "True"
            ]
          },
          "execution_count": 1,
          "metadata": {},
          "output_type": "execute_result"
        }
      ],
      "source": [
        "# Load API keys from .env file\n",
        "from dotenv import load_dotenv\n",
        "\n",
        "load_dotenv(override=True)"
      ]
    },
    {
      "cell_type": "markdown",
      "id": "4388b420",
      "metadata": {},
      "source": [
        "## Connect to Neo4j Graph Database\n",
        "\n",
        "First, install the Neo4j graph database. This tutorial is based on `Neo4j Desktop` .\n",
        "\n",
        "- [installation](https://neo4j.com/docs/operations-manual/current/installation/)\n",
        "\n",
        "[Note] You can also set up a free, cloud-based Neo4j instance using [Neo4j Sandbox](https://neo4j.com/sandbox/), an online platform for working with graph databases.\n",
        "\n",
        "After installing, open Neo4j Desktop. A default **Example Project** should be available. We'll use this project for this tutorial.\n",
        "\n",
        "### Activate Database\n",
        "\n",
        "Click the `Start` to activate the `Movie DBMS` .\n",
        "\n",
        "![setup-01](./assets/04-movie-qa-system-setup-01.png)\n",
        "\n",
        "### Setup APOC Plugin\n",
        "\n",
        "- Open the `Movie DBMS` project.  \n",
        "- Go to the `Plugins` section.  \n",
        "- Select `APOC` and click `Install and Restart` .\n",
        "\n",
        "![setup-02](./assets/04-movie-qa-system-setup-02.png)\n",
        "\n",
        "To allow external network connections, you need to update the `neo4j.conf` file.\n",
        "\n",
        "Open the terminal in `Neo4j Desktop` .\n",
        "\n",
        "![setup-03](./assets/04-movie-qa-system-setup-03.png)\n",
        "\n",
        "Navigate to the configuration file directory and edit `neo4j.conf` ."
      ]
    },
    {
      "cell_type": "code",
      "execution_count": null,
      "id": "4b23d268",
      "metadata": {
        "vscode": {
          "languageId": "shellscript"
        }
      },
      "outputs": [],
      "source": [
        "# Change Directory\n",
        "cd conf\n",
        "# Windows\n",
        "notepad neo4j.conf\n",
        "# Linux/Mac\n",
        "nano neo4j.conf"
      ]
    },
    {
      "cell_type": "markdown",
      "id": "9972e999",
      "metadata": {},
      "source": [
        "Add or modify the following line in the `neo4j.conf` file:  \n",
        "\n",
        "- `server.default_listen_address=0.0.0.0`\n",
        "\n",
        "### Define Neo4j Credentials\n",
        "\n",
        "Next, you need to define your Neo4j credentials. If you haven't done this in the previous steps, you can define them using the `os` package.\n",
        "\n",
        "[Note] This is not necessary if you've already set the required Neo4j credentials in previous steps.\n",
        "\n",
        ">The default user account information:\n",
        ">\n",
        ">- Default username: `neo4j`\n",
        ">- Default password: `neo4j`\n",
        ">\n",
        ">You are required to change the password upon your first login."
      ]
    },
    {
      "cell_type": "code",
      "execution_count": 14,
      "id": "69cb77da",
      "metadata": {},
      "outputs": [],
      "source": [
        "import os\n",
        "\n",
        "os.environ[\"NEO4J_URI\"] = \"bolt://localhost:7687\"\n",
        "os.environ[\"NEO4J_USERNAME\"] = \"neo4j\"\n",
        "os.environ[\"NEO4J_PASSWORD\"] = \"neo4j\""
      ]
    },
    {
      "cell_type": "markdown",
      "id": "6d9ee22a",
      "metadata": {},
      "source": [
        "The following example demonstrates how to connect to a Neo4j database and populate it with sample data about movies and actors."
      ]
    },
    {
      "cell_type": "code",
      "execution_count": 15,
      "id": "69652e2d",
      "metadata": {},
      "outputs": [
        {
          "data": {
            "text/plain": [
              "[]"
            ]
          },
          "execution_count": 15,
          "metadata": {},
          "output_type": "execute_result"
        }
      ],
      "source": [
        "from langchain_neo4j import Neo4jGraph\n",
        "\n",
        "graph = Neo4jGraph()\n",
        "\n",
        "# Step 1: Delete all existing data\n",
        "delete_query = \"\"\"\n",
        "MATCH (n)\n",
        "DETACH DELETE n\n",
        "\"\"\"\n",
        "graph.query(delete_query)\n",
        "\n",
        "# Step 2: Load new movie dataset\n",
        "movies_query = \"\"\"\n",
        "LOAD CSV WITH HEADERS FROM \n",
        "'https://raw.githubusercontent.com/tomasonjo/blog-datasets/main/movies/movies_small.csv'\n",
        "AS row\n",
        "MERGE (m:Movie {id:row.movieId})\n",
        "SET m.released = date(row.released),\n",
        "    m.title = row.title,\n",
        "    m.imdbRating = toFloat(row.imdbRating)\n",
        "FOREACH (director in split(row.director, '|') | \n",
        "    MERGE (p:Person {name:trim(director)})\n",
        "    MERGE (p)-[:DIRECTED]->(m))\n",
        "FOREACH (actor in split(row.actors, '|') | \n",
        "    MERGE (p:Person {name:trim(actor)})\n",
        "    MERGE (p)-[:ACTED_IN]->(m))\n",
        "FOREACH (genre in split(row.genres, '|') | \n",
        "    MERGE (g:Genre {name:trim(genre)})\n",
        "    MERGE (m)-[:IN_GENRE]->(g))\n",
        "\"\"\"\n",
        "\n",
        "graph.query(movies_query)"
      ]
    },
    {
      "cell_type": "markdown",
      "id": "addfcd63",
      "metadata": {},
      "source": [
        "## Graph Schema\n",
        "\n",
        "LLMs use graph schema information to convert natural language questions into Cypher queries. The converted query is executed in the database, and the execution results are provied to the LLM for question answering."
      ]
    },
    {
      "cell_type": "code",
      "execution_count": 16,
      "id": "fe8023be",
      "metadata": {},
      "outputs": [
        {
          "name": "stdout",
          "output_type": "stream",
          "text": [
            "Node properties:\n",
            "Movie {title: STRING, released: DATE, id: STRING, imdbRating: FLOAT}\n",
            "Person {name: STRING}\n",
            "Genre {name: STRING}\n",
            "Relationship properties:\n",
            "\n",
            "The relationships:\n",
            "(:Movie)-[:IN_GENRE]->(:Genre)\n",
            "(:Person)-[:DIRECTED]->(:Movie)\n",
            "(:Person)-[:ACTED_IN]->(:Movie)\n"
          ]
        }
      ],
      "source": [
        "# Update schema\n",
        "graph.refresh_schema()\n",
        "# Print the current schema\n",
        "print(graph.schema)"
      ]
    },
    {
      "cell_type": "markdown",
      "id": "e84f148e",
      "metadata": {},
      "source": [
        "Now, let's check the enhanced schema information. Enhanced Schema Information provides a detailed overview of the graph structure, including node labels, relationship types, and property details such as data types and value ranges. This is particularly useful for generating more complex queries and leveraging LLMs for advanced use cases.\n",
        "\n",
        "To enable Enhanced Schema, set the parameter `enhanced_schema=True` when initializing the graph object.\n",
        "\n",
        "Key Features: \n",
        "\n",
        "- `Property Types` : Shows the data type (e.g., STRING, INTEGER, FLOAT) of each property.\n",
        "- `Value Ranges` : Displays minimum and maximum values for numeric fields.\n",
        "- `Examples` : Provides sample values for quick reference.\n",
        "- `Relationships` : Lists connection types between nodes and their property details."
      ]
    },
    {
      "cell_type": "code",
      "execution_count": 17,
      "id": "02ed0c8d",
      "metadata": {},
      "outputs": [
        {
          "name": "stderr",
          "output_type": "stream",
          "text": [
            "Received notification from DBMS server: {severity: WARNING} {code: Neo.ClientNotification.Statement.FeatureDeprecationWarning} {category: DEPRECATION} {title: This feature is deprecated and will be removed in future versions.} {description: The procedure has a deprecated field. ('config' used by 'apoc.meta.graphSample' is deprecated.)} {position: line: 1, column: 1, offset: 0} for query: \"CALL apoc.meta.graphSample() YIELD nodes, relationships RETURN nodes, [rel in relationships | {name:apoc.any.property(rel, 'type'), count: apoc.any.property(rel, 'count')}] AS relationships\"\n"
          ]
        },
        {
          "name": "stdout",
          "output_type": "stream",
          "text": [
            "Node properties:\n",
            "- **Movie**\n",
            "  - `title`: STRING Example: \"Toy Story\"\n",
            "  - `released`: DATE Min: 1964-12-16, Max: 1996-09-15\n",
            "  - `id`: STRING Example: \"1\"\n",
            "  - `imdbRating`: FLOAT Min: 2.4, Max: 9.3\n",
            "- **Person**\n",
            "  - `name`: STRING Example: \"John Lasseter\"\n",
            "- **Genre**\n",
            "  - `name`: STRING Example: \"Adventure\"\n",
            "Relationship properties:\n",
            "\n",
            "The relationships:\n",
            "(:Movie)-[:IN_GENRE]->(:Genre)\n",
            "(:Person)-[:DIRECTED]->(:Movie)\n",
            "(:Person)-[:ACTED_IN]->(:Movie)\n"
          ]
        }
      ],
      "source": [
        "enhanced_graph = Neo4jGraph(enhanced_schema=True)\n",
        "print(enhanced_graph.schema)"
      ]
    },
    {
      "cell_type": "markdown",
      "id": "b57ffb84",
      "metadata": {},
      "source": [
        "## GraphQACypherChain\n",
        "\n",
        "The `GraphCypherQAChain` simplifies the process of querying graph databases using natural language by integrating LLMs and Neo4j. It enables users to interact with graph data through natural language queries by converting them into Cypher queries, which are executed against a Neo4j database.\n",
        "\n",
        "Key Features:\n",
        "\n",
        "- `Text-to-Cypher Conversion` : Automatically translates natural language questions into Cypher queries.\n",
        "- `Query Execution` : Executes the generated queries against a Neo4j graph database.\n",
        "- `Natural Language Answers` : Processes and formats query results into human-readable answers.\n",
        "- `LLM Integration` : Leverages Large Language Models (LLMs), like OpenAI’s GPT, for query generation and result interpretation.\n",
        "- `Enhanced Schema Support` : Can work with enhanced schema information for more accurate query generation.\n",
        "\n",
        "![chain-flow](./assets/04-movie-qa-system-chain-flow.png)"
      ]
    },
    {
      "cell_type": "code",
      "execution_count": 18,
      "id": "50d10e32",
      "metadata": {},
      "outputs": [
        {
          "name": "stdout",
          "output_type": "stream",
          "text": [
            "\n",
            "\n",
            "\u001b[1m> Entering new GraphCypherQAChain chain...\u001b[0m\n",
            "Generated Cypher:\n",
            "\u001b[32;1m\u001b[1;3mcypher\n",
            "MATCH (p:Person)-[:ACTED_IN]->(m:Movie {title: \"Casino\"})\n",
            "RETURN p.name\n",
            "\u001b[0m\n",
            "Full Context:\n",
            "\u001b[32;1m\u001b[1;3m[{'p.name': 'Robert De Niro'}, {'p.name': 'Joe Pesci'}, {'p.name': 'Sharon Stone'}, {'p.name': 'James Woods'}]\u001b[0m\n",
            "\n",
            "\u001b[1m> Finished chain.\u001b[0m\n"
          ]
        },
        {
          "data": {
            "text/plain": [
              "{'query': 'What was the cast of the Casino?',\n",
              " 'result': 'Robert De Niro, Joe Pesci, Sharon Stone, and James Woods were the cast of Casino.'}"
            ]
          },
          "execution_count": 18,
          "metadata": {},
          "output_type": "execute_result"
        }
      ],
      "source": [
        "from langchain_neo4j import GraphCypherQAChain\n",
        "from langchain_openai import ChatOpenAI\n",
        "\n",
        "llm = ChatOpenAI(model=\"gpt-4o\", temperature=0)\n",
        "chain = GraphCypherQAChain.from_llm(\n",
        "    graph=enhanced_graph, llm=llm, verbose=True, allow_dangerous_requests=True\n",
        ")\n",
        "response = chain.invoke({\"query\": \"What was the cast of the Casino?\"})\n",
        "response"
      ]
    },
    {
      "cell_type": "code",
      "execution_count": 19,
      "id": "df1bc5dd",
      "metadata": {},
      "outputs": [
        {
          "name": "stdout",
          "output_type": "stream",
          "text": [
            "\n",
            "\n",
            "\u001b[1m> Entering new GraphCypherQAChain chain...\u001b[0m\n",
            "Generated Cypher:\n",
            "\u001b[32;1m\u001b[1;3mcypher\n",
            "MATCH (m:Movie)-[:IN_GENRE]->(g:Genre {name: \"Romance\"})\n",
            "RETURN m.title, m.imdbRating\n",
            "ORDER BY m.imdbRating DESC\n",
            "LIMIT 1\n",
            "\u001b[0m\n",
            "Full Context:\n",
            "\u001b[32;1m\u001b[1;3m[{'m.title': 'Chungking Express (Chung Hing sam lam)', 'm.imdbRating': 8.1}]\u001b[0m\n",
            "\n",
            "\u001b[1m> Finished chain.\u001b[0m\n"
          ]
        },
        {
          "data": {
            "text/plain": [
              "{'query': 'Recommend the popular romance movie.',\n",
              " 'result': 'Chungking Express (Chung Hing sam lam) with an IMDb rating of 8.1 is a popular romance movie.'}"
            ]
          },
          "execution_count": 19,
          "metadata": {},
          "output_type": "execute_result"
        }
      ],
      "source": [
        "response = chain.invoke({\"query\": \"Recommend the popular romance movie.\"})\n",
        "response"
      ]
    },
    {
      "cell_type": "markdown",
      "id": "5217dcce",
      "metadata": {},
      "source": [
        "## Using a New Dataset\n",
        "\n",
        "Now that we’re incorporating more diverse user and movie information, we can expand our perspective on movie recommendations. We'll utilize [Kaggle's The Movies Dataset](https://www.kaggle.com/datasets/rounakbanik/the-movies-dataset?) to run simple queries for recommendations.\n",
        "\n",
        "To begin, we'll set up a new local DBMS to import and use this external dataset.\n",
        "\n",
        "### Create a New Local DBMS\n",
        "\n",
        "Refer to the images below to create a new Local DBMS named `Kaggle Movie DBMS` :\n",
        "\n",
        "![setup-05](./assets/04-movie-qa-system-setup-04.png)\n",
        "\n",
        "![setup-06](./assets/04-movie-qa-system-setup-05.png)\n",
        "\n",
        "Next, connect to the Neo4j Graph Database as previously explained.\n",
        "\n",
        "- [Connect to Neo4j Graph Database](#connect-to-neo4j-graph-database)\n",
        "\n",
        "### Define Neo4j Credentials\n",
        "\n",
        "Next, you need to define your Neo4j credentials. If you haven't done this in the previous steps, you can define them using the `os` package.\n",
        "\n",
        "To import the dataset, you need to set the `import path` environment variable. In the image below, you can check the `import path` by clicking the `import` button. This path is where you will download and store the dataset.\n",
        "\n",
        "![setup-07](./assets/04-movie-qa-system-setup-06.png)\n",
        "\n",
        "[Note] This is not necessary if you've already set the required Neo4j credentials in previous steps."
      ]
    },
    {
      "cell_type": "code",
      "execution_count": 5,
      "id": "db8fc7b8",
      "metadata": {},
      "outputs": [],
      "source": [
        "from langchain_neo4j import Neo4jGraph\n",
        "import os\n",
        "\n",
        "os.environ[\"NEO4J_URI\"] = \"bolt://localhost:7687\"\n",
        "os.environ[\"NEO4J_USERNAME\"] = \"neo4j\"\n",
        "os.environ[\"NEO4J_PASSWORD\"] = \"neo4j\"\n",
        "os.environ[\"IMPORT_DIR\"] = \"YOUR_IMPORT_DIR\"\n",
        "\n",
        "graph = Neo4jGraph()"
      ]
    },
    {
      "cell_type": "markdown",
      "id": "da57d616",
      "metadata": {},
      "source": [
        "### Download a New Dataset: Kaggle's The Movies Dataset\n",
        "\n",
        "Download the Kaggle dataset and move it to the `import path` ."
      ]
    },
    {
      "cell_type": "code",
      "execution_count": null,
      "id": "53a0f9e0",
      "metadata": {},
      "outputs": [
        {
          "name": "stdout",
          "output_type": "stream",
          "text": [
            "Downloading from https://www.kaggle.com/api/v1/datasets/download/rounakbanik/the-movies-dataset?dataset_version_number=7...\n"
          ]
        },
        {
          "name": "stderr",
          "output_type": "stream",
          "text": [
            "100%|██████████| 228M/228M [00:08<00:00, 26.7MB/s] "
          ]
        },
        {
          "name": "stdout",
          "output_type": "stream",
          "text": [
            "Extracting files...\n"
          ]
        },
        {
          "name": "stderr",
          "output_type": "stream",
          "text": [
            "\n"
          ]
        },
        {
          "name": "stdout",
          "output_type": "stream",
          "text": [
            "Path to dataset files: C:\\Users\\user\\.cache\\kagglehub\\datasets\\rounakbanik\\the-movies-dataset\\versions\\7\n",
            "******************************\n",
            "Files moved to: C:\\Users\\user\\.Neo4jDesktop\\relate-data\\dbmss\\dbms-a942a090-d1b1-4a85-aef4-bbcc4186d101\\import\n"
          ]
        }
      ],
      "source": [
        "import kagglehub\n",
        "import shutil\n",
        "\n",
        "# Download the Kaggle dataset\n",
        "path = kagglehub.dataset_download(\"rounakbanik/the-movies-dataset\")\n",
        "\n",
        "print(\"Path to dataset files:\", path)\n",
        "print(\"*\" * 30)\n",
        "\n",
        "# Target path where the dataset files will be moved\n",
        "target_path = os.environ.get(\"IMPORT_DIR\")\n",
        "os.makedirs(target_path, exist_ok=True)\n",
        "\n",
        "# Move dataset files to the target path\n",
        "for file_name in os.listdir(path):\n",
        "    shutil.move(os.path.join(path, file_name), os.path.join(target_path, file_name))\n",
        "\n",
        "print(\"Files moved to:\", target_path)"
      ]
    },
    {
      "cell_type": "markdown",
      "id": "53ac9a23",
      "metadata": {},
      "source": [
        "Below is a simple example code that connects to a Neo4j database and populates it with a portion of the downloaded dataset:"
      ]
    },
    {
      "cell_type": "code",
      "execution_count": 9,
      "id": "74008865",
      "metadata": {},
      "outputs": [
        {
          "data": {
            "text/plain": [
              "[]"
            ]
          },
          "execution_count": 9,
          "metadata": {},
          "output_type": "execute_result"
        }
      ],
      "source": [
        "movies_query = f\"\"\"\n",
        "LOAD CSV WITH HEADERS FROM 'file:///movies_metadata.csv' AS row\n",
        "MERGE (m:Movie {{id: row.id}})\n",
        "SET m.title = row.title,\n",
        "    m.popularity = toFloat(row.popularity)\n",
        "\"\"\"\n",
        "graph.query(movies_query)"
      ]
    },
    {
      "cell_type": "code",
      "execution_count": 10,
      "id": "2f94c3dc",
      "metadata": {},
      "outputs": [
        {
          "data": {
            "text/plain": [
              "[{'batches': 47,\n",
              "  'total': 46419,\n",
              "  'timeTaken': 611,\n",
              "  'committedOperations': 9000,\n",
              "  'failedOperations': 37419,\n",
              "  'failedBatches': 38,\n",
              "  'retries': 0,\n",
              "  'errorMessages': {\"ForsetiClient[transactionId=63, clientId=17] can't acquire ExclusiveLock{owner=ForsetiClient[transactionId=35, clientId=12]} on NODE_RELATIONSHIP_GROUP_DELETE(45599) because holders of that lock are waiting for ForsetiClient[transactionId=63, clientId=17].\\r\\n Wait list:ExclusiveLock[\\r\\nClient[35] waits for [ForsetiClient[transactionId=63, clientId=17],ForsetiClient[transactionId=56, clientId=11]]]\": 1,\n",
              "   \"ForsetiClient[transactionId=71, clientId=17] can't acquire ExclusiveLock{owner=ForsetiClient[transactionId=69, clientId=8]} on NODE_RELATIONSHIP_GROUP_DELETE(45541) because holders of that lock are waiting for ForsetiClient[transactionId=71, clientId=17].\\r\\n Wait list:ExclusiveLock[\\r\\nClient[69] waits for [ForsetiClient[transactionId=71, clientId=17]]]\": 1,\n",
              "   \"ForsetiClient[transactionId=74, clientId=15] can't acquire ExclusiveLock{owner=ForsetiClient[transactionId=69, clientId=8]} on NODE_RELATIONSHIP_GROUP_DELETE(45541) because holders of that lock are waiting for ForsetiClient[transactionId=74, clientId=15].\\r\\n Wait list:ExclusiveLock[\\r\\nClient[69] waits for [ForsetiClient[transactionId=74, clientId=15]]]\": 1,\n",
              "   \"ForsetiClient[transactionId=66, clientId=18] can't acquire ExclusiveLock{owner=ForsetiClient[transactionId=35, clientId=12]} on NODE_RELATIONSHIP_GROUP_DELETE(48126) because holders of that lock are waiting for ForsetiClient[transactionId=66, clientId=18].\\r\\n Wait list:ExclusiveLock[\\r\\nClient[35] waits for [ForsetiClient[transactionId=66, clientId=18]]]\": 1,\n",
              "   \"ForsetiClient[transactionId=68, clientId=6] can't acquire ExclusiveLock{owner=ForsetiClient[transactionId=69, clientId=8]} on NODE_RELATIONSHIP_GROUP_DELETE(46494) because holders of that lock are waiting for ForsetiClient[transactionId=68, clientId=6].\\r\\n Wait list:ExclusiveLock[\\r\\nClient[69] waits for [ForsetiClient[transactionId=68, clientId=6]]]\": 1,\n",
              "   \"ForsetiClient[transactionId=46, clientId=16] can't acquire ExclusiveLock{owner=ForsetiClient[transactionId=34, clientId=11]} on NODE_RELATIONSHIP_GROUP_DELETE(48158) because holders of that lock are waiting for ForsetiClient[transactionId=46, clientId=16].\\r\\n Wait list:ExclusiveLock[\\r\\nClient[34] waits for [ForsetiClient[transactionId=46, clientId=16],ForsetiClient[transactionId=-1, clientId=17],ForsetiClient[transactionId=49, clientId=18],ForsetiClient[transactionId=-1, clientId=6]]]\": 1,\n",
              "   \"ForsetiClient[transactionId=29, clientId=6] can't acquire ExclusiveLock{owner=ForsetiClient[transactionId=34, clientId=11]} on NODE_RELATIONSHIP_GROUP_DELETE(46076) because holders of that lock are waiting for ForsetiClient[transactionId=29, clientId=6].\\r\\n Wait list:ExclusiveLock[\\r\\nClient[34] waits for [ForsetiClient[transactionId=45, clientId=17],ForsetiClient[transactionId=-1, clientId=18],ForsetiClient[transactionId=29, clientId=6]]]\": 1,\n",
              "   \"ForsetiClient[transactionId=30, clientId=7] can't acquire ExclusiveLock{owner=ForsetiClient[transactionId=34, clientId=11]} on NODE_RELATIONSHIP_GROUP_DELETE(53312) because holders of that lock are waiting for ForsetiClient[transactionId=30, clientId=7].\\r\\n Wait list:ExclusiveLock[\\r\\nClient[34] waits for [ForsetiClient[transactionId=30, clientId=7]]]\": 1,\n",
              "   \"ForsetiClient[transactionId=44, clientId=18] can't acquire ExclusiveLock{owner=ForsetiClient[transactionId=34, clientId=11]} on NODE_RELATIONSHIP_GROUP_DELETE(46076) because holders of that lock are waiting for ForsetiClient[transactionId=44, clientId=18].\\r\\n Wait list:ExclusiveLock[\\r\\nClient[34] waits for [ForsetiClient[transactionId=45, clientId=17],ForsetiClient[transactionId=44, clientId=18],ForsetiClient[transactionId=-1, clientId=5]]]\": 1,\n",
              "   \"ForsetiClient[transactionId=50, clientId=17] can't acquire ExclusiveLock{owner=ForsetiClient[transactionId=51, clientId=6]} on NODE_RELATIONSHIP_GROUP_DELETE(45541) because holders of that lock are waiting for ForsetiClient[transactionId=50, clientId=17].\\r\\n Wait list:ExclusiveLock[\\r\\nClient[51] waits for [ForsetiClient[transactionId=50, clientId=17]]]\": 1,\n",
              "   \"ForsetiClient[transactionId=31, clientId=8] can't acquire ExclusiveLock{owner=ForsetiClient[transactionId=34, clientId=11]} on NODE_RELATIONSHIP_GROUP_DELETE(48510) because holders of that lock are waiting for ForsetiClient[transactionId=31, clientId=8].\\r\\n Wait list:ExclusiveLock[\\r\\nClient[34] waits for [ForsetiClient[transactionId=31, clientId=8]]]\": 1,\n",
              "   \"ForsetiClient[transactionId=28, clientId=5] can't acquire ExclusiveLock{owner=ForsetiClient[transactionId=31, clientId=8]} on NODE_RELATIONSHIP_GROUP_DELETE(47215) because holders of that lock are waiting for ForsetiClient[transactionId=28, clientId=5].\\r\\n Wait list:ExclusiveLock[\\r\\nClient[31] waits for [ForsetiClient[transactionId=45, clientId=17],ForsetiClient[transactionId=28, clientId=5]]]\": 1,\n",
              "   \"ForsetiClient[transactionId=51, clientId=6] can't acquire ExclusiveLock{owner=ForsetiClient[transactionId=35, clientId=12]} on NODE_RELATIONSHIP_GROUP_DELETE(50318) because holders of that lock are waiting for ForsetiClient[transactionId=51, clientId=6].\\r\\n Wait list:ExclusiveLock[\\r\\nClient[35] waits for [ForsetiClient[transactionId=51, clientId=6]]]\": 1,\n",
              "   \"ForsetiClient[transactionId=59, clientId=4] can't acquire ExclusiveLock{owner=ForsetiClient[transactionId=35, clientId=12]} on NODE_RELATIONSHIP_GROUP_DELETE(47502) because holders of that lock are waiting for ForsetiClient[transactionId=59, clientId=4].\\r\\n Wait list:ExclusiveLock[\\r\\nClient[35] waits for [ForsetiClient[transactionId=59, clientId=4],ForsetiClient[transactionId=-1, clientId=11]]]\": 1,\n",
              "   \"ForsetiClient[transactionId=70, clientId=7] can't acquire ExclusiveLock{owner=ForsetiClient[transactionId=35, clientId=12]} on NODE_RELATIONSHIP_GROUP_DELETE(45541) because holders of that lock are waiting for ForsetiClient[transactionId=70, clientId=7].\\r\\n Wait list:ExclusiveLock[\\r\\nClient[35] waits for [ForsetiClient[transactionId=70, clientId=7]]]\": 1,\n",
              "   \"ForsetiClient[transactionId=53, clientId=8] can't acquire ExclusiveLock{owner=ForsetiClient[transactionId=56, clientId=11]} on NODE_RELATIONSHIP_GROUP_DELETE(45541) because holders of that lock are waiting for ForsetiClient[transactionId=53, clientId=8].\\r\\n Wait list:ExclusiveLock[\\r\\nClient[56] waits for [ForsetiClient[transactionId=55, clientId=7],ForsetiClient[transactionId=53, clientId=8]]]\": 1,\n",
              "   \"ForsetiClient[transactionId=36, clientId=13] can't acquire ExclusiveLock{owner=ForsetiClient[transactionId=33, clientId=10]} on NODE_RELATIONSHIP_GROUP_DELETE(46809) because holders of that lock are waiting for ForsetiClient[transactionId=36, clientId=13].\\r\\n Wait list:ExclusiveLock[\\r\\nClient[33] waits for [ForsetiClient[transactionId=36, clientId=13]]]\": 1,\n",
              "   \"ForsetiClient[transactionId=52, clientId=16] can't acquire ExclusiveLock{owner=ForsetiClient[transactionId=51, clientId=6]} on NODE_RELATIONSHIP_GROUP_DELETE(50973) because holders of that lock are waiting for ForsetiClient[transactionId=52, clientId=16].\\r\\n Wait list:ExclusiveLock[\\r\\nClient[51] waits for [ForsetiClient[transactionId=52, clientId=16],ForsetiClient[transactionId=63, clientId=17],ForsetiClient[transactionId=-1, clientId=15]]]\": 1,\n",
              "   \"ForsetiClient[transactionId=58, clientId=13] can't acquire ExclusiveLock{owner=ForsetiClient[transactionId=56, clientId=11]} on NODE_RELATIONSHIP_GROUP_DELETE(62794) because holders of that lock are waiting for ForsetiClient[transactionId=58, clientId=13].\\r\\n Wait list:ExclusiveLock[\\r\\nClient[56] waits for [ForsetiClient[transactionId=-1, clientId=17],ForsetiClient[transactionId=35, clientId=12],ForsetiClient[transactionId=58, clientId=13]]]\": 1,\n",
              "   \"ForsetiClient[transactionId=37, clientId=14] can't acquire ExclusiveLock{owner=ForsetiClient[transactionId=36, clientId=13]} on NODE_RELATIONSHIP_GROUP_DELETE(47277) because holders of that lock are waiting for ForsetiClient[transactionId=37, clientId=14].\\r\\n Wait list:ExclusiveLock[\\r\\nClient[36] waits for [ForsetiClient[transactionId=37, clientId=14]]]\": 1,\n",
              "   \"ForsetiClient[transactionId=64, clientId=15] can't acquire ExclusiveLock{owner=ForsetiClient[transactionId=56, clientId=11]} on NODE_RELATIONSHIP_GROUP_DELETE(45541) because holders of that lock are waiting for ForsetiClient[transactionId=64, clientId=15].\\r\\n Wait list:ExclusiveLock[\\r\\nClient[56] waits for [ForsetiClient[transactionId=64, clientId=15]]]\": 1,\n",
              "   \"ForsetiClient[transactionId=27, clientId=4] can't acquire ExclusiveLock{owner=ForsetiClient[transactionId=33, clientId=10]} on NODE_RELATIONSHIP_GROUP_DELETE(50272) because holders of that lock are waiting for ForsetiClient[transactionId=27, clientId=4].\\r\\n Wait list:ExclusiveLock[\\r\\nClient[33] waits for [ForsetiClient[transactionId=27, clientId=4]]]\": 1,\n",
              "   \"ForsetiClient[transactionId=65, clientId=16] can't acquire ExclusiveLock{owner=ForsetiClient[transactionId=56, clientId=11]} on NODE_RELATIONSHIP_GROUP_DELETE(45441) because holders of that lock are waiting for ForsetiClient[transactionId=65, clientId=16].\\r\\n Wait list:ExclusiveLock[\\r\\nClient[56] waits for [ForsetiClient[transactionId=65, clientId=16],ForsetiClient[transactionId=-1, clientId=17],ForsetiClient[transactionId=35, clientId=12],ForsetiClient[transactionId=-1, clientId=13]]]\": 1,\n",
              "   \"ForsetiClient[transactionId=54, clientId=3] can't acquire ExclusiveLock{owner=ForsetiClient[transactionId=35, clientId=12]} on NODE_RELATIONSHIP_GROUP_DELETE(45541) because holders of that lock are waiting for ForsetiClient[transactionId=54, clientId=3].\\r\\n Wait list:ExclusiveLock[\\r\\nClient[35] waits for [ForsetiClient[transactionId=54, clientId=3],ForsetiClient[transactionId=61, clientId=5]]]\": 1,\n",
              "   \"ForsetiClient[transactionId=57, clientId=14] can't acquire ExclusiveLock{owner=ForsetiClient[transactionId=35, clientId=12]} on NODE_RELATIONSHIP_GROUP_DELETE(45599) because holders of that lock are waiting for ForsetiClient[transactionId=57, clientId=14].\\r\\n Wait list:ExclusiveLock[\\r\\nClient[35] waits for [ForsetiClient[transactionId=-1, clientId=16],ForsetiClient[transactionId=57, clientId=14]]]\": 1,\n",
              "   \"ForsetiClient[transactionId=60, clientId=1] can't acquire ExclusiveLock{owner=ForsetiClient[transactionId=35, clientId=12]} on NODE_RELATIONSHIP_GROUP_DELETE(46245) because holders of that lock are waiting for ForsetiClient[transactionId=60, clientId=1].\\r\\n Wait list:ExclusiveLock[\\r\\nClient[35] waits for [ForsetiClient[transactionId=60, clientId=1]]]\": 1,\n",
              "   \"ForsetiClient[transactionId=73, clientId=16] can't acquire ExclusiveLock{owner=ForsetiClient[transactionId=35, clientId=12]} on NODE_RELATIONSHIP_GROUP_DELETE(46030) because holders of that lock are waiting for ForsetiClient[transactionId=73, clientId=16].\\r\\n Wait list:ExclusiveLock[\\r\\nClient[35] waits for [ForsetiClient[transactionId=73, clientId=16]]]\": 1,\n",
              "   \"ForsetiClient[transactionId=25, clientId=1] can't acquire ExclusiveLock{owner=ForsetiClient[transactionId=33, clientId=10]} on NODE_RELATIONSHIP_GROUP_DELETE(45599) because holders of that lock are waiting for ForsetiClient[transactionId=25, clientId=1].\\r\\n Wait list:ExclusiveLock[\\r\\nClient[33] waits for [ForsetiClient[transactionId=25, clientId=1]]]\": 1,\n",
              "   \"ForsetiClient[transactionId=62, clientId=10] can't acquire ExclusiveLock{owner=ForsetiClient[transactionId=51, clientId=6]} on NODE_RELATIONSHIP_GROUP_DELETE(45441) because holders of that lock are waiting for ForsetiClient[transactionId=62, clientId=10].\\r\\n Wait list:ExclusiveLock[\\r\\nClient[51] waits for [ForsetiClient[transactionId=62, clientId=10]]]\": 1,\n",
              "   \"ForsetiClient[transactionId=55, clientId=7] can't acquire ExclusiveLock{owner=ForsetiClient[transactionId=32, clientId=9]} on NODE_RELATIONSHIP_GROUP_DELETE(47193) because holders of that lock are waiting for ForsetiClient[transactionId=55, clientId=7].\\r\\n Wait list:ExclusiveLock[\\r\\nClient[32] waits for [ForsetiClient[transactionId=55, clientId=7],ForsetiClient[transactionId=-1, clientId=8],ForsetiClient[transactionId=56, clientId=11]]]\": 1,\n",
              "   \"ForsetiClient[transactionId=48, clientId=5] can't acquire ExclusiveLock{owner=ForsetiClient[transactionId=33, clientId=10]} on NODE_RELATIONSHIP_GROUP_DELETE(63368) because holders of that lock are waiting for ForsetiClient[transactionId=48, clientId=5].\\r\\n Wait list:ExclusiveLock[\\r\\nClient[33] waits for [ForsetiClient[transactionId=48, clientId=5]]]\": 1,\n",
              "   \"ForsetiClient[transactionId=45, clientId=17] can't acquire ExclusiveLock{owner=ForsetiClient[transactionId=29, clientId=6]} on NODE_RELATIONSHIP_GROUP_DELETE(45602) because holders of that lock are waiting for ForsetiClient[transactionId=45, clientId=17].\\r\\n Wait list:ExclusiveLock[\\r\\nClient[29] waits for [ForsetiClient[transactionId=45, clientId=17],ForsetiClient[transactionId=-1, clientId=18],ForsetiClient[transactionId=34, clientId=11]]]\": 1,\n",
              "   \"ForsetiClient[transactionId=32, clientId=9] can't acquire ExclusiveLock{owner=ForsetiClient[transactionId=35, clientId=12]} on NODE_RELATIONSHIP_GROUP_DELETE(47502) because holders of that lock are waiting for ForsetiClient[transactionId=32, clientId=9].\\r\\n Wait list:ExclusiveLock[\\r\\nClient[35] waits for [ForsetiClient[transactionId=-1, clientId=4],ForsetiClient[transactionId=32, clientId=9],ForsetiClient[transactionId=-1, clientId=11]]]\": 1,\n",
              "   \"ForsetiClient[transactionId=61, clientId=5] can't acquire ExclusiveLock{owner=ForsetiClient[transactionId=35, clientId=12]} on NODE_RELATIONSHIP_GROUP_DELETE(45453) because holders of that lock are waiting for ForsetiClient[transactionId=61, clientId=5].\\r\\n Wait list:ExclusiveLock[\\r\\nClient[35] waits for [ForsetiClient[transactionId=61, clientId=5]]]\": 1,\n",
              "   \"ForsetiClient[transactionId=56, clientId=11] can't acquire ExclusiveLock{owner=ForsetiClient[transactionId=35, clientId=12]} on NODE_RELATIONSHIP_GROUP_DELETE(45599) because holders of that lock are waiting for ForsetiClient[transactionId=56, clientId=11].\\r\\n Wait list:ExclusiveLock[\\r\\nClient[35] waits for [ForsetiClient[transactionId=56, clientId=11]]]\": 1,\n",
              "   \"ForsetiClient[transactionId=49, clientId=18] can't acquire ExclusiveLock{owner=ForsetiClient[transactionId=51, clientId=6]} on NODE_RELATIONSHIP_GROUP_DELETE(45541) because holders of that lock are waiting for ForsetiClient[transactionId=49, clientId=18].\\r\\n Wait list:ExclusiveLock[\\r\\nClient[51] waits for [ForsetiClient[transactionId=49, clientId=18]]]\": 1,\n",
              "   \"ForsetiClient[transactionId=26, clientId=3] can't acquire ExclusiveLock{owner=ForsetiClient[transactionId=34, clientId=11]} on NODE_RELATIONSHIP_GROUP_DELETE(45599) because holders of that lock are waiting for ForsetiClient[transactionId=26, clientId=3].\\r\\n Wait list:ExclusiveLock[\\r\\nClient[34] waits for [ForsetiClient[transactionId=26, clientId=3]]]\": 1,\n",
              "   \"ForsetiClient[transactionId=47, clientId=15] can't acquire ExclusiveLock{owner=ForsetiClient[transactionId=51, clientId=6]} on NODE_RELATIONSHIP_GROUP_DELETE(45441) because holders of that lock are waiting for ForsetiClient[transactionId=47, clientId=15].\\r\\n Wait list:ExclusiveLock[\\r\\nClient[51] waits for [ForsetiClient[transactionId=-1, clientId=17],ForsetiClient[transactionId=47, clientId=15]]]\": 1},\n",
              "  'batch': {'total': 47,\n",
              "   'errors': {\"org.neo4j.kernel.DeadlockDetectedException: ForsetiClient[transactionId=58, clientId=13] can't acquire ExclusiveLock{owner=ForsetiClient[transactionId=56, clientId=11]} on NODE_RELATIONSHIP_GROUP_DELETE(62794) because holders of that lock are waiting for ForsetiClient[transactionId=58, clientId=13].\\r\\n Wait list:ExclusiveLock[\\r\\nClient[56] waits for [ForsetiClient[transactionId=-1, clientId=17],ForsetiClient[transactionId=35, clientId=12],ForsetiClient[transactionId=58, clientId=13]]]\": 1,\n",
              "    \"org.neo4j.kernel.DeadlockDetectedException: ForsetiClient[transactionId=48, clientId=5] can't acquire ExclusiveLock{owner=ForsetiClient[transactionId=33, clientId=10]} on NODE_RELATIONSHIP_GROUP_DELETE(63368) because holders of that lock are waiting for ForsetiClient[transactionId=48, clientId=5].\\r\\n Wait list:ExclusiveLock[\\r\\nClient[33] waits for [ForsetiClient[transactionId=48, clientId=5]]]\": 1,\n",
              "    \"org.neo4j.kernel.DeadlockDetectedException: ForsetiClient[transactionId=68, clientId=6] can't acquire ExclusiveLock{owner=ForsetiClient[transactionId=69, clientId=8]} on NODE_RELATIONSHIP_GROUP_DELETE(46494) because holders of that lock are waiting for ForsetiClient[transactionId=68, clientId=6].\\r\\n Wait list:ExclusiveLock[\\r\\nClient[69] waits for [ForsetiClient[transactionId=68, clientId=6]]]\": 1,\n",
              "    \"org.neo4j.kernel.DeadlockDetectedException: ForsetiClient[transactionId=46, clientId=16] can't acquire ExclusiveLock{owner=ForsetiClient[transactionId=34, clientId=11]} on NODE_RELATIONSHIP_GROUP_DELETE(48158) because holders of that lock are waiting for ForsetiClient[transactionId=46, clientId=16].\\r\\n Wait list:ExclusiveLock[\\r\\nClient[34] waits for [ForsetiClient[transactionId=46, clientId=16],ForsetiClient[transactionId=-1, clientId=17],ForsetiClient[transactionId=49, clientId=18],ForsetiClient[transactionId=-1, clientId=6]]]\": 1,\n",
              "    \"org.neo4j.kernel.DeadlockDetectedException: ForsetiClient[transactionId=53, clientId=8] can't acquire ExclusiveLock{owner=ForsetiClient[transactionId=56, clientId=11]} on NODE_RELATIONSHIP_GROUP_DELETE(45541) because holders of that lock are waiting for ForsetiClient[transactionId=53, clientId=8].\\r\\n Wait list:ExclusiveLock[\\r\\nClient[56] waits for [ForsetiClient[transactionId=55, clientId=7],ForsetiClient[transactionId=53, clientId=8]]]\": 1,\n",
              "    \"org.neo4j.kernel.DeadlockDetectedException: ForsetiClient[transactionId=56, clientId=11] can't acquire ExclusiveLock{owner=ForsetiClient[transactionId=35, clientId=12]} on NODE_RELATIONSHIP_GROUP_DELETE(45599) because holders of that lock are waiting for ForsetiClient[transactionId=56, clientId=11].\\r\\n Wait list:ExclusiveLock[\\r\\nClient[35] waits for [ForsetiClient[transactionId=56, clientId=11]]]\": 1,\n",
              "    \"org.neo4j.kernel.DeadlockDetectedException: ForsetiClient[transactionId=37, clientId=14] can't acquire ExclusiveLock{owner=ForsetiClient[transactionId=36, clientId=13]} on NODE_RELATIONSHIP_GROUP_DELETE(47277) because holders of that lock are waiting for ForsetiClient[transactionId=37, clientId=14].\\r\\n Wait list:ExclusiveLock[\\r\\nClient[36] waits for [ForsetiClient[transactionId=37, clientId=14]]]\": 1,\n",
              "    \"org.neo4j.kernel.DeadlockDetectedException: ForsetiClient[transactionId=32, clientId=9] can't acquire ExclusiveLock{owner=ForsetiClient[transactionId=35, clientId=12]} on NODE_RELATIONSHIP_GROUP_DELETE(47502) because holders of that lock are waiting for ForsetiClient[transactionId=32, clientId=9].\\r\\n Wait list:ExclusiveLock[\\r\\nClient[35] waits for [ForsetiClient[transactionId=-1, clientId=4],ForsetiClient[transactionId=32, clientId=9],ForsetiClient[transactionId=-1, clientId=11]]]\": 1,\n",
              "    \"org.neo4j.kernel.DeadlockDetectedException: ForsetiClient[transactionId=45, clientId=17] can't acquire ExclusiveLock{owner=ForsetiClient[transactionId=29, clientId=6]} on NODE_RELATIONSHIP_GROUP_DELETE(45602) because holders of that lock are waiting for ForsetiClient[transactionId=45, clientId=17].\\r\\n Wait list:ExclusiveLock[\\r\\nClient[29] waits for [ForsetiClient[transactionId=45, clientId=17],ForsetiClient[transactionId=-1, clientId=18],ForsetiClient[transactionId=34, clientId=11]]]\": 1,\n",
              "    \"org.neo4j.kernel.DeadlockDetectedException: ForsetiClient[transactionId=54, clientId=3] can't acquire ExclusiveLock{owner=ForsetiClient[transactionId=35, clientId=12]} on NODE_RELATIONSHIP_GROUP_DELETE(45541) because holders of that lock are waiting for ForsetiClient[transactionId=54, clientId=3].\\r\\n Wait list:ExclusiveLock[\\r\\nClient[35] waits for [ForsetiClient[transactionId=54, clientId=3],ForsetiClient[transactionId=61, clientId=5]]]\": 1,\n",
              "    \"org.neo4j.kernel.DeadlockDetectedException: ForsetiClient[transactionId=74, clientId=15] can't acquire ExclusiveLock{owner=ForsetiClient[transactionId=69, clientId=8]} on NODE_RELATIONSHIP_GROUP_DELETE(45541) because holders of that lock are waiting for ForsetiClient[transactionId=74, clientId=15].\\r\\n Wait list:ExclusiveLock[\\r\\nClient[69] waits for [ForsetiClient[transactionId=74, clientId=15]]]\": 1,\n",
              "    \"org.neo4j.kernel.DeadlockDetectedException: ForsetiClient[transactionId=30, clientId=7] can't acquire ExclusiveLock{owner=ForsetiClient[transactionId=34, clientId=11]} on NODE_RELATIONSHIP_GROUP_DELETE(53312) because holders of that lock are waiting for ForsetiClient[transactionId=30, clientId=7].\\r\\n Wait list:ExclusiveLock[\\r\\nClient[34] waits for [ForsetiClient[transactionId=30, clientId=7]]]\": 1,\n",
              "    \"org.neo4j.kernel.DeadlockDetectedException: ForsetiClient[transactionId=70, clientId=7] can't acquire ExclusiveLock{owner=ForsetiClient[transactionId=35, clientId=12]} on NODE_RELATIONSHIP_GROUP_DELETE(45541) because holders of that lock are waiting for ForsetiClient[transactionId=70, clientId=7].\\r\\n Wait list:ExclusiveLock[\\r\\nClient[35] waits for [ForsetiClient[transactionId=70, clientId=7]]]\": 1,\n",
              "    \"org.neo4j.kernel.DeadlockDetectedException: ForsetiClient[transactionId=62, clientId=10] can't acquire ExclusiveLock{owner=ForsetiClient[transactionId=51, clientId=6]} on NODE_RELATIONSHIP_GROUP_DELETE(45441) because holders of that lock are waiting for ForsetiClient[transactionId=62, clientId=10].\\r\\n Wait list:ExclusiveLock[\\r\\nClient[51] waits for [ForsetiClient[transactionId=62, clientId=10]]]\": 1,\n",
              "    \"org.neo4j.kernel.DeadlockDetectedException: ForsetiClient[transactionId=66, clientId=18] can't acquire ExclusiveLock{owner=ForsetiClient[transactionId=35, clientId=12]} on NODE_RELATIONSHIP_GROUP_DELETE(48126) because holders of that lock are waiting for ForsetiClient[transactionId=66, clientId=18].\\r\\n Wait list:ExclusiveLock[\\r\\nClient[35] waits for [ForsetiClient[transactionId=66, clientId=18]]]\": 1,\n",
              "    \"org.neo4j.kernel.DeadlockDetectedException: ForsetiClient[transactionId=50, clientId=17] can't acquire ExclusiveLock{owner=ForsetiClient[transactionId=51, clientId=6]} on NODE_RELATIONSHIP_GROUP_DELETE(45541) because holders of that lock are waiting for ForsetiClient[transactionId=50, clientId=17].\\r\\n Wait list:ExclusiveLock[\\r\\nClient[51] waits for [ForsetiClient[transactionId=50, clientId=17]]]\": 1,\n",
              "    \"org.neo4j.kernel.DeadlockDetectedException: ForsetiClient[transactionId=26, clientId=3] can't acquire ExclusiveLock{owner=ForsetiClient[transactionId=34, clientId=11]} on NODE_RELATIONSHIP_GROUP_DELETE(45599) because holders of that lock are waiting for ForsetiClient[transactionId=26, clientId=3].\\r\\n Wait list:ExclusiveLock[\\r\\nClient[34] waits for [ForsetiClient[transactionId=26, clientId=3]]]\": 1,\n",
              "    \"org.neo4j.kernel.DeadlockDetectedException: ForsetiClient[transactionId=29, clientId=6] can't acquire ExclusiveLock{owner=ForsetiClient[transactionId=34, clientId=11]} on NODE_RELATIONSHIP_GROUP_DELETE(46076) because holders of that lock are waiting for ForsetiClient[transactionId=29, clientId=6].\\r\\n Wait list:ExclusiveLock[\\r\\nClient[34] waits for [ForsetiClient[transactionId=45, clientId=17],ForsetiClient[transactionId=-1, clientId=18],ForsetiClient[transactionId=29, clientId=6]]]\": 1,\n",
              "    \"org.neo4j.kernel.DeadlockDetectedException: ForsetiClient[transactionId=57, clientId=14] can't acquire ExclusiveLock{owner=ForsetiClient[transactionId=35, clientId=12]} on NODE_RELATIONSHIP_GROUP_DELETE(45599) because holders of that lock are waiting for ForsetiClient[transactionId=57, clientId=14].\\r\\n Wait list:ExclusiveLock[\\r\\nClient[35] waits for [ForsetiClient[transactionId=-1, clientId=16],ForsetiClient[transactionId=57, clientId=14]]]\": 1,\n",
              "    \"org.neo4j.kernel.DeadlockDetectedException: ForsetiClient[transactionId=61, clientId=5] can't acquire ExclusiveLock{owner=ForsetiClient[transactionId=35, clientId=12]} on NODE_RELATIONSHIP_GROUP_DELETE(45453) because holders of that lock are waiting for ForsetiClient[transactionId=61, clientId=5].\\r\\n Wait list:ExclusiveLock[\\r\\nClient[35] waits for [ForsetiClient[transactionId=61, clientId=5]]]\": 1,\n",
              "    \"org.neo4j.kernel.DeadlockDetectedException: ForsetiClient[transactionId=64, clientId=15] can't acquire ExclusiveLock{owner=ForsetiClient[transactionId=56, clientId=11]} on NODE_RELATIONSHIP_GROUP_DELETE(45541) because holders of that lock are waiting for ForsetiClient[transactionId=64, clientId=15].\\r\\n Wait list:ExclusiveLock[\\r\\nClient[56] waits for [ForsetiClient[transactionId=64, clientId=15]]]\": 1,\n",
              "    \"org.neo4j.kernel.DeadlockDetectedException: ForsetiClient[transactionId=25, clientId=1] can't acquire ExclusiveLock{owner=ForsetiClient[transactionId=33, clientId=10]} on NODE_RELATIONSHIP_GROUP_DELETE(45599) because holders of that lock are waiting for ForsetiClient[transactionId=25, clientId=1].\\r\\n Wait list:ExclusiveLock[\\r\\nClient[33] waits for [ForsetiClient[transactionId=25, clientId=1]]]\": 1,\n",
              "    \"org.neo4j.kernel.DeadlockDetectedException: ForsetiClient[transactionId=71, clientId=17] can't acquire ExclusiveLock{owner=ForsetiClient[transactionId=69, clientId=8]} on NODE_RELATIONSHIP_GROUP_DELETE(45541) because holders of that lock are waiting for ForsetiClient[transactionId=71, clientId=17].\\r\\n Wait list:ExclusiveLock[\\r\\nClient[69] waits for [ForsetiClient[transactionId=71, clientId=17]]]\": 1,\n",
              "    \"org.neo4j.kernel.DeadlockDetectedException: ForsetiClient[transactionId=55, clientId=7] can't acquire ExclusiveLock{owner=ForsetiClient[transactionId=32, clientId=9]} on NODE_RELATIONSHIP_GROUP_DELETE(47193) because holders of that lock are waiting for ForsetiClient[transactionId=55, clientId=7].\\r\\n Wait list:ExclusiveLock[\\r\\nClient[32] waits for [ForsetiClient[transactionId=55, clientId=7],ForsetiClient[transactionId=-1, clientId=8],ForsetiClient[transactionId=56, clientId=11]]]\": 1,\n",
              "    \"org.neo4j.kernel.DeadlockDetectedException: ForsetiClient[transactionId=65, clientId=16] can't acquire ExclusiveLock{owner=ForsetiClient[transactionId=56, clientId=11]} on NODE_RELATIONSHIP_GROUP_DELETE(45441) because holders of that lock are waiting for ForsetiClient[transactionId=65, clientId=16].\\r\\n Wait list:ExclusiveLock[\\r\\nClient[56] waits for [ForsetiClient[transactionId=65, clientId=16],ForsetiClient[transactionId=-1, clientId=17],ForsetiClient[transactionId=35, clientId=12],ForsetiClient[transactionId=-1, clientId=13]]]\": 1,\n",
              "    \"org.neo4j.kernel.DeadlockDetectedException: ForsetiClient[transactionId=47, clientId=15] can't acquire ExclusiveLock{owner=ForsetiClient[transactionId=51, clientId=6]} on NODE_RELATIONSHIP_GROUP_DELETE(45441) because holders of that lock are waiting for ForsetiClient[transactionId=47, clientId=15].\\r\\n Wait list:ExclusiveLock[\\r\\nClient[51] waits for [ForsetiClient[transactionId=-1, clientId=17],ForsetiClient[transactionId=47, clientId=15]]]\": 1,\n",
              "    \"org.neo4j.kernel.DeadlockDetectedException: ForsetiClient[transactionId=44, clientId=18] can't acquire ExclusiveLock{owner=ForsetiClient[transactionId=34, clientId=11]} on NODE_RELATIONSHIP_GROUP_DELETE(46076) because holders of that lock are waiting for ForsetiClient[transactionId=44, clientId=18].\\r\\n Wait list:ExclusiveLock[\\r\\nClient[34] waits for [ForsetiClient[transactionId=45, clientId=17],ForsetiClient[transactionId=44, clientId=18],ForsetiClient[transactionId=-1, clientId=5]]]\": 1,\n",
              "    \"org.neo4j.kernel.DeadlockDetectedException: ForsetiClient[transactionId=36, clientId=13] can't acquire ExclusiveLock{owner=ForsetiClient[transactionId=33, clientId=10]} on NODE_RELATIONSHIP_GROUP_DELETE(46809) because holders of that lock are waiting for ForsetiClient[transactionId=36, clientId=13].\\r\\n Wait list:ExclusiveLock[\\r\\nClient[33] waits for [ForsetiClient[transactionId=36, clientId=13]]]\": 1,\n",
              "    \"org.neo4j.kernel.DeadlockDetectedException: ForsetiClient[transactionId=51, clientId=6] can't acquire ExclusiveLock{owner=ForsetiClient[transactionId=35, clientId=12]} on NODE_RELATIONSHIP_GROUP_DELETE(50318) because holders of that lock are waiting for ForsetiClient[transactionId=51, clientId=6].\\r\\n Wait list:ExclusiveLock[\\r\\nClient[35] waits for [ForsetiClient[transactionId=51, clientId=6]]]\": 1,\n",
              "    \"org.neo4j.kernel.DeadlockDetectedException: ForsetiClient[transactionId=31, clientId=8] can't acquire ExclusiveLock{owner=ForsetiClient[transactionId=34, clientId=11]} on NODE_RELATIONSHIP_GROUP_DELETE(48510) because holders of that lock are waiting for ForsetiClient[transactionId=31, clientId=8].\\r\\n Wait list:ExclusiveLock[\\r\\nClient[34] waits for [ForsetiClient[transactionId=31, clientId=8]]]\": 1,\n",
              "    \"org.neo4j.kernel.DeadlockDetectedException: ForsetiClient[transactionId=28, clientId=5] can't acquire ExclusiveLock{owner=ForsetiClient[transactionId=31, clientId=8]} on NODE_RELATIONSHIP_GROUP_DELETE(47215) because holders of that lock are waiting for ForsetiClient[transactionId=28, clientId=5].\\r\\n Wait list:ExclusiveLock[\\r\\nClient[31] waits for [ForsetiClient[transactionId=45, clientId=17],ForsetiClient[transactionId=28, clientId=5]]]\": 1,\n",
              "    \"org.neo4j.kernel.DeadlockDetectedException: ForsetiClient[transactionId=60, clientId=1] can't acquire ExclusiveLock{owner=ForsetiClient[transactionId=35, clientId=12]} on NODE_RELATIONSHIP_GROUP_DELETE(46245) because holders of that lock are waiting for ForsetiClient[transactionId=60, clientId=1].\\r\\n Wait list:ExclusiveLock[\\r\\nClient[35] waits for [ForsetiClient[transactionId=60, clientId=1]]]\": 1,\n",
              "    \"org.neo4j.kernel.DeadlockDetectedException: ForsetiClient[transactionId=73, clientId=16] can't acquire ExclusiveLock{owner=ForsetiClient[transactionId=35, clientId=12]} on NODE_RELATIONSHIP_GROUP_DELETE(46030) because holders of that lock are waiting for ForsetiClient[transactionId=73, clientId=16].\\r\\n Wait list:ExclusiveLock[\\r\\nClient[35] waits for [ForsetiClient[transactionId=73, clientId=16]]]\": 1,\n",
              "    \"org.neo4j.kernel.DeadlockDetectedException: ForsetiClient[transactionId=49, clientId=18] can't acquire ExclusiveLock{owner=ForsetiClient[transactionId=51, clientId=6]} on NODE_RELATIONSHIP_GROUP_DELETE(45541) because holders of that lock are waiting for ForsetiClient[transactionId=49, clientId=18].\\r\\n Wait list:ExclusiveLock[\\r\\nClient[51] waits for [ForsetiClient[transactionId=49, clientId=18]]]\": 1,\n",
              "    \"org.neo4j.kernel.DeadlockDetectedException: ForsetiClient[transactionId=63, clientId=17] can't acquire ExclusiveLock{owner=ForsetiClient[transactionId=35, clientId=12]} on NODE_RELATIONSHIP_GROUP_DELETE(45599) because holders of that lock are waiting for ForsetiClient[transactionId=63, clientId=17].\\r\\n Wait list:ExclusiveLock[\\r\\nClient[35] waits for [ForsetiClient[transactionId=63, clientId=17],ForsetiClient[transactionId=56, clientId=11]]]\": 1,\n",
              "    \"org.neo4j.kernel.DeadlockDetectedException: ForsetiClient[transactionId=52, clientId=16] can't acquire ExclusiveLock{owner=ForsetiClient[transactionId=51, clientId=6]} on NODE_RELATIONSHIP_GROUP_DELETE(50973) because holders of that lock are waiting for ForsetiClient[transactionId=52, clientId=16].\\r\\n Wait list:ExclusiveLock[\\r\\nClient[51] waits for [ForsetiClient[transactionId=52, clientId=16],ForsetiClient[transactionId=63, clientId=17],ForsetiClient[transactionId=-1, clientId=15]]]\": 1,\n",
              "    \"org.neo4j.kernel.DeadlockDetectedException: ForsetiClient[transactionId=27, clientId=4] can't acquire ExclusiveLock{owner=ForsetiClient[transactionId=33, clientId=10]} on NODE_RELATIONSHIP_GROUP_DELETE(50272) because holders of that lock are waiting for ForsetiClient[transactionId=27, clientId=4].\\r\\n Wait list:ExclusiveLock[\\r\\nClient[33] waits for [ForsetiClient[transactionId=27, clientId=4]]]\": 1,\n",
              "    \"org.neo4j.kernel.DeadlockDetectedException: ForsetiClient[transactionId=59, clientId=4] can't acquire ExclusiveLock{owner=ForsetiClient[transactionId=35, clientId=12]} on NODE_RELATIONSHIP_GROUP_DELETE(47502) because holders of that lock are waiting for ForsetiClient[transactionId=59, clientId=4].\\r\\n Wait list:ExclusiveLock[\\r\\nClient[35] waits for [ForsetiClient[transactionId=59, clientId=4],ForsetiClient[transactionId=-1, clientId=11]]]\": 1},\n",
              "   'committed': 9,\n",
              "   'failed': 38},\n",
              "  'operations': {'total': 46419,\n",
              "   'errors': {\"ForsetiClient[transactionId=63, clientId=17] can't acquire ExclusiveLock{owner=ForsetiClient[transactionId=35, clientId=12]} on NODE_RELATIONSHIP_GROUP_DELETE(45599) because holders of that lock are waiting for ForsetiClient[transactionId=63, clientId=17].\\r\\n Wait list:ExclusiveLock[\\r\\nClient[35] waits for [ForsetiClient[transactionId=63, clientId=17],ForsetiClient[transactionId=56, clientId=11]]]\": 1,\n",
              "    \"ForsetiClient[transactionId=71, clientId=17] can't acquire ExclusiveLock{owner=ForsetiClient[transactionId=69, clientId=8]} on NODE_RELATIONSHIP_GROUP_DELETE(45541) because holders of that lock are waiting for ForsetiClient[transactionId=71, clientId=17].\\r\\n Wait list:ExclusiveLock[\\r\\nClient[69] waits for [ForsetiClient[transactionId=71, clientId=17]]]\": 1,\n",
              "    \"ForsetiClient[transactionId=74, clientId=15] can't acquire ExclusiveLock{owner=ForsetiClient[transactionId=69, clientId=8]} on NODE_RELATIONSHIP_GROUP_DELETE(45541) because holders of that lock are waiting for ForsetiClient[transactionId=74, clientId=15].\\r\\n Wait list:ExclusiveLock[\\r\\nClient[69] waits for [ForsetiClient[transactionId=74, clientId=15]]]\": 1,\n",
              "    \"ForsetiClient[transactionId=66, clientId=18] can't acquire ExclusiveLock{owner=ForsetiClient[transactionId=35, clientId=12]} on NODE_RELATIONSHIP_GROUP_DELETE(48126) because holders of that lock are waiting for ForsetiClient[transactionId=66, clientId=18].\\r\\n Wait list:ExclusiveLock[\\r\\nClient[35] waits for [ForsetiClient[transactionId=66, clientId=18]]]\": 1,\n",
              "    \"ForsetiClient[transactionId=68, clientId=6] can't acquire ExclusiveLock{owner=ForsetiClient[transactionId=69, clientId=8]} on NODE_RELATIONSHIP_GROUP_DELETE(46494) because holders of that lock are waiting for ForsetiClient[transactionId=68, clientId=6].\\r\\n Wait list:ExclusiveLock[\\r\\nClient[69] waits for [ForsetiClient[transactionId=68, clientId=6]]]\": 1,\n",
              "    \"ForsetiClient[transactionId=46, clientId=16] can't acquire ExclusiveLock{owner=ForsetiClient[transactionId=34, clientId=11]} on NODE_RELATIONSHIP_GROUP_DELETE(48158) because holders of that lock are waiting for ForsetiClient[transactionId=46, clientId=16].\\r\\n Wait list:ExclusiveLock[\\r\\nClient[34] waits for [ForsetiClient[transactionId=46, clientId=16],ForsetiClient[transactionId=-1, clientId=17],ForsetiClient[transactionId=49, clientId=18],ForsetiClient[transactionId=-1, clientId=6]]]\": 1,\n",
              "    \"ForsetiClient[transactionId=29, clientId=6] can't acquire ExclusiveLock{owner=ForsetiClient[transactionId=34, clientId=11]} on NODE_RELATIONSHIP_GROUP_DELETE(46076) because holders of that lock are waiting for ForsetiClient[transactionId=29, clientId=6].\\r\\n Wait list:ExclusiveLock[\\r\\nClient[34] waits for [ForsetiClient[transactionId=45, clientId=17],ForsetiClient[transactionId=-1, clientId=18],ForsetiClient[transactionId=29, clientId=6]]]\": 1,\n",
              "    \"ForsetiClient[transactionId=30, clientId=7] can't acquire ExclusiveLock{owner=ForsetiClient[transactionId=34, clientId=11]} on NODE_RELATIONSHIP_GROUP_DELETE(53312) because holders of that lock are waiting for ForsetiClient[transactionId=30, clientId=7].\\r\\n Wait list:ExclusiveLock[\\r\\nClient[34] waits for [ForsetiClient[transactionId=30, clientId=7]]]\": 1,\n",
              "    \"ForsetiClient[transactionId=44, clientId=18] can't acquire ExclusiveLock{owner=ForsetiClient[transactionId=34, clientId=11]} on NODE_RELATIONSHIP_GROUP_DELETE(46076) because holders of that lock are waiting for ForsetiClient[transactionId=44, clientId=18].\\r\\n Wait list:ExclusiveLock[\\r\\nClient[34] waits for [ForsetiClient[transactionId=45, clientId=17],ForsetiClient[transactionId=44, clientId=18],ForsetiClient[transactionId=-1, clientId=5]]]\": 1,\n",
              "    \"ForsetiClient[transactionId=50, clientId=17] can't acquire ExclusiveLock{owner=ForsetiClient[transactionId=51, clientId=6]} on NODE_RELATIONSHIP_GROUP_DELETE(45541) because holders of that lock are waiting for ForsetiClient[transactionId=50, clientId=17].\\r\\n Wait list:ExclusiveLock[\\r\\nClient[51] waits for [ForsetiClient[transactionId=50, clientId=17]]]\": 1,\n",
              "    \"ForsetiClient[transactionId=31, clientId=8] can't acquire ExclusiveLock{owner=ForsetiClient[transactionId=34, clientId=11]} on NODE_RELATIONSHIP_GROUP_DELETE(48510) because holders of that lock are waiting for ForsetiClient[transactionId=31, clientId=8].\\r\\n Wait list:ExclusiveLock[\\r\\nClient[34] waits for [ForsetiClient[transactionId=31, clientId=8]]]\": 1,\n",
              "    \"ForsetiClient[transactionId=28, clientId=5] can't acquire ExclusiveLock{owner=ForsetiClient[transactionId=31, clientId=8]} on NODE_RELATIONSHIP_GROUP_DELETE(47215) because holders of that lock are waiting for ForsetiClient[transactionId=28, clientId=5].\\r\\n Wait list:ExclusiveLock[\\r\\nClient[31] waits for [ForsetiClient[transactionId=45, clientId=17],ForsetiClient[transactionId=28, clientId=5]]]\": 1,\n",
              "    \"ForsetiClient[transactionId=51, clientId=6] can't acquire ExclusiveLock{owner=ForsetiClient[transactionId=35, clientId=12]} on NODE_RELATIONSHIP_GROUP_DELETE(50318) because holders of that lock are waiting for ForsetiClient[transactionId=51, clientId=6].\\r\\n Wait list:ExclusiveLock[\\r\\nClient[35] waits for [ForsetiClient[transactionId=51, clientId=6]]]\": 1,\n",
              "    \"ForsetiClient[transactionId=59, clientId=4] can't acquire ExclusiveLock{owner=ForsetiClient[transactionId=35, clientId=12]} on NODE_RELATIONSHIP_GROUP_DELETE(47502) because holders of that lock are waiting for ForsetiClient[transactionId=59, clientId=4].\\r\\n Wait list:ExclusiveLock[\\r\\nClient[35] waits for [ForsetiClient[transactionId=59, clientId=4],ForsetiClient[transactionId=-1, clientId=11]]]\": 1,\n",
              "    \"ForsetiClient[transactionId=70, clientId=7] can't acquire ExclusiveLock{owner=ForsetiClient[transactionId=35, clientId=12]} on NODE_RELATIONSHIP_GROUP_DELETE(45541) because holders of that lock are waiting for ForsetiClient[transactionId=70, clientId=7].\\r\\n Wait list:ExclusiveLock[\\r\\nClient[35] waits for [ForsetiClient[transactionId=70, clientId=7]]]\": 1,\n",
              "    \"ForsetiClient[transactionId=53, clientId=8] can't acquire ExclusiveLock{owner=ForsetiClient[transactionId=56, clientId=11]} on NODE_RELATIONSHIP_GROUP_DELETE(45541) because holders of that lock are waiting for ForsetiClient[transactionId=53, clientId=8].\\r\\n Wait list:ExclusiveLock[\\r\\nClient[56] waits for [ForsetiClient[transactionId=55, clientId=7],ForsetiClient[transactionId=53, clientId=8]]]\": 1,\n",
              "    \"ForsetiClient[transactionId=36, clientId=13] can't acquire ExclusiveLock{owner=ForsetiClient[transactionId=33, clientId=10]} on NODE_RELATIONSHIP_GROUP_DELETE(46809) because holders of that lock are waiting for ForsetiClient[transactionId=36, clientId=13].\\r\\n Wait list:ExclusiveLock[\\r\\nClient[33] waits for [ForsetiClient[transactionId=36, clientId=13]]]\": 1,\n",
              "    \"ForsetiClient[transactionId=52, clientId=16] can't acquire ExclusiveLock{owner=ForsetiClient[transactionId=51, clientId=6]} on NODE_RELATIONSHIP_GROUP_DELETE(50973) because holders of that lock are waiting for ForsetiClient[transactionId=52, clientId=16].\\r\\n Wait list:ExclusiveLock[\\r\\nClient[51] waits for [ForsetiClient[transactionId=52, clientId=16],ForsetiClient[transactionId=63, clientId=17],ForsetiClient[transactionId=-1, clientId=15]]]\": 1,\n",
              "    \"ForsetiClient[transactionId=58, clientId=13] can't acquire ExclusiveLock{owner=ForsetiClient[transactionId=56, clientId=11]} on NODE_RELATIONSHIP_GROUP_DELETE(62794) because holders of that lock are waiting for ForsetiClient[transactionId=58, clientId=13].\\r\\n Wait list:ExclusiveLock[\\r\\nClient[56] waits for [ForsetiClient[transactionId=-1, clientId=17],ForsetiClient[transactionId=35, clientId=12],ForsetiClient[transactionId=58, clientId=13]]]\": 1,\n",
              "    \"ForsetiClient[transactionId=37, clientId=14] can't acquire ExclusiveLock{owner=ForsetiClient[transactionId=36, clientId=13]} on NODE_RELATIONSHIP_GROUP_DELETE(47277) because holders of that lock are waiting for ForsetiClient[transactionId=37, clientId=14].\\r\\n Wait list:ExclusiveLock[\\r\\nClient[36] waits for [ForsetiClient[transactionId=37, clientId=14]]]\": 1,\n",
              "    \"ForsetiClient[transactionId=64, clientId=15] can't acquire ExclusiveLock{owner=ForsetiClient[transactionId=56, clientId=11]} on NODE_RELATIONSHIP_GROUP_DELETE(45541) because holders of that lock are waiting for ForsetiClient[transactionId=64, clientId=15].\\r\\n Wait list:ExclusiveLock[\\r\\nClient[56] waits for [ForsetiClient[transactionId=64, clientId=15]]]\": 1,\n",
              "    \"ForsetiClient[transactionId=27, clientId=4] can't acquire ExclusiveLock{owner=ForsetiClient[transactionId=33, clientId=10]} on NODE_RELATIONSHIP_GROUP_DELETE(50272) because holders of that lock are waiting for ForsetiClient[transactionId=27, clientId=4].\\r\\n Wait list:ExclusiveLock[\\r\\nClient[33] waits for [ForsetiClient[transactionId=27, clientId=4]]]\": 1,\n",
              "    \"ForsetiClient[transactionId=65, clientId=16] can't acquire ExclusiveLock{owner=ForsetiClient[transactionId=56, clientId=11]} on NODE_RELATIONSHIP_GROUP_DELETE(45441) because holders of that lock are waiting for ForsetiClient[transactionId=65, clientId=16].\\r\\n Wait list:ExclusiveLock[\\r\\nClient[56] waits for [ForsetiClient[transactionId=65, clientId=16],ForsetiClient[transactionId=-1, clientId=17],ForsetiClient[transactionId=35, clientId=12],ForsetiClient[transactionId=-1, clientId=13]]]\": 1,\n",
              "    \"ForsetiClient[transactionId=54, clientId=3] can't acquire ExclusiveLock{owner=ForsetiClient[transactionId=35, clientId=12]} on NODE_RELATIONSHIP_GROUP_DELETE(45541) because holders of that lock are waiting for ForsetiClient[transactionId=54, clientId=3].\\r\\n Wait list:ExclusiveLock[\\r\\nClient[35] waits for [ForsetiClient[transactionId=54, clientId=3],ForsetiClient[transactionId=61, clientId=5]]]\": 1,\n",
              "    \"ForsetiClient[transactionId=57, clientId=14] can't acquire ExclusiveLock{owner=ForsetiClient[transactionId=35, clientId=12]} on NODE_RELATIONSHIP_GROUP_DELETE(45599) because holders of that lock are waiting for ForsetiClient[transactionId=57, clientId=14].\\r\\n Wait list:ExclusiveLock[\\r\\nClient[35] waits for [ForsetiClient[transactionId=-1, clientId=16],ForsetiClient[transactionId=57, clientId=14]]]\": 1,\n",
              "    \"ForsetiClient[transactionId=60, clientId=1] can't acquire ExclusiveLock{owner=ForsetiClient[transactionId=35, clientId=12]} on NODE_RELATIONSHIP_GROUP_DELETE(46245) because holders of that lock are waiting for ForsetiClient[transactionId=60, clientId=1].\\r\\n Wait list:ExclusiveLock[\\r\\nClient[35] waits for [ForsetiClient[transactionId=60, clientId=1]]]\": 1,\n",
              "    \"ForsetiClient[transactionId=73, clientId=16] can't acquire ExclusiveLock{owner=ForsetiClient[transactionId=35, clientId=12]} on NODE_RELATIONSHIP_GROUP_DELETE(46030) because holders of that lock are waiting for ForsetiClient[transactionId=73, clientId=16].\\r\\n Wait list:ExclusiveLock[\\r\\nClient[35] waits for [ForsetiClient[transactionId=73, clientId=16]]]\": 1,\n",
              "    \"ForsetiClient[transactionId=25, clientId=1] can't acquire ExclusiveLock{owner=ForsetiClient[transactionId=33, clientId=10]} on NODE_RELATIONSHIP_GROUP_DELETE(45599) because holders of that lock are waiting for ForsetiClient[transactionId=25, clientId=1].\\r\\n Wait list:ExclusiveLock[\\r\\nClient[33] waits for [ForsetiClient[transactionId=25, clientId=1]]]\": 1,\n",
              "    \"ForsetiClient[transactionId=62, clientId=10] can't acquire ExclusiveLock{owner=ForsetiClient[transactionId=51, clientId=6]} on NODE_RELATIONSHIP_GROUP_DELETE(45441) because holders of that lock are waiting for ForsetiClient[transactionId=62, clientId=10].\\r\\n Wait list:ExclusiveLock[\\r\\nClient[51] waits for [ForsetiClient[transactionId=62, clientId=10]]]\": 1,\n",
              "    \"ForsetiClient[transactionId=55, clientId=7] can't acquire ExclusiveLock{owner=ForsetiClient[transactionId=32, clientId=9]} on NODE_RELATIONSHIP_GROUP_DELETE(47193) because holders of that lock are waiting for ForsetiClient[transactionId=55, clientId=7].\\r\\n Wait list:ExclusiveLock[\\r\\nClient[32] waits for [ForsetiClient[transactionId=55, clientId=7],ForsetiClient[transactionId=-1, clientId=8],ForsetiClient[transactionId=56, clientId=11]]]\": 1,\n",
              "    \"ForsetiClient[transactionId=48, clientId=5] can't acquire ExclusiveLock{owner=ForsetiClient[transactionId=33, clientId=10]} on NODE_RELATIONSHIP_GROUP_DELETE(63368) because holders of that lock are waiting for ForsetiClient[transactionId=48, clientId=5].\\r\\n Wait list:ExclusiveLock[\\r\\nClient[33] waits for [ForsetiClient[transactionId=48, clientId=5]]]\": 1,\n",
              "    \"ForsetiClient[transactionId=45, clientId=17] can't acquire ExclusiveLock{owner=ForsetiClient[transactionId=29, clientId=6]} on NODE_RELATIONSHIP_GROUP_DELETE(45602) because holders of that lock are waiting for ForsetiClient[transactionId=45, clientId=17].\\r\\n Wait list:ExclusiveLock[\\r\\nClient[29] waits for [ForsetiClient[transactionId=45, clientId=17],ForsetiClient[transactionId=-1, clientId=18],ForsetiClient[transactionId=34, clientId=11]]]\": 1,\n",
              "    \"ForsetiClient[transactionId=32, clientId=9] can't acquire ExclusiveLock{owner=ForsetiClient[transactionId=35, clientId=12]} on NODE_RELATIONSHIP_GROUP_DELETE(47502) because holders of that lock are waiting for ForsetiClient[transactionId=32, clientId=9].\\r\\n Wait list:ExclusiveLock[\\r\\nClient[35] waits for [ForsetiClient[transactionId=-1, clientId=4],ForsetiClient[transactionId=32, clientId=9],ForsetiClient[transactionId=-1, clientId=11]]]\": 1,\n",
              "    \"ForsetiClient[transactionId=61, clientId=5] can't acquire ExclusiveLock{owner=ForsetiClient[transactionId=35, clientId=12]} on NODE_RELATIONSHIP_GROUP_DELETE(45453) because holders of that lock are waiting for ForsetiClient[transactionId=61, clientId=5].\\r\\n Wait list:ExclusiveLock[\\r\\nClient[35] waits for [ForsetiClient[transactionId=61, clientId=5]]]\": 1,\n",
              "    \"ForsetiClient[transactionId=56, clientId=11] can't acquire ExclusiveLock{owner=ForsetiClient[transactionId=35, clientId=12]} on NODE_RELATIONSHIP_GROUP_DELETE(45599) because holders of that lock are waiting for ForsetiClient[transactionId=56, clientId=11].\\r\\n Wait list:ExclusiveLock[\\r\\nClient[35] waits for [ForsetiClient[transactionId=56, clientId=11]]]\": 1,\n",
              "    \"ForsetiClient[transactionId=49, clientId=18] can't acquire ExclusiveLock{owner=ForsetiClient[transactionId=51, clientId=6]} on NODE_RELATIONSHIP_GROUP_DELETE(45541) because holders of that lock are waiting for ForsetiClient[transactionId=49, clientId=18].\\r\\n Wait list:ExclusiveLock[\\r\\nClient[51] waits for [ForsetiClient[transactionId=49, clientId=18]]]\": 1,\n",
              "    \"ForsetiClient[transactionId=26, clientId=3] can't acquire ExclusiveLock{owner=ForsetiClient[transactionId=34, clientId=11]} on NODE_RELATIONSHIP_GROUP_DELETE(45599) because holders of that lock are waiting for ForsetiClient[transactionId=26, clientId=3].\\r\\n Wait list:ExclusiveLock[\\r\\nClient[34] waits for [ForsetiClient[transactionId=26, clientId=3]]]\": 1,\n",
              "    \"ForsetiClient[transactionId=47, clientId=15] can't acquire ExclusiveLock{owner=ForsetiClient[transactionId=51, clientId=6]} on NODE_RELATIONSHIP_GROUP_DELETE(45441) because holders of that lock are waiting for ForsetiClient[transactionId=47, clientId=15].\\r\\n Wait list:ExclusiveLock[\\r\\nClient[51] waits for [ForsetiClient[transactionId=-1, clientId=17],ForsetiClient[transactionId=47, clientId=15]]]\": 1},\n",
              "   'committed': 9000,\n",
              "   'failed': 37419},\n",
              "  'wasTerminated': False,\n",
              "  'failedParams': {},\n",
              "  'updateStatistics': {'relationshipsDeleted': 0,\n",
              "   'relationshipsCreated': 54369,\n",
              "   'nodesDeleted': 0,\n",
              "   'nodesCreated': 15129,\n",
              "   'labelsRemoved': 0,\n",
              "   'labelsAdded': 15129,\n",
              "   'propertiesSet': 15129}}]"
            ]
          },
          "execution_count": 10,
          "metadata": {},
          "output_type": "execute_result"
        }
      ],
      "source": [
        "keywords_query = f\"\"\"\n",
        "CALL apoc.periodic.iterate(\n",
        "    \"LOAD CSV WITH HEADERS FROM 'file:///keywords.csv' AS row RETURN row\",\n",
        "    \"WITH row, apoc.convert.fromJsonList(row.keywords) AS keywords\n",
        "     UNWIND keywords AS keyword\n",
        "     MERGE (k:Keyword {{name: keyword.name}})\n",
        "     MERGE (m:Movie {{id: row.id}})\n",
        "     MERGE (m)-[:HAS_KEYWORD]->(k)\",\n",
        "    {{batchSize: 1000, parallel: true}}\n",
        ")\n",
        "\"\"\"\n",
        "graph.query(keywords_query)"
      ]
    },
    {
      "cell_type": "code",
      "execution_count": 6,
      "id": "58594007",
      "metadata": {},
      "outputs": [
        {
          "name": "stdout",
          "output_type": "stream",
          "text": [
            "Node properties:\n",
            "Movie {id: STRING, title: STRING, popularity: FLOAT}\n",
            "Keyword {name: STRING}\n",
            "Relationship properties:\n",
            "\n",
            "The relationships:\n",
            "(:Movie)-[:HAS_KEYWORD]->(:Keyword)\n"
          ]
        }
      ],
      "source": [
        "# Update schema\n",
        "graph.refresh_schema()\n",
        "# Print the current schema\n",
        "print(graph.schema)"
      ]
    },
    {
      "cell_type": "code",
      "execution_count": 7,
      "id": "d0c0ba81",
      "metadata": {},
      "outputs": [
        {
          "name": "stderr",
          "output_type": "stream",
          "text": [
            "Received notification from DBMS server: {severity: WARNING} {code: Neo.ClientNotification.Statement.FeatureDeprecationWarning} {category: DEPRECATION} {title: This feature is deprecated and will be removed in future versions.} {description: The procedure has a deprecated field. ('config' used by 'apoc.meta.graphSample' is deprecated.)} {position: line: 1, column: 1, offset: 0} for query: \"CALL apoc.meta.graphSample() YIELD nodes, relationships RETURN nodes, [rel in relationships | {name:apoc.any.property(rel, 'type'), count: apoc.any.property(rel, 'count')}] AS relationships\"\n"
          ]
        },
        {
          "name": "stdout",
          "output_type": "stream",
          "text": [
            "Node properties:\n",
            "- **Movie**\n",
            "  - `id`: STRING Example: \"862\"\n",
            "  - `title`: STRING Example: \"Toy Story\"\n",
            "  - `popularity`: FLOAT Example: \"21.946943\"\n",
            "- **Keyword**\n",
            "  - `name`: STRING Example: \"terror\"\n",
            "Relationship properties:\n",
            "\n",
            "The relationships:\n",
            "(:Movie)-[:HAS_KEYWORD]->(:Keyword)\n"
          ]
        }
      ],
      "source": [
        "enhanced_graph = Neo4jGraph(enhanced_schema=True)\n",
        "print(enhanced_graph.schema)"
      ]
    },
    {
      "cell_type": "code",
      "execution_count": 9,
      "id": "07c0ba87",
      "metadata": {},
      "outputs": [
        {
          "name": "stdout",
          "output_type": "stream",
          "text": [
            "\n",
            "\n",
            "\u001b[1m> Entering new GraphCypherQAChain chain...\u001b[0m\n",
            "Generated Cypher:\n",
            "\u001b[32;1m\u001b[1;3mcypher\n",
            "MATCH (m:Movie)-[:HAS_KEYWORD]->(k:Keyword {name: 'comedy'})\n",
            "WHERE m.popularity > 8.0\n",
            "RETURN m.title\n",
            "\u001b[0m\n",
            "Full Context:\n",
            "\u001b[32;1m\u001b[1;3m[{'m.title': 'Ratchet & Clank'}, {'m.title': 'Kick-Ass'}, {'m.title': 'Jackass 3D'}, {'m.title': 'Ratchet & Clank'}, {'m.title': 'Ratchet & Clank'}, {'m.title': 'Aliens in the Attic'}, {'m.title': 'Ratchet & Clank'}, {'m.title': \"A Dog's Will\"}, {'m.title': 'Ratchet & Clank'}, {'m.title': 'Ratchet & Clank'}]\u001b[0m\n",
            "\n",
            "\u001b[1m> Finished chain.\u001b[0m\n"
          ]
        },
        {
          "data": {
            "text/plain": [
              "{'query': \"What movies have a popularity score above 8.0 and are tagged with 'comedy'?\",\n",
              " 'result': \"Ratchet & Clank, Kick-Ass, Jackass 3D, Aliens in the Attic, A Dog's Will have a popularity score above 8.0 and are tagged with 'comedy'.\"}"
            ]
          },
          "execution_count": 9,
          "metadata": {},
          "output_type": "execute_result"
        }
      ],
      "source": [
        "from langchain_neo4j import GraphCypherQAChain\n",
        "from langchain_openai import ChatOpenAI\n",
        "\n",
        "llm = ChatOpenAI(model=\"gpt-4o\", temperature=0)\n",
        "chain = GraphCypherQAChain.from_llm(\n",
        "    graph=enhanced_graph, llm=llm, verbose=True, allow_dangerous_requests=True\n",
        ")\n",
        "\n",
        "response = chain.invoke(\n",
        "    {\n",
        "        \"query\": \"What movies have a popularity score above 8.0 and are tagged with 'comedy'?\"\n",
        "    }\n",
        ")\n",
        "response"
      ]
    },
    {
      "cell_type": "markdown",
      "id": "f06be217",
      "metadata": {},
      "source": [
        "Let's try running a few more simple example queries."
      ]
    },
    {
      "cell_type": "code",
      "execution_count": 12,
      "id": "5deb971c",
      "metadata": {},
      "outputs": [
        {
          "name": "stdout",
          "output_type": "stream",
          "text": [
            "\n",
            "\n",
            "\u001b[1m> Entering new GraphCypherQAChain chain...\u001b[0m\n",
            "Generated Cypher:\n",
            "\u001b[32;1m\u001b[1;3mcypher\n",
            "MATCH (m:Movie)-[:HAS_KEYWORD]->(k:Keyword {name: 'romance'})\n",
            "RETURN avg(m.popularity) AS average_popularity\n",
            "\u001b[0m\n",
            "Full Context:\n",
            "\u001b[32;1m\u001b[1;3m[{'average_popularity': 12.390850747422673}]\u001b[0m\n",
            "\n",
            "\u001b[1m> Finished chain.\u001b[0m\n"
          ]
        },
        {
          "data": {
            "text/plain": [
              "{'query': \"What is the average popularity score of movies tagged with 'romance'?\",\n",
              " 'result': \"The average popularity score of movies tagged with 'romance' is 12.390850747422673.\"}"
            ]
          },
          "execution_count": 12,
          "metadata": {},
          "output_type": "execute_result"
        }
      ],
      "source": [
        "response = chain.invoke(\n",
        "    {\"query\": \"What is the average popularity score of movies tagged with 'romance'?\"}\n",
        ")\n",
        "\n",
        "response"
      ]
    },
    {
      "cell_type": "code",
      "execution_count": 13,
      "id": "aa768a27",
      "metadata": {},
      "outputs": [
        {
          "name": "stdout",
          "output_type": "stream",
          "text": [
            "\n",
            "\n",
            "\u001b[1m> Entering new GraphCypherQAChain chain...\u001b[0m\n",
            "Generated Cypher:\n",
            "\u001b[32;1m\u001b[1;3mcypher\n",
            "MATCH (m:Movie)-[:HAS_KEYWORD]->(k1:Keyword {name: 'comedy'}),\n",
            "      (m)-[:HAS_KEYWORD]->(k2:Keyword {name: 'romance'})\n",
            "RETURN m.title\n",
            "\u001b[0m\n",
            "Full Context:\n",
            "\u001b[32;1m\u001b[1;3m[{'m.title': 'Lisbela and the Prisoner'}, {'m.title': 'Lisbela and the Prisoner'}, {'m.title': 'Lisbela and the Prisoner'}, {'m.title': 'Lisbela and the Prisoner'}, {'m.title': 'Lisbela and the Prisoner'}, {'m.title': 'Lisbela and the Prisoner'}, {'m.title': 'Love Hina Christmas Special: Silent Eve'}, {'m.title': 'Love Is in the Air'}, {'m.title': 'Love Is in the Air'}, {'m.title': 'Love Is in the Air'}]\u001b[0m\n",
            "\n",
            "\u001b[1m> Finished chain.\u001b[0m\n"
          ]
        },
        {
          "data": {
            "text/plain": [
              "{'query': \"What movies are tagged with both 'comedy' and 'romance'?\",\n",
              " 'result': \"Lisbela and the Prisoner, Love Hina Christmas Special: Silent Eve, Love Is in the Air are tagged with both 'comedy' and 'romance'.\"}"
            ]
          },
          "execution_count": 13,
          "metadata": {},
          "output_type": "execute_result"
        }
      ],
      "source": [
        "response = chain.invoke(\n",
        "    {\"query\": \"What movies are tagged with both 'comedy' and 'romance'?\"}\n",
        ")\n",
        "\n",
        "response"
      ]
    }
  ],
  "metadata": {
    "kernelspec": {
      "display_name": ".venv",
      "language": "python",
      "name": "python3"
    },
    "language_info": {
      "codemirror_mode": {
        "name": "ipython",
        "version": 3
      },
      "file_extension": ".py",
      "mimetype": "text/x-python",
      "name": "python",
      "nbconvert_exporter": "python",
      "pygments_lexer": "ipython3",
      "version": "3.11.11"
    }
  },
  "nbformat": 4,
  "nbformat_minor": 5
}
